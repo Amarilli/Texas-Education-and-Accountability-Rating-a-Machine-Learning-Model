{
 "cells": [
  {
   "cell_type": "code",
   "execution_count": 54,
   "metadata": {},
   "outputs": [],
   "source": [
    "from pymongo import MongoClient\n",
    "import pandas as pd\n",
    "import numpy as np\n",
    "from sklearn.model_selection import train_test_split\n",
    "from sklearn.preprocessing import StandardScaler, LabelEncoder\n",
    "import tensorflow as tf\n",
    "from tensorflow.keras.models import Sequential, load_model\n",
    "from tensorflow.keras.layers import Dense, Input"
   ]
  },
  {
   "cell_type": "code",
   "execution_count": null,
   "metadata": {},
   "outputs": [],
   "source": [
    "# Connect to MongoDB\n",
    "mongo = MongoClient(port=27017)\n",
    "\n",
    "# List all databases and highlight the specific one\n",
    "for dbname in mongo.list_database_names():\n",
    "    if dbname == \"texasSchoolsDB\":\n",
    "        print(f'{dbname} <----------')\n",
    "    else:\n",
    "        print(dbname)"
   ]
  },
  {
   "cell_type": "code",
   "execution_count": 56,
   "metadata": {},
   "outputs": [],
   "source": [
    "\n",
    "# Set the database and collection\n",
    "db = mongo[\"texasSchoolsDB\"]\n",
    "collection = db[\"NN_model\"]"
   ]
  },
  {
   "cell_type": "code",
   "execution_count": 57,
   "metadata": {},
   "outputs": [
    {
     "data": {
      "text/html": [
       "<div>\n",
       "<style scoped>\n",
       "    .dataframe tbody tr th:only-of-type {\n",
       "        vertical-align: middle;\n",
       "    }\n",
       "\n",
       "    .dataframe tbody tr th {\n",
       "        vertical-align: top;\n",
       "    }\n",
       "\n",
       "    .dataframe thead th {\n",
       "        text-align: right;\n",
       "    }\n",
       "</style>\n",
       "<table border=\"1\" class=\"dataframe\">\n",
       "  <thead>\n",
       "    <tr style=\"text-align: right;\">\n",
       "      <th></th>\n",
       "      <th>DISTRICT NAME</th>\n",
       "      <th>TOTAL STUDENTS</th>\n",
       "      <th>DISTRICT ACCOUNTABILITY RATINGS</th>\n",
       "      <th>4-YR LONGITUDINAL GRADUATION RATE DISTRICT EXCL</th>\n",
       "      <th>STAAR: % ELA/READING AT APPROACHES GRADE LEVEL STANDARD OR ABOVE</th>\n",
       "      <th>STAAR: % ELA/READING AT MEETS GRADE LEVEL STANDARD OR ABOVE</th>\n",
       "      <th>STAAR: % ELA/READING AT MASTERS GRADE LEVEL STANDARD</th>\n",
       "      <th>STAAR: % MATHEMATICS AT APPROACHES GRADE LEVEL STANDARD OR ABOVE</th>\n",
       "      <th>STAAR: % MATHEMATICS AT MEETS GRADE LEVEL STANDARD OR ABOVE</th>\n",
       "      <th>STAAR: % MATHEMATICS AT MASTERS GRADE LEVEL STANDARD</th>\n",
       "      <th>COLLEGE ADMISSIONS: % TESTED</th>\n",
       "      <th>COLLEGE ADMISSIONS: % AT/ABOVE CRITERION</th>\n",
       "    </tr>\n",
       "  </thead>\n",
       "  <tbody>\n",
       "    <tr>\n",
       "      <th>0</th>\n",
       "      <td>CAYUGA ISD</td>\n",
       "      <td>574</td>\n",
       "      <td>A</td>\n",
       "      <td>100.0</td>\n",
       "      <td>81.0</td>\n",
       "      <td>67.0</td>\n",
       "      <td>39.0</td>\n",
       "      <td>88.0</td>\n",
       "      <td>65.0</td>\n",
       "      <td>34.0</td>\n",
       "      <td>58.3</td>\n",
       "      <td>19.0</td>\n",
       "    </tr>\n",
       "    <tr>\n",
       "      <th>1</th>\n",
       "      <td>ELKHART ISD</td>\n",
       "      <td>1150</td>\n",
       "      <td>A</td>\n",
       "      <td>100.0</td>\n",
       "      <td>85.0</td>\n",
       "      <td>64.0</td>\n",
       "      <td>34.0</td>\n",
       "      <td>84.0</td>\n",
       "      <td>49.0</td>\n",
       "      <td>23.0</td>\n",
       "      <td>51.6</td>\n",
       "      <td>27.7</td>\n",
       "    </tr>\n",
       "    <tr>\n",
       "      <th>2</th>\n",
       "      <td>FRANKSTON ISD</td>\n",
       "      <td>808</td>\n",
       "      <td>A</td>\n",
       "      <td>95.2</td>\n",
       "      <td>84.0</td>\n",
       "      <td>63.0</td>\n",
       "      <td>24.0</td>\n",
       "      <td>85.0</td>\n",
       "      <td>57.0</td>\n",
       "      <td>26.0</td>\n",
       "      <td>92.7</td>\n",
       "      <td>36.8</td>\n",
       "    </tr>\n",
       "    <tr>\n",
       "      <th>3</th>\n",
       "      <td>NECHES ISD</td>\n",
       "      <td>342</td>\n",
       "      <td>A</td>\n",
       "      <td>95.8</td>\n",
       "      <td>87.0</td>\n",
       "      <td>67.0</td>\n",
       "      <td>30.0</td>\n",
       "      <td>94.0</td>\n",
       "      <td>69.0</td>\n",
       "      <td>27.0</td>\n",
       "      <td>87.0</td>\n",
       "      <td>15.0</td>\n",
       "    </tr>\n",
       "    <tr>\n",
       "      <th>4</th>\n",
       "      <td>PALESTINE ISD</td>\n",
       "      <td>3360</td>\n",
       "      <td>B</td>\n",
       "      <td>99.0</td>\n",
       "      <td>72.0</td>\n",
       "      <td>48.0</td>\n",
       "      <td>20.0</td>\n",
       "      <td>75.0</td>\n",
       "      <td>44.0</td>\n",
       "      <td>20.0</td>\n",
       "      <td>43.3</td>\n",
       "      <td>49.4</td>\n",
       "    </tr>\n",
       "  </tbody>\n",
       "</table>\n",
       "</div>"
      ],
      "text/plain": [
       "   DISTRICT NAME  TOTAL STUDENTS DISTRICT ACCOUNTABILITY RATINGS  \\\n",
       "0     CAYUGA ISD             574                               A   \n",
       "1    ELKHART ISD            1150                               A   \n",
       "2  FRANKSTON ISD             808                               A   \n",
       "3     NECHES ISD             342                               A   \n",
       "4  PALESTINE ISD            3360                               B   \n",
       "\n",
       "   4-YR LONGITUDINAL GRADUATION RATE DISTRICT EXCL  \\\n",
       "0                                            100.0   \n",
       "1                                            100.0   \n",
       "2                                             95.2   \n",
       "3                                             95.8   \n",
       "4                                             99.0   \n",
       "\n",
       "   STAAR: % ELA/READING AT APPROACHES GRADE LEVEL STANDARD OR ABOVE  \\\n",
       "0                                               81.0                  \n",
       "1                                               85.0                  \n",
       "2                                               84.0                  \n",
       "3                                               87.0                  \n",
       "4                                               72.0                  \n",
       "\n",
       "   STAAR: % ELA/READING AT MEETS GRADE LEVEL STANDARD OR ABOVE  \\\n",
       "0                                               67.0             \n",
       "1                                               64.0             \n",
       "2                                               63.0             \n",
       "3                                               67.0             \n",
       "4                                               48.0             \n",
       "\n",
       "   STAAR: % ELA/READING AT MASTERS GRADE LEVEL STANDARD  \\\n",
       "0                                               39.0      \n",
       "1                                               34.0      \n",
       "2                                               24.0      \n",
       "3                                               30.0      \n",
       "4                                               20.0      \n",
       "\n",
       "   STAAR: % MATHEMATICS AT APPROACHES GRADE LEVEL STANDARD OR ABOVE  \\\n",
       "0                                               88.0                  \n",
       "1                                               84.0                  \n",
       "2                                               85.0                  \n",
       "3                                               94.0                  \n",
       "4                                               75.0                  \n",
       "\n",
       "   STAAR: % MATHEMATICS AT MEETS GRADE LEVEL STANDARD OR ABOVE  \\\n",
       "0                                               65.0             \n",
       "1                                               49.0             \n",
       "2                                               57.0             \n",
       "3                                               69.0             \n",
       "4                                               44.0             \n",
       "\n",
       "   STAAR: % MATHEMATICS AT MASTERS GRADE LEVEL STANDARD  \\\n",
       "0                                               34.0      \n",
       "1                                               23.0      \n",
       "2                                               26.0      \n",
       "3                                               27.0      \n",
       "4                                               20.0      \n",
       "\n",
       "   COLLEGE ADMISSIONS: % TESTED  COLLEGE ADMISSIONS: % AT/ABOVE CRITERION  \n",
       "0                          58.3                                      19.0  \n",
       "1                          51.6                                      27.7  \n",
       "2                          92.7                                      36.8  \n",
       "3                          87.0                                      15.0  \n",
       "4                          43.3                                      49.4  "
      ]
     },
     "execution_count": 57,
     "metadata": {},
     "output_type": "execute_result"
    }
   ],
   "source": [
    "# Convert MongoDB collection to DataFrame\n",
    "data = list(collection.find({}, {'_id': 0}))\n",
    "NN_modeldf = pd.DataFrame(data)\n",
    "\n",
    "NN_modeldf.head()"
   ]
  },
  {
   "cell_type": "code",
   "execution_count": 58,
   "metadata": {},
   "outputs": [],
   "source": [
    "\n",
    "NN_modeldf.columns = NN_modeldf.columns.str.replace('[^A-Za-z0-9]+', ' ', regex=True).str.strip().str.replace(' ', '_')\n"
   ]
  },
  {
   "cell_type": "code",
   "execution_count": 59,
   "metadata": {},
   "outputs": [],
   "source": [
    "NN_modeldf = NN_modeldf.dropna()"
   ]
  },
  {
   "cell_type": "code",
   "execution_count": 60,
   "metadata": {},
   "outputs": [
    {
     "data": {
      "text/plain": [
       "Index(['DISTRICT_NAME', 'TOTAL_STUDENTS', 'DISTRICT_ACCOUNTABILITY_RATINGS',\n",
       "       '4_YR_LONGITUDINAL_GRADUATION_RATE_DISTRICT_EXCL',\n",
       "       'STAAR_ELA_READING_AT_APPROACHES_GRADE_LEVEL_STANDARD_OR_ABOVE',\n",
       "       'STAAR_ELA_READING_AT_MEETS_GRADE_LEVEL_STANDARD_OR_ABOVE',\n",
       "       'STAAR_ELA_READING_AT_MASTERS_GRADE_LEVEL_STANDARD',\n",
       "       'STAAR_MATHEMATICS_AT_APPROACHES_GRADE_LEVEL_STANDARD_OR_ABOVE',\n",
       "       'STAAR_MATHEMATICS_AT_MEETS_GRADE_LEVEL_STANDARD_OR_ABOVE',\n",
       "       'STAAR_MATHEMATICS_AT_MASTERS_GRADE_LEVEL_STANDARD',\n",
       "       'COLLEGE_ADMISSIONS_TESTED', 'COLLEGE_ADMISSIONS_AT_ABOVE_CRITERION'],\n",
       "      dtype='object')"
      ]
     },
     "execution_count": 60,
     "metadata": {},
     "output_type": "execute_result"
    }
   ],
   "source": [
    "NN_modeldf.columns"
   ]
  },
  {
   "cell_type": "code",
   "execution_count": 63,
   "metadata": {},
   "outputs": [],
   "source": [
    "NN_modeldf = pd.get_dummies(NN_modeldf, columns=['DISTRICT_NAME'])"
   ]
  },
  {
   "cell_type": "code",
   "execution_count": 64,
   "metadata": {},
   "outputs": [],
   "source": [
    "\n",
    "# Prepare features and target\n",
    "X = NN_modeldf.drop(columns=['DISTRICT_ACCOUNTABILITY_RATINGS'])\n",
    "y = NN_modeldf['DISTRICT_ACCOUNTABILITY_RATINGS']"
   ]
  },
  {
   "cell_type": "code",
   "execution_count": 67,
   "metadata": {},
   "outputs": [],
   "source": [
    "\n",
    "# Split the data\n",
    "X_train, X_test, y_train, y_test = train_test_split(X, y, test_size=0.2, random_state=42, stratify=y)\n",
    "\n",
    "# Initialize and fit the LabelEncoder and StandardScaler\n",
    "label_encoder = LabelEncoder()\n",
    "y_train_encoded = label_encoder.fit_transform(y_train)\n",
    "y_test_encoded = label_encoder.transform(y_test)\n",
    "\n",
    "scaler = StandardScaler()\n",
    "X_train_scaled = scaler.fit_transform(X_train)\n",
    "X_test_scaled = scaler.transform(X_test)\n",
    "\n",
    "# Define the model using the Input layer\n",
    "model = Sequential([\n",
    "    Input(shape=(1051,)), \n",
    "    Dense(80, activation=\"relu\"),\n",
    "    Dense(100, activation='relu'),\n",
    "    Dense(50, activation='relu'),\n",
    "    Dense(10, activation='relu'),\n",
    "    Dense(1, activation='sigmoid')\n",
    "])\n",
    "\n",
    "# Compile the model\n",
    "model.compile(optimizer='adam', loss='mse', metrics=['accuracy'])\n",
    "\n",
    "\n"
   ]
  },
  {
   "cell_type": "code",
   "execution_count": 68,
   "metadata": {},
   "outputs": [
    {
     "name": "stdout",
     "output_type": "stream",
     "text": [
      "(840, 1051)\n"
     ]
    }
   ],
   "source": [
    "print(X_train_scaled.shape)  # Check the shape of the training data\n"
   ]
  },
  {
   "cell_type": "code",
   "execution_count": 69,
   "metadata": {},
   "outputs": [
    {
     "name": "stdout",
     "output_type": "stream",
     "text": [
      "Epoch 1/10\n",
      "\u001b[1m21/21\u001b[0m \u001b[32m━━━━━━━━━━━━━━━━━━━━\u001b[0m\u001b[37m\u001b[0m \u001b[1m1s\u001b[0m 4ms/step - accuracy: 0.5301 - loss: 0.7473 - val_accuracy: 0.5060 - val_loss: 0.7218\n",
      "Epoch 2/10\n",
      "\u001b[1m21/21\u001b[0m \u001b[32m━━━━━━━━━━━━━━━━━━━━\u001b[0m\u001b[37m\u001b[0m \u001b[1m0s\u001b[0m 2ms/step - accuracy: 0.5757 - loss: 0.7878 - val_accuracy: 0.5595 - val_loss: 0.6454\n",
      "Epoch 3/10\n",
      "\u001b[1m21/21\u001b[0m \u001b[32m━━━━━━━━━━━━━━━━━━━━\u001b[0m\u001b[37m\u001b[0m \u001b[1m0s\u001b[0m 2ms/step - accuracy: 0.7335 - loss: 0.6823 - val_accuracy: 0.6310 - val_loss: 0.5948\n",
      "Epoch 4/10\n",
      "\u001b[1m21/21\u001b[0m \u001b[32m━━━━━━━━━━━━━━━━━━━━\u001b[0m\u001b[37m\u001b[0m \u001b[1m0s\u001b[0m 2ms/step - accuracy: 0.8352 - loss: 0.6787 - val_accuracy: 0.6250 - val_loss: 0.5706\n",
      "Epoch 5/10\n",
      "\u001b[1m21/21\u001b[0m \u001b[32m━━━━━━━━━━━━━━━━━━━━\u001b[0m\u001b[37m\u001b[0m \u001b[1m0s\u001b[0m 2ms/step - accuracy: 0.8783 - loss: 0.5192 - val_accuracy: 0.6310 - val_loss: 0.5760\n",
      "Epoch 6/10\n",
      "\u001b[1m21/21\u001b[0m \u001b[32m━━━━━━━━━━━━━━━━━━━━\u001b[0m\u001b[37m\u001b[0m \u001b[1m0s\u001b[0m 5ms/step - accuracy: 0.8798 - loss: 0.5179 - val_accuracy: 0.6310 - val_loss: 0.5750\n",
      "Epoch 7/10\n",
      "\u001b[1m21/21\u001b[0m \u001b[32m━━━━━━━━━━━━━━━━━━━━\u001b[0m\u001b[37m\u001b[0m \u001b[1m0s\u001b[0m 2ms/step - accuracy: 0.8967 - loss: 0.4598 - val_accuracy: 0.6250 - val_loss: 0.5758\n",
      "Epoch 8/10\n",
      "\u001b[1m21/21\u001b[0m \u001b[32m━━━━━━━━━━━━━━━━━━━━\u001b[0m\u001b[37m\u001b[0m \u001b[1m0s\u001b[0m 2ms/step - accuracy: 0.8853 - loss: 0.3807 - val_accuracy: 0.6310 - val_loss: 0.5776\n",
      "Epoch 9/10\n",
      "\u001b[1m21/21\u001b[0m \u001b[32m━━━━━━━━━━━━━━━━━━━━\u001b[0m\u001b[37m\u001b[0m \u001b[1m0s\u001b[0m 3ms/step - accuracy: 0.9052 - loss: 0.5092 - val_accuracy: 0.6310 - val_loss: 0.5788\n",
      "Epoch 10/10\n",
      "\u001b[1m21/21\u001b[0m \u001b[32m━━━━━━━━━━━━━━━━━━━━\u001b[0m\u001b[37m\u001b[0m \u001b[1m0s\u001b[0m 2ms/step - accuracy: 0.9032 - loss: 0.4987 - val_accuracy: 0.6310 - val_loss: 0.5790\n"
     ]
    },
    {
     "data": {
      "text/plain": [
       "<keras.src.callbacks.history.History at 0x306692a10>"
      ]
     },
     "execution_count": 69,
     "metadata": {},
     "output_type": "execute_result"
    }
   ],
   "source": [
    "# Now the model is ready to be trained\n",
    "model.fit(X_train_scaled, y_train_encoded, epochs=10, batch_size=32, validation_split=0.2)"
   ]
  },
  {
   "cell_type": "code",
   "execution_count": 70,
   "metadata": {},
   "outputs": [
    {
     "name": "stdout",
     "output_type": "stream",
     "text": [
      "7/7 - 0s - 4ms/step - accuracy: 0.7251 - loss: 0.5850\n",
      "Loss: 0.5849823355674744, Accuracy: 0.7251184582710266\n"
     ]
    }
   ],
   "source": [
    "# Evaluate the model\n",
    "model_loss, model_accuracy = model.evaluate(X_test_scaled, y_test_encoded, verbose=2)\n",
    "print(f\"Loss: {model_loss}, Accuracy: {model_accuracy}\")"
   ]
  },
  {
   "cell_type": "code",
   "execution_count": null,
   "metadata": {},
   "outputs": [],
   "source": [
    "\n",
    "\n",
    "# Save the trained model\n",
    "model.save(\"ISD_Accountability.keras\")"
   ]
  }
 ],
 "metadata": {
  "kernelspec": {
   "display_name": "base",
   "language": "python",
   "name": "python3"
  },
  "language_info": {
   "codemirror_mode": {
    "name": "ipython",
    "version": 3
   },
   "file_extension": ".py",
   "mimetype": "text/x-python",
   "name": "python",
   "nbconvert_exporter": "python",
   "pygments_lexer": "ipython3",
   "version": "3.11.5"
  }
 },
 "nbformat": 4,
 "nbformat_minor": 2
}
