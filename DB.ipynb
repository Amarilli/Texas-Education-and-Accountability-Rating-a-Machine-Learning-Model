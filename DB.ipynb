{
 "cells": [
  {
   "cell_type": "code",
   "execution_count": 1,
   "metadata": {},
   "outputs": [
    {
     "data": {
      "text/plain": [
       "'\\nmongoimport --type json -d texasSchoolsDB -c scores_finances --drop --jsonArray scores_finances.json\\nmongoimport --type json -d texasSchoolsDB -c school-info --drop --jsonArray texas-school.json\\n'"
      ]
     },
     "execution_count": 1,
     "metadata": {},
     "output_type": "execute_result"
    }
   ],
   "source": [
    "# in terminal\n",
    "'''\n",
    "mongoimport --type json -d texasSchoolsDB -c scores_finances --drop --jsonArray scores_finances.json\n",
    "mongoimport --type json -d texasSchoolsDB -c scores_finances_coordinates --drop --jsonArray finance_scores_coordinates.json\n",
    "mongoimport --type json -d texasSchoolsDB -c school_info --drop --jsonArray texas-school.json\n",
    "mongoimport --type json -d texasSchoolsDB -c coordinates --drop --jsonArray finance_coordinates.json\n",
    "jq --compact-output \".features\"  boundaries.geojson | mongoimport --db texasSchoolsDB -c current_districts_geojson --jsonArray\n",
    "jq --compact-output \".features\" Schools_2022_to_2023.geojson | mongoimport --db texasSchoolsDB -c schools_2022_to_2023_geojson --jsonArray\n",
    "NEW CSVs FOR PROJECT 4 IMPORTED WITH MONGODB COMPASS TO HANDLE VAST AMOUNTS OF COLUMNS TO INSURE PROPER IMPORTING OF DATA TYPES\n",
    "    - import demographic20.21.csv in MongoDB Compass with collection name \"demographic20_21\", verify all datatypes are correct before importing\n",
    "    - import DISTRICTS_INFO_2020.21.csv in MongoDB Compass with collection name \"DISTRICTS_INFO_2020_21\", verify all datatypes are correct before importing\n",
    "    - import staar20.21.cleaned.csv in MongoDB Compass with collection name \"staar20_21\", verify all datatypes are correct before importing\n",
    "    - import teachers_scores20_21.csv in MongoDB Compass with collection name \"teachers20_21\", verify all datatypes are correct before importing\n",
    "    - import tor20.21.csv in MongoDB Compass with collection name \"tor20_21\", verify all datatypes are correct before importing\n",
    "'''"
   ]
  },
  {
   "cell_type": "code",
   "execution_count": 1,
   "metadata": {},
   "outputs": [],
   "source": [
    "from pymongo import MongoClient\n",
    "import pandas as pd"
   ]
  },
  {
   "cell_type": "code",
   "execution_count": 2,
   "metadata": {},
   "outputs": [],
   "source": [
    "mongo = MongoClient(port=27017)"
   ]
  },
  {
   "cell_type": "code",
   "execution_count": 3,
   "metadata": {},
   "outputs": [
    {
     "name": "stdout",
     "output_type": "stream",
     "text": [
      "admin\n",
      "autosaurus\n",
      "classDB\n",
      "config\n",
      "epa\n",
      "fruits_db\n",
      "gardenDB\n",
      "local\n",
      "met\n",
      "petsitly_marketing\n",
      "texasSchoolsDB <----------\n",
      "travel_db\n",
      "uk_food\n"
     ]
    }
   ],
   "source": [
    "for dbname in mongo.list_database_names():\n",
    "    if dbname == \"texasSchoolsDB\":\n",
    "        print(f'{dbname} <----------')\n",
    "    else:\n",
    "        print(dbname)"
   ]
  },
  {
   "cell_type": "code",
   "execution_count": 4,
   "metadata": {},
   "outputs": [],
   "source": [
    "db = mongo[\"texasSchoolsDB\"]"
   ]
  },
  {
   "cell_type": "code",
   "execution_count": 5,
   "metadata": {},
   "outputs": [
    {
     "data": {
      "text/plain": [
       "['schools_2022_to_2023_geojson',\n",
       " 'staar20_21',\n",
       " 'coordinates',\n",
       " 'DISTRICTS_INFO_2020_21',\n",
       " 'scores_finances_coordinates',\n",
       " 'scores_finances',\n",
       " 'current_districts_geojson',\n",
       " 'demographic20_21',\n",
       " 'school_info']"
      ]
     },
     "execution_count": 5,
     "metadata": {},
     "output_type": "execute_result"
    }
   ],
   "source": [
    "db.list_collection_names()"
   ]
  },
  {
   "cell_type": "code",
   "execution_count": 47,
   "metadata": {},
   "outputs": [],
   "source": [
    "collection = db.DISTRICTS_INFO_2020_21"
   ]
  },
  {
   "cell_type": "code",
   "execution_count": 48,
   "metadata": {},
   "outputs": [
    {
     "data": {
      "text/plain": [
       "_id                                                                                 object\n",
       "DISTRICT NAME                                                                       object\n",
       "DISTRICT NUMBER                                                                      int64\n",
       "COUNTY NUMBER AND NAME                                                              object\n",
       "EDUCATION SERVICE CENTER REGION                                                      int64\n",
       "DISTRICT ACCOUNTABILITY RATINGS                                                     object\n",
       "TOTAL NUMBER OF SCHOOLS                                                              int64\n",
       "TOTAL STUDENTS                                                                       int64\n",
       "STUDENTS: % AFRICAN AMERICAN                                                       float64\n",
       "STUDENTS: % HISPANIC                                                               float64\n",
       "STUDENTS: % WHITE                                                                  float64\n",
       "STUDENTS: % AMERICAN INDIAN                                                        float64\n",
       "STUDENTS: % ASIAN                                                                  float64\n",
       "STUDENTS: % PACIFIC ISLANDER                                                       float64\n",
       "STUDENTS: % TWO OR MORE RACES                                                      float64\n",
       "STUDENTS: % ECONOMICALLY DISADVANTAGED                                             float64\n",
       "STUDENTS: % ENGLISH LEARNERS (EL)                                                  float64\n",
       "STUDENTS: % SPECIAL EDUCATION                                                      float64\n",
       "STUDENTS: % BILINGUAL/ESL EDUCATION                                                float64\n",
       "STUDENTS: % CAREER & TECHNICAL EDUCATION                                           float64\n",
       "STUDENTS: % GIFTED & TALENTED EDUCATION                                            float64\n",
       "ATTENDANCE RATE (2020-21)                                                          float64\n",
       "ANNUAL DROPOUT RATE GR                                                              object\n",
       "4-YR LONGITUDINAL GRADUATION RATE (CLASS OF 2021) DISTRICT EXCL                    float64\n",
       "5-YR LONGITUDINAL GRADUATION RATE (CLASS OF 2020) DISTRICT EXCL                    float64\n",
       " 6-YR LONGITUDINAL GRADUATION RATE (CLASS OF 2019) DISTRICT EXCL                   float64\n",
       "ANNUAL GRADUATE COUNT (2020-21)                                                    float64\n",
       "ANNUAL RHSP/DAP/FHSP-E/FHSP-DLA GRADUATE COUNT (2020-21)                           float64\n",
       "STAAR: % ALL SUBJECTS AT APPROACHES GRADE LEVEL STANDARD OR ABOVE                  float64\n",
       "STAAR: % ALL SUBJECTS AT MEETS GRADE LEVEL STANDARD OR ABOVE                       float64\n",
       "STAAR: % ALL SUBJECTS AT MASTERS GRADE LEVEL STANDARD                              float64\n",
       "STAAR: % ELA/READING AT APPROACHES GRADE LEVEL STANDARD OR ABOVE                   float64\n",
       "STAAR: % ELA/READING AT MEETS GRADE LEVEL STANDARD OR ABOVE                        float64\n",
       "STAAR: % ELA/READING AT MASTERS GRADE LEVEL STANDARD                               float64\n",
       "STAAR: % MATHEMATICS AT APPROACHES GRADE LEVEL STANDARD OR ABOVE                   float64\n",
       "STAAR: % MATHEMATICS AT MEETS GRADE LEVEL STANDARD OR ABOVE                        float64\n",
       "STAAR: % MATHEMATICS AT MASTERS GRADE LEVEL STANDARD                               float64\n",
       "STAAR: % SCIENCE AT APPROACHES GRADE LEVEL STANDARD OR ABOVE                       float64\n",
       "STAAR: % SCIENCE AT MEETS GRADE LEVEL STANDARD OR ABOVE                            float64\n",
       "STAAR: % SCIENCE AT MASTERS GRADE LEVEL STANDARD                                   float64\n",
       "STAAR: % SOCIAL STUDIES AT APPROACHES GRADE LEVEL STANDARD OR ABOVE                float64\n",
       " STAAR: % SOCIAL STUDIES AT MEETS GRADE LEVEL STANDARD OR ABOVE                    float64\n",
       "STAAR: % SOCIAL STUDIES AT MASTERS GRADE LEVEL STANDARD                            float64\n",
       " STAAR: % AFRICAN AMERICAN AT APPROACHES GRADE LEVEL STANDARD OR ABOVE             float64\n",
       "STAAR: % AFRICAN AMERICAN AT MEETS GRADE LEVEL STANDARD OR ABOVE                   float64\n",
       "STAAR: % AFRICAN AMERICAN AT MASTERS GRADE LEVEL STANDARD                          float64\n",
       "STAAR: % HISPANIC AT APPROACHES GRADE LEVEL STANDARD OR ABOVE                      float64\n",
       "STAAR: % HISPANIC AT MEETS GRADE LEVEL STANDARD OR ABOVE                           float64\n",
       "STAAR: % HISPANIC AT MASTERS GRADE LEVEL STANDARD                                  float64\n",
       "STAAR: % WHITE AT APPROACHES GRADE LEVEL STANDARD OR ABOVE                         float64\n",
       "STAAR: % WHITE AT MEETS GRADE LEVEL STANDARD OR ABOVE                              float64\n",
       "STAAR: % WHITE AT MASTERS GRADE LEVEL STANDARD                                     float64\n",
       "STAAR: % ASIAN AT APPROACHES GRADE LEVEL STANDARD OR ABOVE                         float64\n",
       "STAAR: % ASIAN AT MEETS GRADE LEVEL STANDARD OR ABOVE                              float64\n",
       "STAAR: % ASIAN AT MASTERS GRADE LEVEL STANDARD                                     float64\n",
       "STAAR: % TWO OR MORE RACES AT APPROACHES GRADE LEVEL STANDARD OR ABOVE             float64\n",
       "STAAR: % TWO OR MORE RACES AT MEETS GRADE LEVEL STANDARD OR ABOVE                  float64\n",
       " STAAR: % TWO OR MORE RACES AT MASTERS GRADE LEVEL STANDARD                        float64\n",
       "STAAR: % ECONOMICALLY DISADVANTAGED AT APPROACHES GRADE LEVEL STANDARD OR ABOVE    float64\n",
       "STAAR: % ECONOMICALLY DISADVANTAGED AT MEETS GRADE LEVEL STANDARD OR ABOVE         float64\n",
       "STAAR: % ECONOMICALLY DISADVANTAGED AT MASTERS GRADE LEVEL STANDARD                float64\n",
       "COLLEGE ADMISSIONS: % TESTED (2020-2021)                                           float64\n",
       "COLLEGE ADMISSIONS: % AT/ABOVE CRITERION (2020-2021)                               float64\n",
       "SAT-AVERAGE SCORE (2021-2020)                                                      float64\n",
       "TOTAL STAFF FTE                                                                    float64\n",
       "TOTAL TEACHER FTE                                                                  float64\n",
       "STAFF: % CENTRAL ADMINISTRATIVE                                                    float64\n",
       "STAFF: % SCHOOL ADMINISTRATIVE                                                     float64\n",
       "STAFF: % PROFESSIONAL SUPPORT                                                      float64\n",
       "STAFF: % TEACHERS                                                                  float64\n",
       "STAFF: % EDUCATIONAL AIDES                                                         float64\n",
       "STAFF: % AUXILIARY                                                                 float64\n",
       "AVERAGE SALARY: CENTRAL ADMINISTRATIVE                                             float64\n",
       "AVERAGE SALARY: SCHOOL ADMINISTRATIVE                                              float64\n",
       "AVERAGE SALARY: PROFESSIONAL SUPPORT                                               float64\n",
       "AVERAGE SALARY: TEACHER                                                            float64\n",
       "STAFF: % MINORITY                                                                  float64\n",
       "NUMBER OF STUDENTS PER TOTAL STAFF                                                 float64\n",
       "NUMBER OF STUDENTS PER TEACHER                                                     float64\n",
       "TEACHER: % WITH 5 OR FEWER YEARS OF EXPERIENCE                                     float64\n",
       "TEACHER: AVERAGE YEARS OF EXPERIENCE                                               float64\n",
       "TEACHER: % WITH ADVANCED DEGREES                                                   float64\n",
       "TEACHER: TURNOVER RATE                                                             float64\n",
       "TEACHER: % AFRICAN AMERICAN                                                        float64\n",
       "TEACHER: % HISPANIC                                                                float64\n",
       "TEACHER: % WHITE                                                                   float64\n",
       "TEACHER: % AMERICAN INDIAN                                                         float64\n",
       "TEACHER: % ASIAN                                                                   float64\n",
       "TEACHER: % PACIFIC ISLANDER                                                        float64\n",
       "TEACHER: % TWO OR MORE RACES                                                       float64\n",
       "TEACHER: % REGULAR EDUCATION                                                       float64\n",
       "TEACHER: % SPECIAL EDUCATION                                                       float64\n",
       "TEACHER: % COMPENSATORY EDUCATION                                                  float64\n",
       "TEACHER: % BILINGUAL/ESL EDUCATION                                                 float64\n",
       "TEACHER: % CAREER & TECHNICAL EDUCATION                                            float64\n",
       "TEACHER: % OTHER EDUCATION (INCLUDES G & T)                                        float64\n",
       "TAXABLE VALUE PER PUPIL (2019 TAX YEAR)                                            float64\n",
       "LOCALLY ADOPTED TAX RATE (2020 TAX YEAR)                                           float64\n",
       "TOTAL OPERATING AND OTHER REVENUE (2020-21)                                        float64\n",
       "Total OPERATING AND OTHER REVENUE PER PUPIL                                        float64\n",
       "Total OPERATING REVENUE (2020-21)                                                  float64\n",
       "REVENUE: % STATE                                                                   float64\n",
       "REVENUE: % LOCAL AND OTHER                                                         float64\n",
       "REVENUE: % FEDERAL                                                                 float64\n",
       "TOTAL OTHER REVENUE(2020-21)                                                       float64\n",
       "FUND BALANCE (FOR ISDS)                                                            float64\n",
       "NET ASSETS (CHARTER SCHOOLS)                                                       float64\n",
       "TOTAL ACTUAL EXPENDITURES (2020-21)                                                float64\n",
       "TOTAL ACTUAL OPERATING EXPENDITURES (2020-21)                                      float64\n",
       "TOTAL ACTUAL OPERATING EXPENDITURES PER PUPIL                                      float64\n",
       "EXPENDITURE: % INSTRUCTIONAL                                                       float64\n",
       "EXPENDITURE: % CENTRAL ADMINISTRATIVE                                              float64\n",
       "EXPENDITURE: % SCHOOL LEADERSHIP                                                   float64\n",
       "EXPENDITURE: % PLANT SERVICES                                                      float64\n",
       "EXPENDITURE: % OTHER OPERATING                                                     float64\n",
       "TOTAL ACTUAL INSTRUCTIONAL EXPENDITURES                                            float64\n",
       "TOTAL ACTUAL INSTRUCTIONAL EXPENDITURES PER PUPIL                                  float64\n",
       " EXPENDITURE: % BASIC EDUCATION SERVICES                                           float64\n",
       "EXPENDITURE: % SPECIAL EDUCATION                                                   float64\n",
       "EXPENDITURE: % STATE COMPENSATORY EDUCATION                                        float64\n",
       "EXPENDITURE: % BILINGUAL/ESL EDUCATION                                             float64\n",
       "EXPENDITURE: % CAREER & TECHNICAL EDUCATION                                        float64\n",
       " EXPENDITURE: % GIFTED & TALENTED EDUCATION                                        float64\n",
       "EXPENDITURE: % ATHLETICS/RELATED ACTIVITIES                                        float64\n",
       "EXPENDITURE: % HIGH SCHOOL ALLOTMENT                                               float64\n",
       "EXPENDITURE: % PREKINDERGARTEN                                                     float64\n",
       "EXPENDITURE: % UN-ALLOCATED                                                        float64\n",
       "DISTRICT SIZE                                                                       object\n",
       "COMMUNITY TYPE                                                                      object\n",
       "PROPERTY WEALTH                                                                     object\n",
       "TAX RATE                                                                            object\n",
       "STAAR: % AMERICAN INDIAN AT APPROACHES GRADE LEVEL STANDARD OR ABOVE               float64\n",
       "STAAR: % AMERICAN INDIAN AT MEETS GRADE LEVEL STANDARD OR ABOVE                    float64\n",
       "STAAR: % AMERICAN INDIAN AT MASTERS GRADE LEVEL STANDARD                           float64\n",
       "ACT-AVERAGE SCORE (2021-2020)                                                      float64\n",
       "STAAR: % PACIFIC ISLANDER AT APPROACHES GRADE LEVEL STANDARD OR ABOVE              float64\n",
       "STAAR: % PACIFIC ISLANDER AT MEETS GRADE LEVEL STANDARD OR ABOVE                   float64\n",
       "STAAR: % PACIFIC ISLANDER AT MASTERS GRADE LEVEL STANDARD                          float64\n",
       "dtype: object"
      ]
     },
     "execution_count": 48,
     "metadata": {},
     "output_type": "execute_result"
    }
   ],
   "source": [
    "# get the DISTRICTS_INFO_2020_21 collection from mongodb and convert it to a pandas dataframe\n",
    "df = pd.DataFrame(list(collection.find()))\n",
    "df.dtypes\n"
   ]
  }
 ],
 "metadata": {
  "kernelspec": {
   "display_name": "dev",
   "language": "python",
   "name": "python3"
  },
  "language_info": {
   "codemirror_mode": {
    "name": "ipython",
    "version": 3
   },
   "file_extension": ".py",
   "mimetype": "text/x-python",
   "name": "python",
   "nbconvert_exporter": "python",
   "pygments_lexer": "ipython3",
   "version": "3.10.13"
  }
 },
 "nbformat": 4,
 "nbformat_minor": 2
}
