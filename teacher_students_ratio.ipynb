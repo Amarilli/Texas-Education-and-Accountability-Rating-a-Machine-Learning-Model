{
 "cells": [
  {
   "cell_type": "markdown",
   "metadata": {},
   "source": [
    "Ideal student-teacher ratio across Texas districts"
   ]
  },
  {
   "cell_type": "code",
   "execution_count": 1,
   "metadata": {},
   "outputs": [],
   "source": [
    "## Project 4\n",
    "import pandas as pd\n",
    "import sklearn\n",
    "import numpy as np\n",
    "from sklearn.model_selection import train_test_split\n",
    "from sklearn.linear_model import LinearRegression\n",
    "from sklearn.metrics import mean_absolute_error, mean_squared_error, r2_score\n",
    "from sklearn.preprocessing import StandardScaler\n",
    "from pymongo import MongoClient"
   ]
  },
  {
   "cell_type": "code",
   "execution_count": 2,
   "metadata": {},
   "outputs": [],
   "source": [
    "mongo = MongoClient(port=27017)"
   ]
  },
  {
   "cell_type": "code",
   "execution_count": 3,
   "metadata": {},
   "outputs": [
    {
     "name": "stdout",
     "output_type": "stream",
     "text": [
      "admin\n",
      "classDB\n",
      "config\n",
      "dbName\n",
      "fruits_db\n",
      "local\n",
      "met\n",
      "texasSchoolsDB <----------\n",
      "travel_db\n",
      "uk_food\n"
     ]
    }
   ],
   "source": [
    "for dbname in mongo.list_database_names():\n",
    "    if dbname == \"texasSchoolsDB\":\n",
    "        print(f'{dbname} <----------')\n",
    "    else:\n",
    "        print(dbname)"
   ]
  },
  {
   "cell_type": "code",
   "execution_count": 4,
   "metadata": {},
   "outputs": [],
   "source": [
    "db = mongo[\"texasSchoolsDB\"]"
   ]
  },
  {
   "cell_type": "code",
   "execution_count": 5,
   "metadata": {},
   "outputs": [],
   "source": [
    "\n",
    "collection = db['teachers20_21']"
   ]
  },
  {
   "cell_type": "code",
   "execution_count": 6,
   "metadata": {},
   "outputs": [
    {
     "data": {
      "text/html": [
       "<div>\n",
       "<style scoped>\n",
       "    .dataframe tbody tr th:only-of-type {\n",
       "        vertical-align: middle;\n",
       "    }\n",
       "\n",
       "    .dataframe tbody tr th {\n",
       "        vertical-align: top;\n",
       "    }\n",
       "\n",
       "    .dataframe thead th {\n",
       "        text-align: right;\n",
       "    }\n",
       "</style>\n",
       "<table border=\"1\" class=\"dataframe\">\n",
       "  <thead>\n",
       "    <tr style=\"text-align: right;\">\n",
       "      <th></th>\n",
       "      <th>DISTRICT NAME</th>\n",
       "      <th>TOTAL NUMBER OF SCHOOLS</th>\n",
       "      <th>TOTAL STUDENTS</th>\n",
       "      <th>TOTAL STAFF FTE</th>\n",
       "      <th>TOTAL TEACHER FTE</th>\n",
       "      <th>STAFF: % TEACHERS</th>\n",
       "      <th>STAFF: % EDUCATIONAL AIDES</th>\n",
       "      <th>STAFF: % AUXILIARY</th>\n",
       "      <th>AVERAGE SALARY: TEACHER</th>\n",
       "      <th>NUMBER OF STUDENTS PER TOTAL STAFF</th>\n",
       "      <th>...</th>\n",
       "      <th>TEACHER: % CAREER &amp; TECHNICAL EDUCATION</th>\n",
       "      <th>TEACHER: % OTHER EDUCATION (INCLUDES G &amp; T)</th>\n",
       "      <th>ATTENDANCE RATE (2020-21)</th>\n",
       "      <th>ANNUAL DROPOUT RATE GR</th>\n",
       "      <th>4-YR LONGITUDINAL GRADUATION RATE (CLASS OF 2021) DISTRICT EXCL</th>\n",
       "      <th>5-YR LONGITUDINAL GRADUATION RATE (CLASS OF 2020) DISTRICT EXCL</th>\n",
       "      <th>ANNUAL GRADUATE COUNT (2020-21)</th>\n",
       "      <th>COLLEGE ADMISSIONS: % AT/ABOVE CRITERION (2020-2021)</th>\n",
       "      <th>SAT-AVERAGE SCORE (2021-2020)</th>\n",
       "      <th>ACT-AVERAGE SCORE (2021-2020)</th>\n",
       "    </tr>\n",
       "  </thead>\n",
       "  <tbody>\n",
       "    <tr>\n",
       "      <th>0</th>\n",
       "      <td>CAYUGA ISD</td>\n",
       "      <td>3</td>\n",
       "      <td>574</td>\n",
       "      <td>99.9</td>\n",
       "      <td>46.7</td>\n",
       "      <td>46.8</td>\n",
       "      <td>14.8</td>\n",
       "      <td>26.5</td>\n",
       "      <td>55570.0</td>\n",
       "      <td>5.7</td>\n",
       "      <td>...</td>\n",
       "      <td>8.5</td>\n",
       "      <td>0.0</td>\n",
       "      <td>96.7</td>\n",
       "      <td>{' 9-12 (2020-21)': 0}</td>\n",
       "      <td>100.0</td>\n",
       "      <td>100.0</td>\n",
       "      <td>36.0</td>\n",
       "      <td>19.0</td>\n",
       "      <td>980.0</td>\n",
       "      <td>NaN</td>\n",
       "    </tr>\n",
       "    <tr>\n",
       "      <th>1</th>\n",
       "      <td>ELKHART ISD</td>\n",
       "      <td>4</td>\n",
       "      <td>1150</td>\n",
       "      <td>186.6</td>\n",
       "      <td>104.9</td>\n",
       "      <td>56.2</td>\n",
       "      <td>16.2</td>\n",
       "      <td>19.5</td>\n",
       "      <td>47916.0</td>\n",
       "      <td>6.2</td>\n",
       "      <td>...</td>\n",
       "      <td>13.0</td>\n",
       "      <td>1.5</td>\n",
       "      <td>96.0</td>\n",
       "      <td>{' 9-12 (2020-21)': 0.3}</td>\n",
       "      <td>100.0</td>\n",
       "      <td>98.9</td>\n",
       "      <td>91.0</td>\n",
       "      <td>27.7</td>\n",
       "      <td>979.0</td>\n",
       "      <td>-1.0</td>\n",
       "    </tr>\n",
       "    <tr>\n",
       "      <th>2</th>\n",
       "      <td>FRANKSTON ISD</td>\n",
       "      <td>3</td>\n",
       "      <td>808</td>\n",
       "      <td>146.7</td>\n",
       "      <td>74.5</td>\n",
       "      <td>50.8</td>\n",
       "      <td>15.0</td>\n",
       "      <td>27.4</td>\n",
       "      <td>50382.0</td>\n",
       "      <td>5.5</td>\n",
       "      <td>...</td>\n",
       "      <td>2.2</td>\n",
       "      <td>0.0</td>\n",
       "      <td>95.4</td>\n",
       "      <td>{' 9-12 (2020-21)': 0.4}</td>\n",
       "      <td>95.2</td>\n",
       "      <td>100.0</td>\n",
       "      <td>41.0</td>\n",
       "      <td>36.8</td>\n",
       "      <td>980.0</td>\n",
       "      <td>-1.0</td>\n",
       "    </tr>\n",
       "    <tr>\n",
       "      <th>3</th>\n",
       "      <td>NECHES ISD</td>\n",
       "      <td>2</td>\n",
       "      <td>342</td>\n",
       "      <td>60.1</td>\n",
       "      <td>30.2</td>\n",
       "      <td>50.3</td>\n",
       "      <td>13.7</td>\n",
       "      <td>26.2</td>\n",
       "      <td>55346.0</td>\n",
       "      <td>5.7</td>\n",
       "      <td>...</td>\n",
       "      <td>10.8</td>\n",
       "      <td>1.7</td>\n",
       "      <td>95.8</td>\n",
       "      <td>{' 9-12 (2020-21)': 0}</td>\n",
       "      <td>95.8</td>\n",
       "      <td>97.0</td>\n",
       "      <td>23.0</td>\n",
       "      <td>15.0</td>\n",
       "      <td>1007.0</td>\n",
       "      <td>18.8</td>\n",
       "    </tr>\n",
       "    <tr>\n",
       "      <th>4</th>\n",
       "      <td>PALESTINE ISD</td>\n",
       "      <td>6</td>\n",
       "      <td>3360</td>\n",
       "      <td>553.4</td>\n",
       "      <td>260.3</td>\n",
       "      <td>47.0</td>\n",
       "      <td>19.7</td>\n",
       "      <td>19.5</td>\n",
       "      <td>48825.0</td>\n",
       "      <td>6.1</td>\n",
       "      <td>...</td>\n",
       "      <td>9.0</td>\n",
       "      <td>1.8</td>\n",
       "      <td>93.7</td>\n",
       "      <td>{' 9-12 (2020-21)': 0}</td>\n",
       "      <td>99.0</td>\n",
       "      <td>99.6</td>\n",
       "      <td>201.0</td>\n",
       "      <td>49.4</td>\n",
       "      <td>1048.0</td>\n",
       "      <td>21.0</td>\n",
       "    </tr>\n",
       "  </tbody>\n",
       "</table>\n",
       "<p>5 rows × 35 columns</p>\n",
       "</div>"
      ],
      "text/plain": [
       "   DISTRICT NAME  TOTAL NUMBER OF SCHOOLS  TOTAL STUDENTS  TOTAL STAFF FTE  \\\n",
       "0     CAYUGA ISD                        3             574             99.9   \n",
       "1    ELKHART ISD                        4            1150            186.6   \n",
       "2  FRANKSTON ISD                        3             808            146.7   \n",
       "3     NECHES ISD                        2             342             60.1   \n",
       "4  PALESTINE ISD                        6            3360            553.4   \n",
       "\n",
       "   TOTAL TEACHER FTE  STAFF: % TEACHERS  STAFF: % EDUCATIONAL AIDES  \\\n",
       "0               46.7               46.8                        14.8   \n",
       "1              104.9               56.2                        16.2   \n",
       "2               74.5               50.8                        15.0   \n",
       "3               30.2               50.3                        13.7   \n",
       "4              260.3               47.0                        19.7   \n",
       "\n",
       "   STAFF: % AUXILIARY  AVERAGE SALARY: TEACHER  \\\n",
       "0                26.5                  55570.0   \n",
       "1                19.5                  47916.0   \n",
       "2                27.4                  50382.0   \n",
       "3                26.2                  55346.0   \n",
       "4                19.5                  48825.0   \n",
       "\n",
       "   NUMBER OF STUDENTS PER TOTAL STAFF  ...  \\\n",
       "0                                 5.7  ...   \n",
       "1                                 6.2  ...   \n",
       "2                                 5.5  ...   \n",
       "3                                 5.7  ...   \n",
       "4                                 6.1  ...   \n",
       "\n",
       "   TEACHER: % CAREER & TECHNICAL EDUCATION  \\\n",
       "0                                      8.5   \n",
       "1                                     13.0   \n",
       "2                                      2.2   \n",
       "3                                     10.8   \n",
       "4                                      9.0   \n",
       "\n",
       "   TEACHER: % OTHER EDUCATION (INCLUDES G & T)  ATTENDANCE RATE (2020-21)  \\\n",
       "0                                          0.0                       96.7   \n",
       "1                                          1.5                       96.0   \n",
       "2                                          0.0                       95.4   \n",
       "3                                          1.7                       95.8   \n",
       "4                                          1.8                       93.7   \n",
       "\n",
       "     ANNUAL DROPOUT RATE GR  \\\n",
       "0    {' 9-12 (2020-21)': 0}   \n",
       "1  {' 9-12 (2020-21)': 0.3}   \n",
       "2  {' 9-12 (2020-21)': 0.4}   \n",
       "3    {' 9-12 (2020-21)': 0}   \n",
       "4    {' 9-12 (2020-21)': 0}   \n",
       "\n",
       "   4-YR LONGITUDINAL GRADUATION RATE (CLASS OF 2021) DISTRICT EXCL  \\\n",
       "0                                              100.0                 \n",
       "1                                              100.0                 \n",
       "2                                               95.2                 \n",
       "3                                               95.8                 \n",
       "4                                               99.0                 \n",
       "\n",
       "   5-YR LONGITUDINAL GRADUATION RATE (CLASS OF 2020) DISTRICT EXCL  \\\n",
       "0                                              100.0                 \n",
       "1                                               98.9                 \n",
       "2                                              100.0                 \n",
       "3                                               97.0                 \n",
       "4                                               99.6                 \n",
       "\n",
       "   ANNUAL GRADUATE COUNT (2020-21)  \\\n",
       "0                             36.0   \n",
       "1                             91.0   \n",
       "2                             41.0   \n",
       "3                             23.0   \n",
       "4                            201.0   \n",
       "\n",
       "   COLLEGE ADMISSIONS: % AT/ABOVE CRITERION (2020-2021)  \\\n",
       "0                                               19.0      \n",
       "1                                               27.7      \n",
       "2                                               36.8      \n",
       "3                                               15.0      \n",
       "4                                               49.4      \n",
       "\n",
       "   SAT-AVERAGE SCORE (2021-2020)  ACT-AVERAGE SCORE (2021-2020)  \n",
       "0                          980.0                            NaN  \n",
       "1                          979.0                           -1.0  \n",
       "2                          980.0                           -1.0  \n",
       "3                         1007.0                           18.8  \n",
       "4                         1048.0                           21.0  \n",
       "\n",
       "[5 rows x 35 columns]"
      ]
     },
     "execution_count": 6,
     "metadata": {},
     "output_type": "execute_result"
    }
   ],
   "source": [
    "teacher20_21_df = pd.DataFrame(list(collection.find()))\n",
    "\n",
    "teacher20_21_df.drop(columns=['_id'], inplace=True, errors='ignore')\n",
    "\n",
    "teacher20_21_df.head()"
   ]
  },
  {
   "cell_type": "markdown",
   "metadata": {},
   "source": [
    "Project Overview\n",
    "* Goal: Develop a predictive model for the ideal student-teacher ratio.\n",
    "* Data: District-wise information from Texas.\n",
    "* Metrics: To evaluate our model, we'll consider accuracy measures like MAE (Mean Absolute Error), RMSE (Root Mean Square Error), and R² (Coefficient of Determination)."
   ]
  },
  {
   "cell_type": "code",
   "execution_count": 7,
   "metadata": {},
   "outputs": [
    {
     "name": "stdout",
     "output_type": "stream",
     "text": [
      "DISTRICT NAME                                                        0\n",
      "TOTAL NUMBER OF SCHOOLS                                              0\n",
      "TOTAL STUDENTS                                                       0\n",
      "TOTAL STAFF FTE                                                      3\n",
      "TOTAL TEACHER FTE                                                    3\n",
      "STAFF: % TEACHERS                                                    3\n",
      "STAFF: % EDUCATIONAL AIDES                                           3\n",
      "STAFF: % AUXILIARY                                                   3\n",
      "AVERAGE SALARY: TEACHER                                              4\n",
      "NUMBER OF STUDENTS PER TOTAL STAFF                                   3\n",
      "NUMBER OF STUDENTS PER TEACHER                                       3\n",
      "TEACHER: % WITH 5 OR FEWER YEARS OF EXPERIENCE                       3\n",
      "TEACHER: AVERAGE YEARS OF EXPERIENCE                                 3\n",
      "TEACHER: % WITH ADVANCED DEGREES                                     3\n",
      "TEACHER: % AFRICAN AMERICAN                                          3\n",
      "TEACHER: % HISPANIC                                                  3\n",
      "TEACHER: % WHITE                                                     3\n",
      "TEACHER: % AMERICAN INDIAN                                           3\n",
      "TEACHER: % ASIAN                                                     3\n",
      "TEACHER: % PACIFIC ISLANDER                                          3\n",
      "TEACHER: % TWO OR MORE RACES                                         3\n",
      "TEACHER: % REGULAR EDUCATION                                         3\n",
      "TEACHER: % SPECIAL EDUCATION                                         3\n",
      "TEACHER: % COMPENSATORY EDUCATION                                    3\n",
      "TEACHER: % BILINGUAL/ESL EDUCATION                                   3\n",
      "TEACHER: % CAREER & TECHNICAL EDUCATION                              3\n",
      "TEACHER: % OTHER EDUCATION (INCLUDES G & T)                          3\n",
      "ATTENDANCE RATE (2020-21)                                            4\n",
      "ANNUAL DROPOUT RATE GR                                             112\n",
      "4-YR LONGITUDINAL GRADUATION RATE (CLASS OF 2021) DISTRICT EXCL    133\n",
      "5-YR LONGITUDINAL GRADUATION RATE (CLASS OF 2020) DISTRICT EXCL    141\n",
      "ANNUAL GRADUATE COUNT (2020-21)                                    126\n",
      "COLLEGE ADMISSIONS: % AT/ABOVE CRITERION (2020-2021)               147\n",
      "SAT-AVERAGE SCORE (2021-2020)                                      262\n",
      "ACT-AVERAGE SCORE (2021-2020)                                      236\n",
      "dtype: int64\n"
     ]
    }
   ],
   "source": [
    "# Check for missing values\n",
    "print(teacher20_21_df.isnull().sum())"
   ]
  },
  {
   "cell_type": "code",
   "execution_count": 8,
   "metadata": {},
   "outputs": [],
   "source": [
    "from sklearn.impute import SimpleImputer\n",
    "\n",
    "# Imputer for numeric columns\n",
    "numeric_imputer = SimpleImputer(strategy='mean')\n",
    "# List of numeric columns with minimal missing values\n",
    "numeric_columns_minimal_missing = ['TOTAL STAFF FTE', 'TOTAL TEACHER FTE', 'AVERAGE SALARY: TEACHER']\n",
    "\n",
    "teacher20_21_df[numeric_columns_minimal_missing] = numeric_imputer.fit_transform(teacher20_21_df[numeric_columns_minimal_missing])\n",
    "\n",
    "# If any of the columns with minimal missing values are categorical, use mode imputation similarly.\n"
   ]
  },
  {
   "cell_type": "code",
   "execution_count": 9,
   "metadata": {},
   "outputs": [],
   "source": [
    "# Example: Imputation for a column with many missing values\n",
    "# Let's use median for these to avoid the influence of outliers\n",
    "substantial_missing_imputer = SimpleImputer(strategy='median')\n",
    "teacher20_21_df[['COLLEGE ADMISSIONS: % AT/ABOVE CRITERION (2020-2021)', 'SAT-AVERAGE SCORE (2021-2020)', 'ACT-AVERAGE SCORE (2021-2020)']] = substantial_missing_imputer.fit_transform(teacher20_21_df[['COLLEGE ADMISSIONS: % AT/ABOVE CRITERION (2020-2021)', 'SAT-AVERAGE SCORE (2021-2020)', 'ACT-AVERAGE SCORE (2021-2020)']])\n"
   ]
  },
  {
   "cell_type": "code",
   "execution_count": 10,
   "metadata": {},
   "outputs": [],
   "source": [
    "for column in ['COLLEGE ADMISSIONS: % AT/ABOVE CRITERION (2020-2021)', 'SAT-AVERAGE SCORE (2021-2020)', 'ACT-AVERAGE SCORE (2021-2020)']:\n",
    "    teacher20_21_df[column + '_missing'] = teacher20_21_df[column].isnull().astype(int)"
   ]
  },
  {
   "cell_type": "code",
   "execution_count": 11,
   "metadata": {},
   "outputs": [
    {
     "data": {
      "text/plain": [
       "Index(['DISTRICT NAME', 'TOTAL NUMBER OF SCHOOLS', 'TOTAL STUDENTS',\n",
       "       'TOTAL STAFF FTE', 'TOTAL TEACHER FTE', 'STAFF: % TEACHERS',\n",
       "       'STAFF: % EDUCATIONAL AIDES', 'STAFF: % AUXILIARY',\n",
       "       'AVERAGE SALARY: TEACHER', 'NUMBER OF STUDENTS PER TOTAL STAFF',\n",
       "       'NUMBER OF STUDENTS PER TEACHER',\n",
       "       'TEACHER: % WITH 5 OR FEWER YEARS OF EXPERIENCE',\n",
       "       'TEACHER: AVERAGE YEARS OF EXPERIENCE',\n",
       "       'TEACHER: % WITH ADVANCED DEGREES', 'TEACHER: % AFRICAN AMERICAN',\n",
       "       'TEACHER: % HISPANIC', 'TEACHER: % WHITE', 'TEACHER: % AMERICAN INDIAN',\n",
       "       'TEACHER: % ASIAN', 'TEACHER: % PACIFIC ISLANDER',\n",
       "       'TEACHER: % TWO OR MORE RACES', 'TEACHER: % REGULAR EDUCATION',\n",
       "       'TEACHER: % SPECIAL EDUCATION', 'TEACHER: % COMPENSATORY EDUCATION',\n",
       "       'TEACHER: % BILINGUAL/ESL EDUCATION',\n",
       "       'TEACHER: % CAREER & TECHNICAL EDUCATION',\n",
       "       'TEACHER: % OTHER EDUCATION (INCLUDES G & T)',\n",
       "       'ATTENDANCE RATE (2020-21)', 'ANNUAL DROPOUT RATE GR',\n",
       "       '4-YR LONGITUDINAL GRADUATION RATE (CLASS OF 2021) DISTRICT EXCL',\n",
       "       '5-YR LONGITUDINAL GRADUATION RATE (CLASS OF 2020) DISTRICT EXCL',\n",
       "       'ANNUAL GRADUATE COUNT (2020-21)',\n",
       "       'COLLEGE ADMISSIONS: % AT/ABOVE CRITERION (2020-2021)',\n",
       "       'SAT-AVERAGE SCORE (2021-2020)', 'ACT-AVERAGE SCORE (2021-2020)',\n",
       "       'COLLEGE ADMISSIONS: % AT/ABOVE CRITERION (2020-2021)_missing',\n",
       "       'SAT-AVERAGE SCORE (2021-2020)_missing',\n",
       "       'ACT-AVERAGE SCORE (2021-2020)_missing'],\n",
       "      dtype='object')"
      ]
     },
     "execution_count": 11,
     "metadata": {},
     "output_type": "execute_result"
    }
   ],
   "source": [
    "teacher20_21_df.columns"
   ]
  },
  {
   "cell_type": "markdown",
   "metadata": {},
   "source": [
    "Idea> 1. Proportion of Teachers with Advanced Degrees\n",
    "A higher percentage of teachers with advanced degrees might correlate with a different optimal student-teacher ratio, potentially reflecting on the quality of education."
   ]
  },
  {
   "cell_type": "markdown",
   "metadata": {},
   "source": [
    "Idea> 2. Experience Level\n",
    "The average years of experience among teachers and the percentage of teachers with 5 or fewer years of experience could be crucial. These could affect the ideal ratio, as more experienced teachers might manage larger classes more effectively."
   ]
  },
  {
   "cell_type": "markdown",
   "metadata": {},
   "source": [
    "Idea> 3. 3. Teacher Diversity\n",
    "Diversity in the teaching staff, represented by the percentage of teachers from various racial backgrounds, could be an important factor, possibly affecting student engagement and the learning environment."
   ]
  },
  {
   "cell_type": "markdown",
   "metadata": {},
   "source": [
    "Idea> 4. Specialization in Education\n",
    "The percentage of teachers in specialized roles (Special Education, Bilingual/ESL Education, etc.) might influence the ideal student-teacher ratio, as these roles often require more individualized attention to students."
   ]
  },
  {
   "cell_type": "markdown",
   "metadata": {},
   "source": [
    "Idea> 5. 5. Financial Aspects\n",
    "The average salary of a teacher could be a proxy for district investment in education, which might relate to the optimal student-teacher ratio."
   ]
  },
  {
   "cell_type": "code",
   "execution_count": 12,
   "metadata": {},
   "outputs": [
    {
     "name": "stdout",
     "output_type": "stream",
     "text": [
      "The 'current_student_teacher_ratio' feature has been successfully added to the dataset.\n",
      "   TOTAL STUDENTS  TOTAL TEACHER FTE  current_student_teacher_ratio\n",
      "0             574               46.7                      12.291221\n",
      "1            1150              104.9                      10.962822\n",
      "2             808               74.5                      10.845638\n",
      "3             342               30.2                      11.324503\n",
      "4            3360              260.3                      12.908183\n"
     ]
    }
   ],
   "source": [
    "\n",
    "# Creating column current student/teacher ratio\n",
    "if 'TOTAL STUDENTS' in teacher20_21_df.columns and 'TOTAL TEACHER FTE' in teacher20_21_df.columns:\n",
    "    # Calculate the current student-teacher ratio\n",
    "    teacher20_21_df['current_student_teacher_ratio'] = teacher20_21_df['TOTAL STUDENTS'] / teacher20_21_df['TOTAL TEACHER FTE']\n",
    "    print(\"The 'current_student_teacher_ratio' feature has been successfully added to the dataset.\")\n",
    "else:\n",
    "    print(\"Error: Required columns ('TOTAL STUDENTS' and/or 'TOTAL TEACHER FTE') are missing from the dataset.\")\n",
    "\n",
    "# Display the first few rows to verify the new column\n",
    "print(teacher20_21_df[['TOTAL STUDENTS', 'TOTAL TEACHER FTE', 'current_student_teacher_ratio']].head())\n"
   ]
  },
  {
   "cell_type": "code",
   "execution_count": 13,
   "metadata": {},
   "outputs": [
    {
     "data": {
      "text/plain": [
       "Index(['DISTRICT NAME', 'TOTAL NUMBER OF SCHOOLS', 'TOTAL STUDENTS',\n",
       "       'TOTAL STAFF FTE', 'TOTAL TEACHER FTE', 'STAFF: % TEACHERS',\n",
       "       'STAFF: % EDUCATIONAL AIDES', 'STAFF: % AUXILIARY',\n",
       "       'AVERAGE SALARY: TEACHER', 'NUMBER OF STUDENTS PER TOTAL STAFF',\n",
       "       'NUMBER OF STUDENTS PER TEACHER',\n",
       "       'TEACHER: % WITH 5 OR FEWER YEARS OF EXPERIENCE',\n",
       "       'TEACHER: AVERAGE YEARS OF EXPERIENCE',\n",
       "       'TEACHER: % WITH ADVANCED DEGREES', 'TEACHER: % AFRICAN AMERICAN',\n",
       "       'TEACHER: % HISPANIC', 'TEACHER: % WHITE', 'TEACHER: % AMERICAN INDIAN',\n",
       "       'TEACHER: % ASIAN', 'TEACHER: % PACIFIC ISLANDER',\n",
       "       'TEACHER: % TWO OR MORE RACES', 'TEACHER: % REGULAR EDUCATION',\n",
       "       'TEACHER: % SPECIAL EDUCATION', 'TEACHER: % COMPENSATORY EDUCATION',\n",
       "       'TEACHER: % BILINGUAL/ESL EDUCATION',\n",
       "       'TEACHER: % CAREER & TECHNICAL EDUCATION',\n",
       "       'TEACHER: % OTHER EDUCATION (INCLUDES G & T)',\n",
       "       'ATTENDANCE RATE (2020-21)', 'ANNUAL DROPOUT RATE GR',\n",
       "       '4-YR LONGITUDINAL GRADUATION RATE (CLASS OF 2021) DISTRICT EXCL',\n",
       "       '5-YR LONGITUDINAL GRADUATION RATE (CLASS OF 2020) DISTRICT EXCL',\n",
       "       'ANNUAL GRADUATE COUNT (2020-21)',\n",
       "       'COLLEGE ADMISSIONS: % AT/ABOVE CRITERION (2020-2021)',\n",
       "       'SAT-AVERAGE SCORE (2021-2020)', 'ACT-AVERAGE SCORE (2021-2020)',\n",
       "       'COLLEGE ADMISSIONS: % AT/ABOVE CRITERION (2020-2021)_missing',\n",
       "       'SAT-AVERAGE SCORE (2021-2020)_missing',\n",
       "       'ACT-AVERAGE SCORE (2021-2020)_missing',\n",
       "       'current_student_teacher_ratio'],\n",
       "      dtype='object')"
      ]
     },
     "execution_count": 13,
     "metadata": {},
     "output_type": "execute_result"
    }
   ],
   "source": [
    "teacher20_21_df.columns"
   ]
  },
  {
   "cell_type": "markdown",
   "metadata": {},
   "source": [
    "For starters, we'll explore a few regression models to see which performs best on the dataset:\n",
    "\n",
    "Linear Regression: A good baseline that's easy to interpret.\n",
    "Random Forest Regressor: A powerful model that can capture complex nonlinear relationships.\n",
    "Gradient Boosting Regressor: Another robust model known for its predictive accuracy."
   ]
  },
  {
   "cell_type": "markdown",
   "metadata": {},
   "source": [
    "X = 'TOTAL NUMBER OF SCHOOLS': More schools could indicate a larger district with potentially different staffing needs.\n",
    "\n",
    "'TOTAL STUDENTS': Directly impacts the student-teacher ratio.\n",
    "\n",
    "'TOTAL TEACHER FTE': Essential for calculating the student-teacher ratio.\n",
    "\n",
    "'STAFF: % TEACHERS', 'STAFF: % EDUCATIONAL AIDES', and 'STAFF: % AUXILIARY': These percentages provide insight into the composition of the staff, which could affect the ideal ratio.\n",
    "\n",
    "'AVERAGE SALARY: TEACHER': Higher salaries might attract more qualified or experienced teachers, potentially affecting the ideal ratio.\n",
    "\n",
    "'TEACHER: % WITH ADVANCED DEGREES' and 'TEACHER: AVERAGE YEARS OF EXPERIENCE': Qualifications and experience of teachers could influence the optimal student-teacher ratio.\n",
    "\n",
    "'TEACHER: % WITH 5 OR FEWER YEARS OF EXPERIENCE': This might indicate a younger, less experienced workforce, possibly affecting the ideal ratio differently.\n",
    "\n",
    "Demographic percentages ('TEACHER: % AFRICAN AMERICAN', 'TEACHER: % HISPANIC', etc.): While not directly affecting the student-teacher ratio, these features might be relevant in broader analyses related to diversity and educational equity.\n"
   ]
  },
  {
   "cell_type": "code",
   "execution_count": 14,
   "metadata": {},
   "outputs": [],
   "source": [
    "\n",
    "\n",
    "# Check if any division might lead to infinity\n",
    "teacher20_21_df['current_student_teacher_ratio'] = teacher20_21_df['TOTAL STUDENTS'] / teacher20_21_df['TOTAL TEACHER FTE'].replace(0, np.nan)\n",
    "\n",
    "# For 'normalized_teacher_salary', ensure the normalization process didn't introduce any infinity\n",
    "# Assuming 'normalized_teacher_salary' is already in your DataFrame, no division by zero should occur in normalization\n",
    "# However, let's ensure no infinite values are present\n",
    "teacher20_21_df.replace([np.inf, -np.inf], np.nan, inplace=True)\n",
    "\n",
    "# Now, handle NaN values (which might include what were infinities)\n",
    "teacher20_21_df.dropna(subset=['current_student_teacher_ratio'], inplace=True)\n"
   ]
  },
  {
   "cell_type": "markdown",
   "metadata": {},
   "source": [
    "Finding best column to include in X"
   ]
  },
  {
   "cell_type": "code",
   "execution_count": 15,
   "metadata": {},
   "outputs": [
    {
     "name": "stdout",
     "output_type": "stream",
     "text": [
      "Correlation with 'current_student_teacher_ratio':\n",
      "current_student_teacher_ratio                                      1.000000\n",
      "NUMBER OF STUDENTS PER TOTAL STAFF                                 0.827062\n",
      "NUMBER OF STUDENTS PER TEACHER                                     0.369427\n",
      "TEACHER: % OTHER EDUCATION (INCLUDES G & T)                        0.276473\n",
      "TEACHER: % WITH ADVANCED DEGREES                                   0.244428\n",
      "AVERAGE SALARY: TEACHER                                            0.197899\n",
      "COLLEGE ADMISSIONS: % AT/ABOVE CRITERION (2020-2021)               0.167424\n",
      "ANNUAL GRADUATE COUNT (2020-21)                                    0.154119\n",
      "TOTAL STUDENTS                                                     0.150785\n",
      "SAT-AVERAGE SCORE (2021-2020)                                      0.135564\n",
      "TEACHER: % BILINGUAL/ESL EDUCATION                                 0.135184\n",
      "TOTAL NUMBER OF SCHOOLS                                            0.134044\n",
      "TOTAL STAFF FTE                                                    0.132472\n",
      "TOTAL TEACHER FTE                                                  0.130772\n",
      "TEACHER: % HISPANIC                                                0.124272\n",
      "TEACHER: % AFRICAN AMERICAN                                        0.121927\n",
      "TEACHER: % WITH 5 OR FEWER YEARS OF EXPERIENCE                     0.089287\n",
      "TEACHER: % ASIAN                                                   0.087365\n",
      "TEACHER: % PACIFIC ISLANDER                                        0.081553\n",
      "TEACHER: % SPECIAL EDUCATION                                       0.034278\n",
      "TEACHER: % AMERICAN INDIAN                                         0.033346\n",
      "TEACHER: % TWO OR MORE RACES                                       0.021278\n",
      "ACT-AVERAGE SCORE (2021-2020)                                      0.018933\n",
      "5-YR LONGITUDINAL GRADUATION RATE (CLASS OF 2020) DISTRICT EXCL    0.014055\n",
      "4-YR LONGITUDINAL GRADUATION RATE (CLASS OF 2021) DISTRICT EXCL   -0.011686\n",
      "ATTENDANCE RATE (2020-21)                                         -0.032256\n",
      "STAFF: % AUXILIARY                                                -0.049792\n",
      "TEACHER: % REGULAR EDUCATION                                      -0.055543\n",
      "STAFF: % EDUCATIONAL AIDES                                        -0.058977\n",
      "TEACHER: % COMPENSATORY EDUCATION                                 -0.093643\n",
      "TEACHER: AVERAGE YEARS OF EXPERIENCE                              -0.133627\n",
      "TEACHER: % CAREER & TECHNICAL EDUCATION                           -0.170130\n",
      "TEACHER: % WHITE                                                  -0.186878\n",
      "STAFF: % TEACHERS                                                 -0.217082\n",
      "COLLEGE ADMISSIONS: % AT/ABOVE CRITERION (2020-2021)_missing            NaN\n",
      "SAT-AVERAGE SCORE (2021-2020)_missing                                   NaN\n",
      "ACT-AVERAGE SCORE (2021-2020)_missing                                   NaN\n",
      "Name: current_student_teacher_ratio, dtype: float64\n"
     ]
    }
   ],
   "source": [
    "# Select only numeric columns for correlation analysis\n",
    "numeric_data = teacher20_21_df.select_dtypes(include=['number'])\n",
    "\n",
    "# Now, calculate the correlation matrix on this numeric subset\n",
    "correlation_matrix = numeric_data.corr()\n",
    "\n",
    "# Extract and sort the correlations with 'current_student_teacher_ratio'\n",
    "correlation_with_target = correlation_matrix['current_student_teacher_ratio'].sort_values(ascending=False)\n",
    "\n",
    "print(\"Correlation with 'current_student_teacher_ratio':\")\n",
    "print(correlation_with_target)\n",
    "\n"
   ]
  },
  {
   "cell_type": "markdown",
   "metadata": {},
   "source": [
    "Defining a better X value"
   ]
  },
  {
   "cell_type": "code",
   "execution_count": 26,
   "metadata": {},
   "outputs": [
    {
     "name": "stdout",
     "output_type": "stream",
     "text": [
      "   NUMBER OF STUDENTS PER TOTAL STAFF  NUMBER OF STUDENTS PER TEACHER  \\\n",
      "0                                 5.7                            12.3   \n",
      "1                                 6.2                            11.0   \n",
      "2                                 5.5                            10.8   \n",
      "3                                 5.7                            11.3   \n",
      "4                                 6.1                            12.9   \n",
      "\n",
      "   TEACHER: % OTHER EDUCATION (INCLUDES G & T)  \\\n",
      "0                                          0.0   \n",
      "1                                          1.5   \n",
      "2                                          0.0   \n",
      "3                                          1.7   \n",
      "4                                          1.8   \n",
      "\n",
      "   TEACHER: % WITH ADVANCED DEGREES  AVERAGE SALARY: TEACHER  \\\n",
      "0                              14.8                  55570.0   \n",
      "1                              19.0                  47916.0   \n",
      "2                              30.7                  50382.0   \n",
      "3                               9.6                  55346.0   \n",
      "4                              15.4                  48825.0   \n",
      "\n",
      "   COLLEGE ADMISSIONS: % AT/ABOVE CRITERION (2020-2021)  TOTAL STUDENTS  \\\n",
      "0                                               19.0                574   \n",
      "1                                               27.7               1150   \n",
      "2                                               36.8                808   \n",
      "3                                               15.0                342   \n",
      "4                                               49.4               3360   \n",
      "\n",
      "   SAT-AVERAGE SCORE (2021-2020)  \n",
      "0                          980.0  \n",
      "1                          979.0  \n",
      "2                          980.0  \n",
      "3                         1007.0  \n",
      "4                         1048.0  \n"
     ]
    },
    {
     "name": "stderr",
     "output_type": "stream",
     "text": [
      "/var/folders/vf/_j2gkjzn02s0myp33_2rv0gr0000gn/T/ipykernel_2249/3414247333.py:18: SettingWithCopyWarning: \n",
      "A value is trying to be set on a copy of a slice from a DataFrame\n",
      "\n",
      "See the caveats in the documentation: https://pandas.pydata.org/pandas-docs/stable/user_guide/indexing.html#returning-a-view-versus-a-copy\n",
      "  X.fillna(X.median(), inplace=True)  # This is just one way to handle missing values\n"
     ]
    }
   ],
   "source": [
    "# Define the feature set for X based on the correlation analysis and domain relevance\n",
    "selected_features = [\n",
    "   'NUMBER OF STUDENTS PER TOTAL STAFF', \n",
    "   'NUMBER OF STUDENTS PER TEACHER', \n",
    "   'TEACHER: % OTHER EDUCATION (INCLUDES G & T)', \n",
    "   'TEACHER: % WITH ADVANCED DEGREES', \n",
    "   'AVERAGE SALARY: TEACHER', \n",
    "   'COLLEGE ADMISSIONS: % AT/ABOVE CRITERION (2020-2021)', 'TOTAL STUDENTS', \n",
    "   'SAT-AVERAGE SCORE (2021-2020)'\n",
    "]\n",
    "\n",
    "\n",
    "# Assuming 'teachers20_21' is your DataFrame\n",
    "X = teacher20_21_df[selected_features]\n",
    "\n",
    "# Ensure X does not contain any missing values\n",
    "# You can decide to fill missing values with the median or mean, or drop rows/columns with missing values\n",
    "X.fillna(X.median(), inplace=True)  # This is just one way to handle missing values\n",
    "\n",
    "# Print the first few rows of X to verify\n",
    "print(X.head())\n"
   ]
  },
  {
   "cell_type": "code",
   "execution_count": 27,
   "metadata": {},
   "outputs": [],
   "source": [
    "y = teacher20_21_df['current_student_teacher_ratio']"
   ]
  },
  {
   "cell_type": "code",
   "execution_count": 28,
   "metadata": {},
   "outputs": [],
   "source": [
    "#Try a simple Linear Regression Model with new X (same y)\n",
    "\n",
    "# Split the data into training and testing sets\n",
    "X_train, X_test, y_train, y_test = train_test_split(X, y, test_size=0.2, random_state=42)"
   ]
  },
  {
   "cell_type": "code",
   "execution_count": 29,
   "metadata": {},
   "outputs": [],
   "source": [
    "# Initialize the Linear Regression model\n",
    "model = LinearRegression()\n",
    "\n",
    "# Fit the model on the training data\n",
    "model.fit(X_train, y_train)\n",
    "\n",
    "# Predict on the testing set\n",
    "y_pred = model.predict(X_test)\n"
   ]
  },
  {
   "cell_type": "code",
   "execution_count": 30,
   "metadata": {},
   "outputs": [
    {
     "name": "stdout",
     "output_type": "stream",
     "text": [
      "Linear Regression R² score: 0.5394\n",
      "Linear Regression Mean Absolute Error (MAE): 1.7981\n",
      "Linear Regression Root Mean Square Error (RMSE): 2.4385\n"
     ]
    }
   ],
   "source": [
    "# Calculate the model's performance metrics\n",
    "r2 = r2_score(y_test, y_pred)\n",
    "mae = mean_absolute_error(y_test, y_pred)\n",
    "rmse = np.sqrt(mean_squared_error(y_test, y_pred))\n",
    "\n",
    "print(f\"Linear Regression R² score: {r2:.4f}\")\n",
    "print(f\"Linear Regression Mean Absolute Error (MAE): {mae:.4f}\")\n",
    "print(f\"Linear Regression Root Mean Square Error (RMSE): {rmse:.4f}\")\n"
   ]
  },
  {
   "cell_type": "markdown",
   "metadata": {},
   "source": [
    "R² score: 0.5394\n",
    "Mean Absolute Error (MAE): 1.7981\n",
    "Root Mean Square Error (RMSE): 2.4385\n",
    "These metrics serve as a solid foundation for understanding your model's performance. The R² score indicates that approximately 53.94% of the variability in your target variable can be explained by the model, which is a decent starting point for many applications. However, there's room for improvement, especially in predictive tasks where higher accuracy is crucial"
   ]
  },
  {
   "cell_type": "markdown",
   "metadata": {},
   "source": []
  },
  {
   "cell_type": "code",
   "execution_count": 31,
   "metadata": {},
   "outputs": [],
   "source": [
    "import statsmodels.api as sm\n",
    "\n",
    "# Assuming 'X' and 'y' are already defined\n",
    "# Add a constant to the predictor variable set to represent the intercept\n",
    "X_with_const = sm.add_constant(X)\n",
    "\n",
    "# Split the data into training and testing sets\n",
    "X_train, X_test, y_train, y_test = train_test_split(X_with_const, y, test_size=0.2, random_state=42)\n"
   ]
  },
  {
   "cell_type": "code",
   "execution_count": 32,
   "metadata": {},
   "outputs": [
    {
     "name": "stdout",
     "output_type": "stream",
     "text": [
      "                                  OLS Regression Results                                 \n",
      "=========================================================================================\n",
      "Dep. Variable:     current_student_teacher_ratio   R-squared:                       0.715\n",
      "Model:                                       OLS   Adj. R-squared:                  0.712\n",
      "Method:                            Least Squares   F-statistic:                     299.0\n",
      "Date:                           Wed, 10 Apr 2024   Prob (F-statistic):          5.69e-254\n",
      "Time:                                   18:24:52   Log-Likelihood:                -2411.2\n",
      "No. Observations:                            964   AIC:                             4840.\n",
      "Df Residuals:                                955   BIC:                             4884.\n",
      "Df Model:                                      8                                         \n",
      "Covariance Type:                       nonrobust                                         \n",
      "========================================================================================================================\n",
      "                                                           coef    std err          t      P>|t|      [0.025      0.975]\n",
      "------------------------------------------------------------------------------------------------------------------------\n",
      "const                                                    0.0405      1.048      0.039      0.969      -2.016       2.097\n",
      "NUMBER OF STUDENTS PER TOTAL STAFF                       2.4826      0.061     40.845      0.000       2.363       2.602\n",
      "NUMBER OF STUDENTS PER TEACHER                          -0.2056      0.039     -5.287      0.000      -0.282      -0.129\n",
      "TEACHER: % OTHER EDUCATION (INCLUDES G & T)              0.2346      0.036      6.478      0.000       0.164       0.306\n",
      "TEACHER: % WITH ADVANCED DEGREES                         0.0398      0.011      3.591      0.000       0.018       0.062\n",
      "AVERAGE SALARY: TEACHER                              -2.659e-05   2.06e-05     -1.292      0.196    -6.7e-05    1.38e-05\n",
      "COLLEGE ADMISSIONS: % AT/ABOVE CRITERION (2020-2021)    -0.0365      0.007     -5.558      0.000      -0.049      -0.024\n",
      "TOTAL STUDENTS                                        -7.76e-06    8.2e-06     -0.946      0.344   -2.39e-05    8.33e-06\n",
      "SAT-AVERAGE SCORE (2021-2020)                            0.0005      0.000      1.501      0.134      -0.000       0.001\n",
      "==============================================================================\n",
      "Omnibus:                     1392.925   Durbin-Watson:                   1.945\n",
      "Prob(Omnibus):                  0.000   Jarque-Bera (JB):           923736.244\n",
      "Skew:                           7.708   Prob(JB):                         0.00\n",
      "Kurtosis:                     153.864   Cond. No.                     5.96e+05\n",
      "==============================================================================\n",
      "\n",
      "Notes:\n",
      "[1] Standard Errors assume that the covariance matrix of the errors is correctly specified.\n",
      "[2] The condition number is large, 5.96e+05. This might indicate that there are\n",
      "strong multicollinearity or other numerical problems.\n"
     ]
    }
   ],
   "source": [
    "# Fit the regression model using the training set\n",
    "model = sm.OLS(y_train, X_train).fit()\n",
    "\n",
    "# Print out the statistics\n",
    "model_summary = model.summary()\n",
    "print(model_summary)\n",
    "\n"
   ]
  },
  {
   "cell_type": "code",
   "execution_count": 33,
   "metadata": {},
   "outputs": [],
   "source": [
    "# Predicting with the test set\n",
    "y_pred = model.predict(X_test)\n"
   ]
  },
  {
   "cell_type": "code",
   "execution_count": 34,
   "metadata": {},
   "outputs": [
    {
     "name": "stdout",
     "output_type": "stream",
     "text": [
      "RMSE: 2.4385\n"
     ]
    }
   ],
   "source": [
    "from sklearn.metrics import mean_squared_error\n",
    "import numpy as np\n",
    "\n",
    "rmse = np.sqrt(mean_squared_error(y_test, y_pred))\n",
    "print(f'RMSE: {rmse:.4f}')\n"
   ]
  },
  {
   "cell_type": "code",
   "execution_count": 37,
   "metadata": {},
   "outputs": [
    {
     "name": "stdout",
     "output_type": "stream",
     "text": [
      "                                             feature         VIF\n",
      "0                                              const  118.479716\n",
      "1                 NUMBER OF STUDENTS PER TOTAL STAFF    1.466595\n",
      "2                     NUMBER OF STUDENTS PER TEACHER    1.483271\n",
      "3        TEACHER: % OTHER EDUCATION (INCLUDES G & T)    1.265209\n",
      "4                   TEACHER: % WITH ADVANCED DEGREES    1.145574\n",
      "5                            AVERAGE SALARY: TEACHER    1.315173\n",
      "6  COLLEGE ADMISSIONS: % AT/ABOVE CRITERION (2020...    1.305206\n",
      "7                                     TOTAL STUDENTS    1.273460\n",
      "8                      SAT-AVERAGE SCORE (2021-2020)    1.196805\n"
     ]
    }
   ],
   "source": [
    "from statsmodels.stats.outliers_influence import variance_inflation_factor\n",
    "from statsmodels.tools.tools import add_constant\n",
    "\n",
    "# Assuming 'X' is your DataFrame of predictors\n",
    "X_const = add_constant(X)  # Adding a constant column for the intercept\n",
    "vif_data = pd.DataFrame()\n",
    "vif_data[\"feature\"] = X_const.columns\n",
    "\n",
    "# Calculating VIF for each feature\n",
    "vif_data[\"VIF\"] = [variance_inflation_factor(X_const.values, i) for i in range(X_const.shape[1])]\n",
    "print(vif_data)\n"
   ]
  },
  {
   "cell_type": "markdown",
   "metadata": {},
   "source": [
    "With the Variance Inflation Factor (VIF) results in hand, we're deep into the analysis matrix 🧑‍💻🔒. The VIF scores for your features indicate that multicollinearity is not a significant concern for your model. All the VIF values are well below the commonly used threshold of 5, suggesting that each predictor contributes unique information without excessively overlapping with others. This is excellent news for the robustness and interpretability of your model's coefficients"
   ]
  },
  {
   "cell_type": "markdown",
   "metadata": {},
   "source": [
    "Given that your model already has a strong R-squared value (0.715) and the features are justified through VIF analysis, further refinement could focus on:\n",
    "\n",
    "Model Diagnostics: Further explore model diagnostics to ensure other assumptions of linear regression are met (normality of residuals, homoscedasticity, etc.).\n",
    "Feature Engineering: Even with low VIF values, there might be room for creating new features or transforming existing ones to capture more nuanced relationships.\n",
    "Cross-Validation: Implement cross-validation if you haven't already, to ensure that your model's performance is consistent across different data subsets.\n",
    "Advanced Analysis\n",
    "Given the strong foundation, you might also consider:\n",
    "\n",
    "Interaction Terms: Explore adding interaction terms between features if you suspect the relationship between some predictors and the target variable might change depending on the levels of another predictor.\n",
    "Non-linear Transformations: Apply non-linear transformations to features with non-linear relationships with the target to capture more complexity.\n",
    "Final Thoughts\n",
    "Your model is on solid ground, with high explanatory power and no significant multicollinearity among predictors. The focus now shifts towards fine-tuning and validating the model to ensure it's not only statistically robust but also practically significant for your objectives."
   ]
  },
  {
   "cell_type": "markdown",
   "metadata": {},
   "source": [
    "1. Cross-Validation\n",
    "Cross-validation is crucial for assessing the model's ability to generalize to unseen data. It involves splitting your dataset into multiple folds and training/testing your model multiple times, each time with a different fold acting as the test set.\n",
    "\n",
    "Implementing K-Fold Cross-Validation\n",
    "For a regression problem, we'll use the cross_val_score function from scikit-learn, which will allow us to evaluate our model across multiple splits of the data."
   ]
  },
  {
   "cell_type": "code",
   "execution_count": 38,
   "metadata": {},
   "outputs": [
    {
     "name": "stdout",
     "output_type": "stream",
     "text": [
      "R² scores for each fold: [0.47433344 0.25369217 0.56451862 0.81758025 0.48734799]\n",
      "Average R² across folds: 0.5194944944231606\n"
     ]
    }
   ],
   "source": [
    "from sklearn.model_selection import cross_val_score\n",
    "from sklearn.linear_model import LinearRegression\n",
    "import numpy as np\n",
    "\n",
    "# Assuming 'X' and 'y' are your features and target variable respectively\n",
    "model = LinearRegression()\n",
    "\n",
    "# Perform 5-fold cross-validation\n",
    "scores = cross_val_score(model, X, y, cv=5, scoring='r2')\n",
    "\n",
    "print(f\"R² scores for each fold: {scores}\")\n",
    "print(f\"Average R² across folds: {np.mean(scores)}\")\n"
   ]
  },
  {
   "cell_type": "markdown",
   "metadata": {},
   "source": [
    "2. Model Diagnostics\n",
    "Model diagnostics help ensure that the assumptions of your linear regression model are met, including linearity, independence of errors, homoscedasticity, and normality of residuals.\n",
    "\n",
    "Residuals Analysis\n",
    "Let's plot the residuals to check for any patterns that might suggest violations of these assumptions."
   ]
  },
  {
   "cell_type": "code",
   "execution_count": 42,
   "metadata": {},
   "outputs": [
    {
     "data": {
      "image/png": "[encoded data removed]",
      "text/plain": [
       "<Figure size 1000x600 with 1 Axes>"
      ]
     },
     "metadata": {},
     "output_type": "display_data"
    }
   ],
   "source": [
    "import matplotlib.pyplot as plt\n",
    "import seaborn as sns\n",
    "\n",
    "# Correct usage of sns.residplot\n",
    "plt.figure(figsize=(10, 6))\n",
    "sns.residplot(x=y_pred, y=residuals, lowess=True, line_kws={'color': 'red', 'lw': 1})\n",
    "plt.xlabel('Predicted Values')\n",
    "plt.ylabel('Residuals')\n",
    "plt.title('Residuals vs. Predicted Values')\n",
    "plt.show()\n"
   ]
  },
  {
   "cell_type": "markdown",
   "metadata": {},
   "source": [
    "This plot should ideally show no discernible pattern; a random dispersion of residuals suggests that the model's assumptions are likely being met.\n",
    "\n",
    "Checking for Normality of Residuals\n",
    "We can use a Q-Q plot to visually check the normality of the residuals."
   ]
  },
  {
   "cell_type": "code",
   "execution_count": 41,
   "metadata": {},
   "outputs": [
    {
     "data": {
      "image/png": "[encoded data removed]",
      "text/plain": [
       "<Figure size 1000x600 with 1 Axes>"
      ]
     },
     "metadata": {},
     "output_type": "display_data"
    }
   ],
   "source": [
    "import scipy.stats as stats\n",
    "\n",
    "plt.figure(figsize=(10, 6))\n",
    "stats.probplot(residuals, dist=\"norm\", plot=plt)\n",
    "plt.title('Q-Q Plot of Residuals')\n",
    "plt.show()\n"
   ]
  },
  {
   "cell_type": "markdown",
   "metadata": {},
   "source": [
    "A Q-Q plot that closely follows the 45-degree line suggests that the residuals are normally distributed."
   ]
  },
  {
   "cell_type": "code",
   "execution_count": 48,
   "metadata": {},
   "outputs": [
    {
     "name": "stdout",
     "output_type": "stream",
     "text": [
      "R² scores for each fold: [0.5397836984382007, 0.4892371367555961, 0.6913961232814307, 0.5226715046208574, 0.2846430655666572]\n",
      "Average R² across folds: 0.5055463057325484\n"
     ]
    }
   ],
   "source": [
    "from sklearn.model_selection import KFold\n",
    "import statsmodels.api as sm\n",
    "import numpy as np\n",
    "\n",
    "# Prepare your data\n",
    "X = sm.add_constant(X)  # Adds a constant term to the predictor variables\n",
    "y = y\n",
    "\n",
    "# Reset the index of X and y to ensure alignment\n",
    "X_reset = X.reset_index(drop=True)\n",
    "y_reset = y.reset_index(drop=True)\n",
    "\n",
    "# Initialize KFold\n",
    "kf = KFold(n_splits=5, shuffle=True, random_state=42)\n",
    "\n",
    "r2_scores = []\n",
    "\n",
    "# Manually iterate over folds\n",
    "for train_index, test_index in kf.split(X_reset):\n",
    "    X_train, X_test = X_reset.iloc[train_index], X_reset.iloc[test_index]\n",
    "    y_train, y_test = y_reset.iloc[train_index], y_reset.iloc[test_index]\n",
    "\n",
    "    # Fit the model using statsmodels\n",
    "    model = sm.OLS(y_train, X_train).fit()\n",
    "\n",
    "    # Predict on the test set\n",
    "    y_pred = model.predict(X_test)\n",
    "    \n",
    "    # Compute R² score\n",
    "    # For models fitted with statsmodels, you'll need to calculate R² manually for the test set\n",
    "    ss_res = np.sum((y_test - y_pred) ** 2)\n",
    "    ss_tot = np.sum((y_test - np.mean(y_train)) ** 2)\n",
    "    r2_score = 1 - (ss_res / ss_tot)\n",
    "\n",
    "    r2_scores.append(r2_score)\n",
    "\n",
    "# Calculate and print the average R² score\n",
    "average_r2_score = np.mean(r2_scores)\n",
    "print(f\"R² scores for each fold: {r2_scores}\")\n",
    "print(f\"Average R² across folds: {average_r2_score}\")\n",
    "\n"
   ]
  },
  {
   "cell_type": "code",
   "execution_count": 49,
   "metadata": {},
   "outputs": [
    {
     "name": "stdout",
     "output_type": "stream",
     "text": [
      "Best parameters: {'max_depth': None, 'min_samples_split': 2, 'n_estimators': 50}\n",
      "Best cross-validation R² score: 0.7548411615702196\n"
     ]
    }
   ],
   "source": [
    "from sklearn.model_selection import GridSearchCV\n",
    "from sklearn.ensemble import RandomForestRegressor\n",
    "from sklearn.metrics import make_scorer, r2_score\n",
    "\n",
    "# Define the model\n",
    "model = RandomForestRegressor(random_state=42)\n",
    "\n",
    "# Define the parameters grid to search\n",
    "param_grid = {\n",
    "    'n_estimators': [50, 100, 200],\n",
    "    'max_depth': [None, 10, 20, 30],\n",
    "    'min_samples_split': [2, 5, 10]\n",
    "}\n",
    "\n",
    "# Define the scorer\n",
    "scorer = make_scorer(r2_score)\n",
    "\n",
    "# Initialize the GridSearchCV object\n",
    "grid_search = GridSearchCV(estimator=model, param_grid=param_grid, scoring=scorer, cv=5, n_jobs=-1)\n",
    "\n",
    "# Fit to the data\n",
    "grid_search.fit(X, y)\n",
    "\n",
    "# Best parameters and score\n",
    "print(f\"Best parameters: {grid_search.best_params_}\")\n",
    "print(f\"Best cross-validation R² score: {grid_search.best_score_}\")\n"
   ]
  },
  {
   "cell_type": "markdown",
   "metadata": {},
   "source": [
    "max_depth: None (indicating no limit on the depth of the trees)\n",
    "min_samples_split: 2 (the minimum number of samples required to split an internal node)\n",
    "n_estimators: 50 (the number of trees in the forest)"
   ]
  },
  {
   "cell_type": "code",
   "execution_count": 51,
   "metadata": {},
   "outputs": [
    {
     "data": {
      "text/html": [
       "<style>#sk-container-id-2 {color: black;}#sk-container-id-2 pre{padding: 0;}#sk-container-id-2 div.sk-toggleable {background-color: white;}#sk-container-id-2 label.sk-toggleable__label {cursor: pointer;display: block;width: 100%;margin-bottom: 0;padding: 0.3em;box-sizing: border-box;text-align: center;}#sk-container-id-2 label.sk-toggleable__label-arrow:before {content: \"▸\";float: left;margin-right: 0.25em;color: #696969;}#sk-container-id-2 label.sk-toggleable__label-arrow:hover:before {color: black;}#sk-container-id-2 div.sk-estimator:hover label.sk-toggleable__label-arrow:before {color: black;}#sk-container-id-2 div.sk-toggleable__content {max-height: 0;max-width: 0;overflow: hidden;text-align: left;background-color: #f0f8ff;}#sk-container-id-2 div.sk-toggleable__content pre {margin: 0.2em;color: black;border-radius: 0.25em;background-color: #f0f8ff;}#sk-container-id-2 input.sk-toggleable__control:checked~div.sk-toggleable__content {max-height: 200px;max-width: 100%;overflow: auto;}#sk-container-id-2 input.sk-toggleable__control:checked~label.sk-toggleable__label-arrow:before {content: \"▾\";}#sk-container-id-2 div.sk-estimator input.sk-toggleable__control:checked~label.sk-toggleable__label {background-color: #d4ebff;}#sk-container-id-2 div.sk-label input.sk-toggleable__control:checked~label.sk-toggleable__label {background-color: #d4ebff;}#sk-container-id-2 input.sk-hidden--visually {border: 0;clip: rect(1px 1px 1px 1px);clip: rect(1px, 1px, 1px, 1px);height: 1px;margin: -1px;overflow: hidden;padding: 0;position: absolute;width: 1px;}#sk-container-id-2 div.sk-estimator {font-family: monospace;background-color: #f0f8ff;border: 1px dotted black;border-radius: 0.25em;box-sizing: border-box;margin-bottom: 0.5em;}#sk-container-id-2 div.sk-estimator:hover {background-color: #d4ebff;}#sk-container-id-2 div.sk-parallel-item::after {content: \"\";width: 100%;border-bottom: 1px solid gray;flex-grow: 1;}#sk-container-id-2 div.sk-label:hover label.sk-toggleable__label {background-color: #d4ebff;}#sk-container-id-2 div.sk-serial::before {content: \"\";position: absolute;border-left: 1px solid gray;box-sizing: border-box;top: 0;bottom: 0;left: 50%;z-index: 0;}#sk-container-id-2 div.sk-serial {display: flex;flex-direction: column;align-items: center;background-color: white;padding-right: 0.2em;padding-left: 0.2em;position: relative;}#sk-container-id-2 div.sk-item {position: relative;z-index: 1;}#sk-container-id-2 div.sk-parallel {display: flex;align-items: stretch;justify-content: center;background-color: white;position: relative;}#sk-container-id-2 div.sk-item::before, #sk-container-id-2 div.sk-parallel-item::before {content: \"\";position: absolute;border-left: 1px solid gray;box-sizing: border-box;top: 0;bottom: 0;left: 50%;z-index: -1;}#sk-container-id-2 div.sk-parallel-item {display: flex;flex-direction: column;z-index: 1;position: relative;background-color: white;}#sk-container-id-2 div.sk-parallel-item:first-child::after {align-self: flex-end;width: 50%;}#sk-container-id-2 div.sk-parallel-item:last-child::after {align-self: flex-start;width: 50%;}#sk-container-id-2 div.sk-parallel-item:only-child::after {width: 0;}#sk-container-id-2 div.sk-dashed-wrapped {border: 1px dashed gray;margin: 0 0.4em 0.5em 0.4em;box-sizing: border-box;padding-bottom: 0.4em;background-color: white;}#sk-container-id-2 div.sk-label label {font-family: monospace;font-weight: bold;display: inline-block;line-height: 1.2em;}#sk-container-id-2 div.sk-label-container {text-align: center;}#sk-container-id-2 div.sk-container {/* jupyter's `normalize.less` sets `[hidden] { display: none; }` but bootstrap.min.css set `[hidden] { display: none !important; }` so we also need the `!important` here to be able to override the default hidden behavior on the sphinx rendered scikit-learn.org. See: https://github.com/scikit-learn/scikit-learn/issues/21755 */display: inline-block !important;position: relative;}#sk-container-id-2 div.sk-text-repr-fallback {display: none;}</style><div id=\"sk-container-id-2\" class=\"sk-top-container\"><div class=\"sk-text-repr-fallback\"><pre>RandomForestRegressor(n_estimators=50, random_state=42)</pre><b>In a Jupyter environment, please rerun this cell to show the HTML representation or trust the notebook. <br />On GitHub, the HTML representation is unable to render, please try loading this page with nbviewer.org.</b></div><div class=\"sk-container\" hidden><div class=\"sk-item\"><div class=\"sk-estimator sk-toggleable\"><input class=\"sk-toggleable__control sk-hidden--visually\" id=\"sk-estimator-id-2\" type=\"checkbox\" checked><label for=\"sk-estimator-id-2\" class=\"sk-toggleable__label sk-toggleable__label-arrow\">RandomForestRegressor</label><div class=\"sk-toggleable__content\"><pre>RandomForestRegressor(n_estimators=50, random_state=42)</pre></div></div></div></div></div>"
      ],
      "text/plain": [
       "RandomForestRegressor(n_estimators=50, random_state=42)"
      ]
     },
     "execution_count": 51,
     "metadata": {},
     "output_type": "execute_result"
    }
   ],
   "source": [
    "from sklearn.ensemble import RandomForestRegressor\n",
    "\n",
    "# Initialize the RandomForestRegressor with the best parameters\n",
    "optimal_model = RandomForestRegressor(max_depth=None, min_samples_split=2, n_estimators=50, random_state=42)\n",
    "\n",
    "# Fit the model to your training data\n",
    "optimal_model.fit(X_train, y_train)\n"
   ]
  },
  {
   "cell_type": "code",
   "execution_count": 52,
   "metadata": {},
   "outputs": [
    {
     "data": {
      "image/png": "[encoded data removed]",
      "text/plain": [
       "<Figure size 1000x800 with 1 Axes>"
      ]
     },
     "metadata": {},
     "output_type": "display_data"
    }
   ],
   "source": [
    "# Accessing feature importances\n",
    "feature_importances = optimal_model.feature_importances_\n",
    "\n",
    "# Assuming X_train is a DataFrame and we can get feature names\n",
    "features = X_train.columns\n",
    "\n",
    "# Plotting feature importances\n",
    "import pandas as pd\n",
    "import matplotlib.pyplot as plt\n",
    "\n",
    "importances = pd.Series(feature_importances, index=features).sort_values()\n",
    "\n",
    "plt.figure(figsize=(10,8))\n",
    "importances.plot(kind='barh', color='skyblue')\n",
    "plt.title('Feature Importance')\n",
    "plt.show()\n"
   ]
  },
  {
   "cell_type": "code",
   "execution_count": 53,
   "metadata": {},
   "outputs": [
    {
     "name": "stdout",
     "output_type": "stream",
     "text": [
      "R2 Score: 0.8831618030746266\n"
     ]
    }
   ],
   "source": [
    "# Making predictions\n",
    "y_pred = optimal_model.predict(X_test)\n",
    "\n",
    "# Evaluate the model (example using R2 score)\n",
    "from sklearn.metrics import r2_score\n",
    "\n",
    "print(\"R2 Score:\", r2_score(y_test, y_pred))\n"
   ]
  }
 ],
 "metadata": {
  "kernelspec": {
   "display_name": "base",
   "language": "python",
   "name": "python3"
  },
  "language_info": {
   "codemirror_mode": {
    "name": "ipython",
    "version": 3
   },
   "file_extension": ".py",
   "mimetype": "text/x-python",
   "name": "python",
   "nbconvert_exporter": "python",
   "pygments_lexer": "ipython3",
   "version": "3.11.5"
  }
 },
 "nbformat": 4,
 "nbformat_minor": 2
}
