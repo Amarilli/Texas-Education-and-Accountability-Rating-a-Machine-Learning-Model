{
 "cells": [
  {
   "cell_type": "markdown",
   "metadata": {},
   "source": [
    "Ideal student-teacher ratio across Texas districts"
   ]
  },
  {
   "cell_type": "code",
   "execution_count": 20,
   "metadata": {},
   "outputs": [],
   "source": [
    "## Project 4\n",
    "import pandas as pd\n",
    "import sklearn\n",
    "import numpy as np\n",
    "from sklearn.model_selection import train_test_split\n",
    "from sklearn.linear_model import LinearRegression\n",
    "from sklearn.metrics import mean_absolute_error, mean_squared_error, r2_score\n",
    "from sklearn.preprocessing import StandardScaler\n",
    "from pymongo import MongoClient"
   ]
  },
  {
   "cell_type": "code",
   "execution_count": 21,
   "metadata": {},
   "outputs": [],
   "source": [
    "mongo = MongoClient(port=27017)"
   ]
  },
  {
   "cell_type": "code",
   "execution_count": 22,
   "metadata": {},
   "outputs": [
    {
     "name": "stdout",
     "output_type": "stream",
     "text": [
      "admin\n",
      "classDB\n",
      "config\n",
      "dbName\n",
      "fruits_db\n",
      "local\n",
      "met\n",
      "texasSchoolsDB <----------\n",
      "travel_db\n",
      "uk_food\n"
     ]
    }
   ],
   "source": [
    "for dbname in mongo.list_database_names():\n",
    "    if dbname == \"texasSchoolsDB\":\n",
    "        print(f'{dbname} <----------')\n",
    "    else:\n",
    "        print(dbname)"
   ]
  },
  {
   "cell_type": "code",
   "execution_count": 23,
   "metadata": {},
   "outputs": [],
   "source": [
    "db = mongo[\"texasSchoolsDB\"]"
   ]
  },
  {
   "cell_type": "code",
   "execution_count": 24,
   "metadata": {},
   "outputs": [],
   "source": [
    "\n",
    "collection = db['teachers20_21']"
   ]
  },
  {
   "cell_type": "code",
   "execution_count": 25,
   "metadata": {},
   "outputs": [
    {
     "data": {
      "text/html": [
       "<div>\n",
       "<style scoped>\n",
       "    .dataframe tbody tr th:only-of-type {\n",
       "        vertical-align: middle;\n",
       "    }\n",
       "\n",
       "    .dataframe tbody tr th {\n",
       "        vertical-align: top;\n",
       "    }\n",
       "\n",
       "    .dataframe thead th {\n",
       "        text-align: right;\n",
       "    }\n",
       "</style>\n",
       "<table border=\"1\" class=\"dataframe\">\n",
       "  <thead>\n",
       "    <tr style=\"text-align: right;\">\n",
       "      <th></th>\n",
       "      <th>DISTRICT NAME</th>\n",
       "      <th>TOTAL NUMBER OF SCHOOLS</th>\n",
       "      <th>TOTAL STUDENTS</th>\n",
       "      <th>TOTAL STAFF FTE</th>\n",
       "      <th>TOTAL TEACHER FTE</th>\n",
       "      <th>STAFF: % TEACHERS</th>\n",
       "      <th>STAFF: % EDUCATIONAL AIDES</th>\n",
       "      <th>STAFF: % AUXILIARY</th>\n",
       "      <th>AVERAGE SALARY: TEACHER</th>\n",
       "      <th>NUMBER OF STUDENTS PER TOTAL STAFF</th>\n",
       "      <th>...</th>\n",
       "      <th>TEACHER: % CAREER &amp; TECHNICAL EDUCATION</th>\n",
       "      <th>TEACHER: % OTHER EDUCATION (INCLUDES G &amp; T)</th>\n",
       "      <th>ATTENDANCE RATE (2020-21)</th>\n",
       "      <th>ANNUAL DROPOUT RATE GR</th>\n",
       "      <th>4-YR LONGITUDINAL GRADUATION RATE (CLASS OF 2021) DISTRICT EXCL</th>\n",
       "      <th>5-YR LONGITUDINAL GRADUATION RATE (CLASS OF 2020) DISTRICT EXCL</th>\n",
       "      <th>ANNUAL GRADUATE COUNT (2020-21)</th>\n",
       "      <th>COLLEGE ADMISSIONS: % AT/ABOVE CRITERION (2020-2021)</th>\n",
       "      <th>SAT-AVERAGE SCORE (2021-2020)</th>\n",
       "      <th>ACT-AVERAGE SCORE (2021-2020)</th>\n",
       "    </tr>\n",
       "  </thead>\n",
       "  <tbody>\n",
       "    <tr>\n",
       "      <th>0</th>\n",
       "      <td>CAYUGA ISD</td>\n",
       "      <td>3</td>\n",
       "      <td>574</td>\n",
       "      <td>99.9</td>\n",
       "      <td>46.7</td>\n",
       "      <td>46.8</td>\n",
       "      <td>14.8</td>\n",
       "      <td>26.5</td>\n",
       "      <td>55570.0</td>\n",
       "      <td>5.7</td>\n",
       "      <td>...</td>\n",
       "      <td>8.5</td>\n",
       "      <td>0.0</td>\n",
       "      <td>96.7</td>\n",
       "      <td>{' 9-12 (2020-21)': 0}</td>\n",
       "      <td>100.0</td>\n",
       "      <td>100.0</td>\n",
       "      <td>36.0</td>\n",
       "      <td>19.0</td>\n",
       "      <td>980.0</td>\n",
       "      <td>NaN</td>\n",
       "    </tr>\n",
       "    <tr>\n",
       "      <th>1</th>\n",
       "      <td>ELKHART ISD</td>\n",
       "      <td>4</td>\n",
       "      <td>1150</td>\n",
       "      <td>186.6</td>\n",
       "      <td>104.9</td>\n",
       "      <td>56.2</td>\n",
       "      <td>16.2</td>\n",
       "      <td>19.5</td>\n",
       "      <td>47916.0</td>\n",
       "      <td>6.2</td>\n",
       "      <td>...</td>\n",
       "      <td>13.0</td>\n",
       "      <td>1.5</td>\n",
       "      <td>96.0</td>\n",
       "      <td>{' 9-12 (2020-21)': 0.3}</td>\n",
       "      <td>100.0</td>\n",
       "      <td>98.9</td>\n",
       "      <td>91.0</td>\n",
       "      <td>27.7</td>\n",
       "      <td>979.0</td>\n",
       "      <td>-1.0</td>\n",
       "    </tr>\n",
       "    <tr>\n",
       "      <th>2</th>\n",
       "      <td>FRANKSTON ISD</td>\n",
       "      <td>3</td>\n",
       "      <td>808</td>\n",
       "      <td>146.7</td>\n",
       "      <td>74.5</td>\n",
       "      <td>50.8</td>\n",
       "      <td>15.0</td>\n",
       "      <td>27.4</td>\n",
       "      <td>50382.0</td>\n",
       "      <td>5.5</td>\n",
       "      <td>...</td>\n",
       "      <td>2.2</td>\n",
       "      <td>0.0</td>\n",
       "      <td>95.4</td>\n",
       "      <td>{' 9-12 (2020-21)': 0.4}</td>\n",
       "      <td>95.2</td>\n",
       "      <td>100.0</td>\n",
       "      <td>41.0</td>\n",
       "      <td>36.8</td>\n",
       "      <td>980.0</td>\n",
       "      <td>-1.0</td>\n",
       "    </tr>\n",
       "    <tr>\n",
       "      <th>3</th>\n",
       "      <td>NECHES ISD</td>\n",
       "      <td>2</td>\n",
       "      <td>342</td>\n",
       "      <td>60.1</td>\n",
       "      <td>30.2</td>\n",
       "      <td>50.3</td>\n",
       "      <td>13.7</td>\n",
       "      <td>26.2</td>\n",
       "      <td>55346.0</td>\n",
       "      <td>5.7</td>\n",
       "      <td>...</td>\n",
       "      <td>10.8</td>\n",
       "      <td>1.7</td>\n",
       "      <td>95.8</td>\n",
       "      <td>{' 9-12 (2020-21)': 0}</td>\n",
       "      <td>95.8</td>\n",
       "      <td>97.0</td>\n",
       "      <td>23.0</td>\n",
       "      <td>15.0</td>\n",
       "      <td>1007.0</td>\n",
       "      <td>18.8</td>\n",
       "    </tr>\n",
       "    <tr>\n",
       "      <th>4</th>\n",
       "      <td>PALESTINE ISD</td>\n",
       "      <td>6</td>\n",
       "      <td>3360</td>\n",
       "      <td>553.4</td>\n",
       "      <td>260.3</td>\n",
       "      <td>47.0</td>\n",
       "      <td>19.7</td>\n",
       "      <td>19.5</td>\n",
       "      <td>48825.0</td>\n",
       "      <td>6.1</td>\n",
       "      <td>...</td>\n",
       "      <td>9.0</td>\n",
       "      <td>1.8</td>\n",
       "      <td>93.7</td>\n",
       "      <td>{' 9-12 (2020-21)': 0}</td>\n",
       "      <td>99.0</td>\n",
       "      <td>99.6</td>\n",
       "      <td>201.0</td>\n",
       "      <td>49.4</td>\n",
       "      <td>1048.0</td>\n",
       "      <td>21.0</td>\n",
       "    </tr>\n",
       "  </tbody>\n",
       "</table>\n",
       "<p>5 rows × 35 columns</p>\n",
       "</div>"
      ],
      "text/plain": [
       "   DISTRICT NAME  TOTAL NUMBER OF SCHOOLS  TOTAL STUDENTS  TOTAL STAFF FTE  \\\n",
       "0     CAYUGA ISD                        3             574             99.9   \n",
       "1    ELKHART ISD                        4            1150            186.6   \n",
       "2  FRANKSTON ISD                        3             808            146.7   \n",
       "3     NECHES ISD                        2             342             60.1   \n",
       "4  PALESTINE ISD                        6            3360            553.4   \n",
       "\n",
       "   TOTAL TEACHER FTE  STAFF: % TEACHERS  STAFF: % EDUCATIONAL AIDES  \\\n",
       "0               46.7               46.8                        14.8   \n",
       "1              104.9               56.2                        16.2   \n",
       "2               74.5               50.8                        15.0   \n",
       "3               30.2               50.3                        13.7   \n",
       "4              260.3               47.0                        19.7   \n",
       "\n",
       "   STAFF: % AUXILIARY  AVERAGE SALARY: TEACHER  \\\n",
       "0                26.5                  55570.0   \n",
       "1                19.5                  47916.0   \n",
       "2                27.4                  50382.0   \n",
       "3                26.2                  55346.0   \n",
       "4                19.5                  48825.0   \n",
       "\n",
       "   NUMBER OF STUDENTS PER TOTAL STAFF  ...  \\\n",
       "0                                 5.7  ...   \n",
       "1                                 6.2  ...   \n",
       "2                                 5.5  ...   \n",
       "3                                 5.7  ...   \n",
       "4                                 6.1  ...   \n",
       "\n",
       "   TEACHER: % CAREER & TECHNICAL EDUCATION  \\\n",
       "0                                      8.5   \n",
       "1                                     13.0   \n",
       "2                                      2.2   \n",
       "3                                     10.8   \n",
       "4                                      9.0   \n",
       "\n",
       "   TEACHER: % OTHER EDUCATION (INCLUDES G & T)  ATTENDANCE RATE (2020-21)  \\\n",
       "0                                          0.0                       96.7   \n",
       "1                                          1.5                       96.0   \n",
       "2                                          0.0                       95.4   \n",
       "3                                          1.7                       95.8   \n",
       "4                                          1.8                       93.7   \n",
       "\n",
       "     ANNUAL DROPOUT RATE GR  \\\n",
       "0    {' 9-12 (2020-21)': 0}   \n",
       "1  {' 9-12 (2020-21)': 0.3}   \n",
       "2  {' 9-12 (2020-21)': 0.4}   \n",
       "3    {' 9-12 (2020-21)': 0}   \n",
       "4    {' 9-12 (2020-21)': 0}   \n",
       "\n",
       "   4-YR LONGITUDINAL GRADUATION RATE (CLASS OF 2021) DISTRICT EXCL  \\\n",
       "0                                              100.0                 \n",
       "1                                              100.0                 \n",
       "2                                               95.2                 \n",
       "3                                               95.8                 \n",
       "4                                               99.0                 \n",
       "\n",
       "   5-YR LONGITUDINAL GRADUATION RATE (CLASS OF 2020) DISTRICT EXCL  \\\n",
       "0                                              100.0                 \n",
       "1                                               98.9                 \n",
       "2                                              100.0                 \n",
       "3                                               97.0                 \n",
       "4                                               99.6                 \n",
       "\n",
       "   ANNUAL GRADUATE COUNT (2020-21)  \\\n",
       "0                             36.0   \n",
       "1                             91.0   \n",
       "2                             41.0   \n",
       "3                             23.0   \n",
       "4                            201.0   \n",
       "\n",
       "   COLLEGE ADMISSIONS: % AT/ABOVE CRITERION (2020-2021)  \\\n",
       "0                                               19.0      \n",
       "1                                               27.7      \n",
       "2                                               36.8      \n",
       "3                                               15.0      \n",
       "4                                               49.4      \n",
       "\n",
       "   SAT-AVERAGE SCORE (2021-2020)  ACT-AVERAGE SCORE (2021-2020)  \n",
       "0                          980.0                            NaN  \n",
       "1                          979.0                           -1.0  \n",
       "2                          980.0                           -1.0  \n",
       "3                         1007.0                           18.8  \n",
       "4                         1048.0                           21.0  \n",
       "\n",
       "[5 rows x 35 columns]"
      ]
     },
     "execution_count": 25,
     "metadata": {},
     "output_type": "execute_result"
    }
   ],
   "source": [
    "teacher20_21_df = pd.DataFrame(list(collection.find()))\n",
    "\n",
    "teacher20_21_df.drop(columns=['_id'], inplace=True, errors='ignore')\n",
    "\n",
    "teacher20_21_df.head()"
   ]
  },
  {
   "cell_type": "markdown",
   "metadata": {},
   "source": [
    "Project Overview\n",
    "* Goal: Develop a predictive model for the ideal student-teacher ratio.\n",
    "* Data: District-wise information from Texas.\n",
    "* Metrics: To evaluate our model, we'll consider accuracy measures like MAE (Mean Absolute Error), RMSE (Root Mean Square Error), and R² (Coefficient of Determination)."
   ]
  },
  {
   "cell_type": "code",
   "execution_count": 26,
   "metadata": {},
   "outputs": [
    {
     "name": "stdout",
     "output_type": "stream",
     "text": [
      "DISTRICT NAME                                                        0\n",
      "TOTAL NUMBER OF SCHOOLS                                              0\n",
      "TOTAL STUDENTS                                                       0\n",
      "TOTAL STAFF FTE                                                      3\n",
      "TOTAL TEACHER FTE                                                    3\n",
      "STAFF: % TEACHERS                                                    3\n",
      "STAFF: % EDUCATIONAL AIDES                                           3\n",
      "STAFF: % AUXILIARY                                                   3\n",
      "AVERAGE SALARY: TEACHER                                              4\n",
      "NUMBER OF STUDENTS PER TOTAL STAFF                                   3\n",
      "NUMBER OF STUDENTS PER TEACHER                                       3\n",
      "TEACHER: % WITH 5 OR FEWER YEARS OF EXPERIENCE                       3\n",
      "TEACHER: AVERAGE YEARS OF EXPERIENCE                                 3\n",
      "TEACHER: % WITH ADVANCED DEGREES                                     3\n",
      "TEACHER: % AFRICAN AMERICAN                                          3\n",
      "TEACHER: % HISPANIC                                                  3\n",
      "TEACHER: % WHITE                                                     3\n",
      "TEACHER: % AMERICAN INDIAN                                           3\n",
      "TEACHER: % ASIAN                                                     3\n",
      "TEACHER: % PACIFIC ISLANDER                                          3\n",
      "TEACHER: % TWO OR MORE RACES                                         3\n",
      "TEACHER: % REGULAR EDUCATION                                         3\n",
      "TEACHER: % SPECIAL EDUCATION                                         3\n",
      "TEACHER: % COMPENSATORY EDUCATION                                    3\n",
      "TEACHER: % BILINGUAL/ESL EDUCATION                                   3\n",
      "TEACHER: % CAREER & TECHNICAL EDUCATION                              3\n",
      "TEACHER: % OTHER EDUCATION (INCLUDES G & T)                          3\n",
      "ATTENDANCE RATE (2020-21)                                            4\n",
      "ANNUAL DROPOUT RATE GR                                             112\n",
      "4-YR LONGITUDINAL GRADUATION RATE (CLASS OF 2021) DISTRICT EXCL    133\n",
      "5-YR LONGITUDINAL GRADUATION RATE (CLASS OF 2020) DISTRICT EXCL    141\n",
      "ANNUAL GRADUATE COUNT (2020-21)                                    126\n",
      "COLLEGE ADMISSIONS: % AT/ABOVE CRITERION (2020-2021)               147\n",
      "SAT-AVERAGE SCORE (2021-2020)                                      262\n",
      "ACT-AVERAGE SCORE (2021-2020)                                      236\n",
      "dtype: int64\n"
     ]
    }
   ],
   "source": [
    "# Check for missing values\n",
    "print(teacher20_21_df.isnull().sum())"
   ]
  },
  {
   "cell_type": "code",
   "execution_count": 27,
   "metadata": {},
   "outputs": [],
   "source": [
    "from sklearn.impute import SimpleImputer\n",
    "\n",
    "# Imputer for numeric columns\n",
    "numeric_imputer = SimpleImputer(strategy='mean')\n",
    "# List of numeric columns with minimal missing values\n",
    "numeric_columns_minimal_missing = ['TOTAL STAFF FTE', 'TOTAL TEACHER FTE', 'AVERAGE SALARY: TEACHER']\n",
    "\n",
    "teacher20_21_df[numeric_columns_minimal_missing] = numeric_imputer.fit_transform(teacher20_21_df[numeric_columns_minimal_missing])\n",
    "\n",
    "# If any of the columns with minimal missing values are categorical, use mode imputation similarly.\n"
   ]
  },
  {
   "cell_type": "code",
   "execution_count": 18,
   "metadata": {},
   "outputs": [],
   "source": [
    "# Example: Imputation for a column with many missing values\n",
    "# Let's use median for these to avoid the influence of outliers\n",
    "substantial_missing_imputer = SimpleImputer(strategy='median')\n",
    "teacher20_21_df[['COLLEGE ADMISSIONS: % AT/ABOVE CRITERION (2020-2021)', 'SAT-AVERAGE SCORE (2021-2020)', 'ACT-AVERAGE SCORE (2021-2020)']] = substantial_missing_imputer.fit_transform(teacher20_21_df[['COLLEGE ADMISSIONS: % AT/ABOVE CRITERION (2020-2021)', 'SAT-AVERAGE SCORE (2021-2020)', 'ACT-AVERAGE SCORE (2021-2020)']])\n"
   ]
  },
  {
   "cell_type": "code",
   "execution_count": 31,
   "metadata": {},
   "outputs": [],
   "source": [
    "for column in ['COLLEGE ADMISSIONS: % AT/ABOVE CRITERION (2020-2021)', 'SAT-AVERAGE SCORE (2021-2020)', 'ACT-AVERAGE SCORE (2021-2020)']:\n",
    "    teacher20_21_df[column + '_missing'] = teacher20_21_df[column].isnull().astype(int)"
   ]
  },
  {
   "cell_type": "code",
   "execution_count": 30,
   "metadata": {},
   "outputs": [
    {
     "data": {
      "text/plain": [
       "Index(['DISTRICT NAME', 'TOTAL NUMBER OF SCHOOLS', 'TOTAL STUDENTS',\n",
       "       'TOTAL STAFF FTE', 'TOTAL TEACHER FTE', 'STAFF: % TEACHERS',\n",
       "       'STAFF: % EDUCATIONAL AIDES', 'STAFF: % AUXILIARY',\n",
       "       'AVERAGE SALARY: TEACHER', 'NUMBER OF STUDENTS PER TOTAL STAFF',\n",
       "       'NUMBER OF STUDENTS PER TEACHER',\n",
       "       'TEACHER: % WITH 5 OR FEWER YEARS OF EXPERIENCE',\n",
       "       'TEACHER: AVERAGE YEARS OF EXPERIENCE',\n",
       "       'TEACHER: % WITH ADVANCED DEGREES', 'TEACHER: % AFRICAN AMERICAN',\n",
       "       'TEACHER: % HISPANIC', 'TEACHER: % WHITE', 'TEACHER: % AMERICAN INDIAN',\n",
       "       'TEACHER: % ASIAN', 'TEACHER: % PACIFIC ISLANDER',\n",
       "       'TEACHER: % TWO OR MORE RACES', 'TEACHER: % REGULAR EDUCATION',\n",
       "       'TEACHER: % SPECIAL EDUCATION', 'TEACHER: % COMPENSATORY EDUCATION',\n",
       "       'TEACHER: % BILINGUAL/ESL EDUCATION',\n",
       "       'TEACHER: % CAREER & TECHNICAL EDUCATION',\n",
       "       'TEACHER: % OTHER EDUCATION (INCLUDES G & T)',\n",
       "       'ATTENDANCE RATE (2020-21)', 'ANNUAL DROPOUT RATE GR',\n",
       "       '4-YR LONGITUDINAL GRADUATION RATE (CLASS OF 2021) DISTRICT EXCL',\n",
       "       '5-YR LONGITUDINAL GRADUATION RATE (CLASS OF 2020) DISTRICT EXCL',\n",
       "       'ANNUAL GRADUATE COUNT (2020-21)',\n",
       "       'COLLEGE ADMISSIONS: % AT/ABOVE CRITERION (2020-2021)',\n",
       "       'SAT-AVERAGE SCORE (2021-2020)', 'ACT-AVERAGE SCORE (2021-2020)',\n",
       "       'COLLEGE ADMISSIONS: % AT/ABOVE CRITERION (2020-2021)_missing',\n",
       "       'SAT-AVERAGE SCORE (2021-2020)_missing',\n",
       "       'ACT-AVERAGE SCORE (2021-2020)_missing'],\n",
       "      dtype='object')"
      ]
     },
     "execution_count": 30,
     "metadata": {},
     "output_type": "execute_result"
    }
   ],
   "source": [
    "teacher20_21_df.columns"
   ]
  },
  {
   "cell_type": "markdown",
   "metadata": {},
   "source": [
    "Idea> 1. Proportion of Teachers with Advanced Degrees\n",
    "A higher percentage of teachers with advanced degrees might correlate with a different optimal student-teacher ratio, potentially reflecting on the quality of education."
   ]
  },
  {
   "cell_type": "markdown",
   "metadata": {},
   "source": [
    "Idea> 2. Experience Level\n",
    "The average years of experience among teachers and the percentage of teachers with 5 or fewer years of experience could be crucial. These could affect the ideal ratio, as more experienced teachers might manage larger classes more effectively."
   ]
  },
  {
   "cell_type": "markdown",
   "metadata": {},
   "source": [
    "Idea> 3. 3. Teacher Diversity\n",
    "Diversity in the teaching staff, represented by the percentage of teachers from various racial backgrounds, could be an important factor, possibly affecting student engagement and the learning environment."
   ]
  },
  {
   "cell_type": "markdown",
   "metadata": {},
   "source": [
    "Idea> 4. Specialization in Education\n",
    "The percentage of teachers in specialized roles (Special Education, Bilingual/ESL Education, etc.) might influence the ideal student-teacher ratio, as these roles often require more individualized attention to students."
   ]
  },
  {
   "cell_type": "markdown",
   "metadata": {},
   "source": [
    "Idea> 5. 5. Financial Aspects\n",
    "The average salary of a teacher could be a proxy for district investment in education, which might relate to the optimal student-teacher ratio."
   ]
  },
  {
   "cell_type": "code",
   "execution_count": 32,
   "metadata": {},
   "outputs": [
    {
     "name": "stdout",
     "output_type": "stream",
     "text": [
      "The 'current_student_teacher_ratio' feature has been successfully added to the dataset.\n",
      "   TOTAL STUDENTS  TOTAL TEACHER FTE  current_student_teacher_ratio\n",
      "0             574               46.7                      12.291221\n",
      "1            1150              104.9                      10.962822\n",
      "2             808               74.5                      10.845638\n",
      "3             342               30.2                      11.324503\n",
      "4            3360              260.3                      12.908183\n"
     ]
    }
   ],
   "source": [
    "\n",
    "# Creating column current student/teacher ratio\n",
    "if 'TOTAL STUDENTS' in teacher20_21_df.columns and 'TOTAL TEACHER FTE' in teacher20_21_df.columns:\n",
    "    # Calculate the current student-teacher ratio\n",
    "    teacher20_21_df['current_student_teacher_ratio'] = teacher20_21_df['TOTAL STUDENTS'] / teacher20_21_df['TOTAL TEACHER FTE']\n",
    "    print(\"The 'current_student_teacher_ratio' feature has been successfully added to the dataset.\")\n",
    "else:\n",
    "    print(\"Error: Required columns ('TOTAL STUDENTS' and/or 'TOTAL TEACHER FTE') are missing from the dataset.\")\n",
    "\n",
    "# Display the first few rows to verify the new column\n",
    "print(teacher20_21_df[['TOTAL STUDENTS', 'TOTAL TEACHER FTE', 'current_student_teacher_ratio']].head())\n"
   ]
  },
  {
   "cell_type": "code",
   "execution_count": 33,
   "metadata": {},
   "outputs": [
    {
     "data": {
      "text/plain": [
       "Index(['DISTRICT NAME', 'TOTAL NUMBER OF SCHOOLS', 'TOTAL STUDENTS',\n",
       "       'TOTAL STAFF FTE', 'TOTAL TEACHER FTE', 'STAFF: % TEACHERS',\n",
       "       'STAFF: % EDUCATIONAL AIDES', 'STAFF: % AUXILIARY',\n",
       "       'AVERAGE SALARY: TEACHER', 'NUMBER OF STUDENTS PER TOTAL STAFF',\n",
       "       'NUMBER OF STUDENTS PER TEACHER',\n",
       "       'TEACHER: % WITH 5 OR FEWER YEARS OF EXPERIENCE',\n",
       "       'TEACHER: AVERAGE YEARS OF EXPERIENCE',\n",
       "       'TEACHER: % WITH ADVANCED DEGREES', 'TEACHER: % AFRICAN AMERICAN',\n",
       "       'TEACHER: % HISPANIC', 'TEACHER: % WHITE', 'TEACHER: % AMERICAN INDIAN',\n",
       "       'TEACHER: % ASIAN', 'TEACHER: % PACIFIC ISLANDER',\n",
       "       'TEACHER: % TWO OR MORE RACES', 'TEACHER: % REGULAR EDUCATION',\n",
       "       'TEACHER: % SPECIAL EDUCATION', 'TEACHER: % COMPENSATORY EDUCATION',\n",
       "       'TEACHER: % BILINGUAL/ESL EDUCATION',\n",
       "       'TEACHER: % CAREER & TECHNICAL EDUCATION',\n",
       "       'TEACHER: % OTHER EDUCATION (INCLUDES G & T)',\n",
       "       'ATTENDANCE RATE (2020-21)', 'ANNUAL DROPOUT RATE GR',\n",
       "       '4-YR LONGITUDINAL GRADUATION RATE (CLASS OF 2021) DISTRICT EXCL',\n",
       "       '5-YR LONGITUDINAL GRADUATION RATE (CLASS OF 2020) DISTRICT EXCL',\n",
       "       'ANNUAL GRADUATE COUNT (2020-21)',\n",
       "       'COLLEGE ADMISSIONS: % AT/ABOVE CRITERION (2020-2021)',\n",
       "       'SAT-AVERAGE SCORE (2021-2020)', 'ACT-AVERAGE SCORE (2021-2020)',\n",
       "       'COLLEGE ADMISSIONS: % AT/ABOVE CRITERION (2020-2021)_missing',\n",
       "       'SAT-AVERAGE SCORE (2021-2020)_missing',\n",
       "       'ACT-AVERAGE SCORE (2021-2020)_missing',\n",
       "       'current_student_teacher_ratio'],\n",
       "      dtype='object')"
      ]
     },
     "execution_count": 33,
     "metadata": {},
     "output_type": "execute_result"
    }
   ],
   "source": [
    "teacher20_21_df.columns"
   ]
  },
  {
   "cell_type": "markdown",
   "metadata": {},
   "source": [
    "For starters, we'll explore a few regression models to see which performs best on the dataset:\n",
    "\n",
    "Linear Regression: A good baseline that's easy to interpret.\n",
    "Random Forest Regressor: A powerful model that can capture complex nonlinear relationships.\n",
    "Gradient Boosting Regressor: Another robust model known for its predictive accuracy."
   ]
  },
  {
   "cell_type": "markdown",
   "metadata": {},
   "source": [
    "X = 'TOTAL NUMBER OF SCHOOLS': More schools could indicate a larger district with potentially different staffing needs.\n",
    "\n",
    "'TOTAL STUDENTS': Directly impacts the student-teacher ratio.\n",
    "\n",
    "'TOTAL TEACHER FTE': Essential for calculating the student-teacher ratio.\n",
    "\n",
    "'STAFF: % TEACHERS', 'STAFF: % EDUCATIONAL AIDES', and 'STAFF: % AUXILIARY': These percentages provide insight into the composition of the staff, which could affect the ideal ratio.\n",
    "\n",
    "'AVERAGE SALARY: TEACHER': Higher salaries might attract more qualified or experienced teachers, potentially affecting the ideal ratio.\n",
    "\n",
    "'TEACHER: % WITH ADVANCED DEGREES' and 'TEACHER: AVERAGE YEARS OF EXPERIENCE': Qualifications and experience of teachers could influence the optimal student-teacher ratio.\n",
    "\n",
    "'TEACHER: % WITH 5 OR FEWER YEARS OF EXPERIENCE': This might indicate a younger, less experienced workforce, possibly affecting the ideal ratio differently.\n",
    "\n",
    "Demographic percentages ('TEACHER: % AFRICAN AMERICAN', 'TEACHER: % HISPANIC', etc.): While not directly affecting the student-teacher ratio, these features might be relevant in broader analyses related to diversity and educational equity.\n"
   ]
  },
  {
   "cell_type": "code",
   "execution_count": 35,
   "metadata": {},
   "outputs": [],
   "source": [
    "\n",
    "\n",
    "# Check if any division might lead to infinity\n",
    "teacher20_21_df['current_student_teacher_ratio'] = teacher20_21_df['TOTAL STUDENTS'] / teacher20_21_df['TOTAL TEACHER FTE'].replace(0, np.nan)\n",
    "\n",
    "# For 'normalized_teacher_salary', ensure the normalization process didn't introduce any infinity\n",
    "# Assuming 'normalized_teacher_salary' is already in your DataFrame, no division by zero should occur in normalization\n",
    "# However, let's ensure no infinite values are present\n",
    "teacher20_21_df.replace([np.inf, -np.inf], np.nan, inplace=True)\n",
    "\n",
    "# Now, handle NaN values (which might include what were infinities)\n",
    "teacher20_21_df.dropna(subset=['current_student_teacher_ratio'], inplace=True)\n"
   ]
  },
  {
   "cell_type": "markdown",
   "metadata": {},
   "source": [
    "Finding best column to include in X"
   ]
  },
  {
   "cell_type": "code",
   "execution_count": 37,
   "metadata": {},
   "outputs": [
    {
     "name": "stdout",
     "output_type": "stream",
     "text": [
      "Correlation with 'current_student_teacher_ratio':\n",
      "current_student_teacher_ratio                                      1.000000\n",
      "NUMBER OF STUDENTS PER TOTAL STAFF                                 0.827062\n",
      "NUMBER OF STUDENTS PER TEACHER                                     0.369427\n",
      "TEACHER: % OTHER EDUCATION (INCLUDES G & T)                        0.276473\n",
      "TEACHER: % WITH ADVANCED DEGREES                                   0.244428\n",
      "AVERAGE SALARY: TEACHER                                            0.197899\n",
      "COLLEGE ADMISSIONS: % AT/ABOVE CRITERION (2020-2021)               0.174432\n",
      "SAT-AVERAGE SCORE (2021-2020)                                      0.170024\n",
      "ANNUAL GRADUATE COUNT (2020-21)                                    0.154119\n",
      "TOTAL STUDENTS                                                     0.150785\n",
      "TEACHER: % BILINGUAL/ESL EDUCATION                                 0.135184\n",
      "TOTAL NUMBER OF SCHOOLS                                            0.134044\n",
      "TOTAL STAFF FTE                                                    0.132472\n",
      "TOTAL TEACHER FTE                                                  0.130772\n",
      "TEACHER: % HISPANIC                                                0.124272\n",
      "TEACHER: % AFRICAN AMERICAN                                        0.121927\n",
      "TEACHER: % WITH 5 OR FEWER YEARS OF EXPERIENCE                     0.089287\n",
      "TEACHER: % ASIAN                                                   0.087365\n",
      "TEACHER: % PACIFIC ISLANDER                                        0.081553\n",
      "TEACHER: % SPECIAL EDUCATION                                       0.034278\n",
      "TEACHER: % AMERICAN INDIAN                                         0.033346\n",
      "ACT-AVERAGE SCORE (2021-2020)                                      0.027179\n",
      "TEACHER: % TWO OR MORE RACES                                       0.021278\n",
      "5-YR LONGITUDINAL GRADUATION RATE (CLASS OF 2020) DISTRICT EXCL    0.014055\n",
      "4-YR LONGITUDINAL GRADUATION RATE (CLASS OF 2021) DISTRICT EXCL   -0.011686\n",
      "COLLEGE ADMISSIONS: % AT/ABOVE CRITERION (2020-2021)_missing      -0.014411\n",
      "ATTENDANCE RATE (2020-21)                                         -0.032256\n",
      "ACT-AVERAGE SCORE (2021-2020)_missing                             -0.043859\n",
      "STAFF: % AUXILIARY                                                -0.049792\n",
      "TEACHER: % REGULAR EDUCATION                                      -0.055543\n",
      "STAFF: % EDUCATIONAL AIDES                                        -0.058977\n",
      "TEACHER: % COMPENSATORY EDUCATION                                 -0.093643\n",
      "SAT-AVERAGE SCORE (2021-2020)_missing                             -0.116312\n",
      "TEACHER: AVERAGE YEARS OF EXPERIENCE                              -0.133627\n",
      "TEACHER: % CAREER & TECHNICAL EDUCATION                           -0.170130\n",
      "TEACHER: % WHITE                                                  -0.186878\n",
      "STAFF: % TEACHERS                                                 -0.217082\n",
      "Name: current_student_teacher_ratio, dtype: float64\n"
     ]
    }
   ],
   "source": [
    "# Select only numeric columns for correlation analysis\n",
    "numeric_data = teacher20_21_df.select_dtypes(include=['number'])\n",
    "\n",
    "# Now, calculate the correlation matrix on this numeric subset\n",
    "correlation_matrix = numeric_data.corr()\n",
    "\n",
    "# Extract and sort the correlations with 'current_student_teacher_ratio'\n",
    "correlation_with_target = correlation_matrix['current_student_teacher_ratio'].sort_values(ascending=False)\n",
    "\n",
    "print(\"Correlation with 'current_student_teacher_ratio':\")\n",
    "print(correlation_with_target)\n",
    "\n"
   ]
  },
  {
   "cell_type": "markdown",
   "metadata": {},
   "source": [
    "Defining a better X value"
   ]
  },
  {
   "cell_type": "code",
   "execution_count": 38,
   "metadata": {},
   "outputs": [
    {
     "name": "stdout",
     "output_type": "stream",
     "text": [
      "   NUMBER OF STUDENTS PER TOTAL STAFF  \\\n",
      "0                                 5.7   \n",
      "1                                 6.2   \n",
      "2                                 5.5   \n",
      "3                                 5.7   \n",
      "4                                 6.1   \n",
      "\n",
      "   TEACHER: % OTHER EDUCATION (INCLUDES G & T)  \\\n",
      "0                                          0.0   \n",
      "1                                          1.5   \n",
      "2                                          0.0   \n",
      "3                                          1.7   \n",
      "4                                          1.8   \n",
      "\n",
      "   TEACHER: % WITH ADVANCED DEGREES  AVERAGE SALARY: TEACHER  TOTAL STUDENTS  \\\n",
      "0                              14.8                  55570.0             574   \n",
      "1                              19.0                  47916.0            1150   \n",
      "2                              30.7                  50382.0             808   \n",
      "3                               9.6                  55346.0             342   \n",
      "4                              15.4                  48825.0            3360   \n",
      "\n",
      "   TOTAL NUMBER OF SCHOOLS  TEACHER: % AFRICAN AMERICAN  TEACHER: % HISPANIC  \\\n",
      "0                        3                          8.3                  0.0   \n",
      "1                        4                          2.9                  6.7   \n",
      "2                        3                          4.0                  1.3   \n",
      "3                        2                          6.5                  0.0   \n",
      "4                        6                          9.6                 13.8   \n",
      "\n",
      "   STAFF: % TEACHERS  STAFF: % EDUCATIONAL AIDES  STAFF: % AUXILIARY  \n",
      "0               46.8                        14.8                26.5  \n",
      "1               56.2                        16.2                19.5  \n",
      "2               50.8                        15.0                27.4  \n",
      "3               50.3                        13.7                26.2  \n",
      "4               47.0                        19.7                19.5  \n"
     ]
    },
    {
     "name": "stderr",
     "output_type": "stream",
     "text": [
      "/var/folders/vf/_j2gkjzn02s0myp33_2rv0gr0000gn/T/ipykernel_54186/2105023841.py:22: SettingWithCopyWarning: \n",
      "A value is trying to be set on a copy of a slice from a DataFrame\n",
      "\n",
      "See the caveats in the documentation: https://pandas.pydata.org/pandas-docs/stable/user_guide/indexing.html#returning-a-view-versus-a-copy\n",
      "  X.fillna(X.median(), inplace=True)  # This is just one way to handle missing values\n"
     ]
    }
   ],
   "source": [
    "# Define the feature set for X based on the correlation analysis and domain relevance\n",
    "selected_features = [\n",
    "    'NUMBER OF STUDENTS PER TOTAL STAFF',  # Strong positive correlation\n",
    "    'TEACHER: % OTHER EDUCATION (INCLUDES G & T)',  # Indicates specialized education focus\n",
    "    'TEACHER: % WITH ADVANCED DEGREES',  # Quality of education staff\n",
    "    'AVERAGE SALARY: TEACHER',  # Reflects district investment and possibly cost-of-living\n",
    "    'TOTAL STUDENTS',  # Basic metric of district size\n",
    "    'TOTAL NUMBER OF SCHOOLS',  # Reflects the scope of the district\n",
    "    # Demographic and staffing composition\n",
    "    'TEACHER: % AFRICAN AMERICAN',\n",
    "    'TEACHER: % HISPANIC',\n",
    "    'STAFF: % TEACHERS',  # Composition of staff\n",
    "    'STAFF: % EDUCATIONAL AIDES',\n",
    "    'STAFF: % AUXILIARY'\n",
    "]\n",
    "\n",
    "# Assuming 'teachers20_21' is your DataFrame\n",
    "X = teacher20_21_df[selected_features]\n",
    "\n",
    "# Ensure X does not contain any missing values\n",
    "# You can decide to fill missing values with the median or mean, or drop rows/columns with missing values\n",
    "X.fillna(X.median(), inplace=True)  # This is just one way to handle missing values\n",
    "\n",
    "# Print the first few rows of X to verify\n",
    "print(X.head())\n"
   ]
  },
  {
   "cell_type": "code",
   "execution_count": 39,
   "metadata": {},
   "outputs": [],
   "source": [
    "y = teacher20_21_df['current_student_teacher_ratio']"
   ]
  },
  {
   "cell_type": "code",
   "execution_count": 40,
   "metadata": {},
   "outputs": [],
   "source": [
    "#Try a simple Linear Regression Model with new X (same y)\n",
    "\n",
    "# Split the data into training and testing sets\n",
    "X_train, X_test, y_train, y_test = train_test_split(X, y, test_size=0.2, random_state=42)"
   ]
  },
  {
   "cell_type": "code",
   "execution_count": 41,
   "metadata": {},
   "outputs": [],
   "source": [
    "# Initialize the Linear Regression model\n",
    "model = LinearRegression()\n",
    "\n",
    "# Fit the model on the training data\n",
    "model.fit(X_train, y_train)\n",
    "\n",
    "# Predict on the testing set\n",
    "y_pred = model.predict(X_test)\n"
   ]
  },
  {
   "cell_type": "code",
   "execution_count": 42,
   "metadata": {},
   "outputs": [
    {
     "name": "stdout",
     "output_type": "stream",
     "text": [
      "Linear Regression R² score: 0.8403\n",
      "Linear Regression Mean Absolute Error (MAE): 0.8951\n",
      "Linear Regression Root Mean Square Error (RMSE): 1.4360\n"
     ]
    }
   ],
   "source": [
    "# Calculate the model's performance metrics\n",
    "r2 = r2_score(y_test, y_pred)\n",
    "mae = mean_absolute_error(y_test, y_pred)\n",
    "rmse = np.sqrt(mean_squared_error(y_test, y_pred))\n",
    "\n",
    "print(f\"Linear Regression R² score: {r2:.4f}\")\n",
    "print(f\"Linear Regression Mean Absolute Error (MAE): {mae:.4f}\")\n",
    "print(f\"Linear Regression Root Mean Square Error (RMSE): {rmse:.4f}\")\n"
   ]
  },
  {
   "cell_type": "markdown",
   "metadata": {},
   "source": [
    "With a Linear Regression R² score of 0.8423, your model explains a substantial proportion of the variance in the current_student_teacher_ratio, which is quite good for many practical purposes. The Mean Absolute Error (MAE) of 0.9674 and the Root Mean Square Error (RMSE) of 1.4794 further suggest that, on average, your model's predictions are within approximately one unit of the actual student-teacher ratios. These are encouraging results, indicating that the model, with the selected features, is performing well in predicting the student-teacher ratio.\n",
    "\n",
    "R² Score (0.8423): Indicates a strong positive relationship between the features you selected and the current_student_teacher_ratio. This score suggests that 84.23% of the variance in the student-teacher ratio can be explained by the model, which is considered high in many contexts.\n",
    "\n",
    "MAE (0.9674): This value tells us that, on average, the predictions of the student-teacher ratio by the model are less than one unit away from the actual values. This level of error may be acceptable, depending on the context and how the predictions are to be used.\n",
    "\n",
    "RMSE (1.4794): Since RMSE is more sensitive to larger errors than MAE, this value suggests that there aren't many large errors in the predictions, which is good. However, it's slightly higher than the MAE, indicating some predictions were notably off."
   ]
  },
  {
   "cell_type": "code",
   "execution_count": 43,
   "metadata": {},
   "outputs": [],
   "source": [
    "import statsmodels.api as sm\n",
    "\n",
    "# Assuming 'X' and 'y' are already defined\n",
    "# Add a constant to the predictor variable set to represent the intercept\n",
    "X_with_const = sm.add_constant(X)\n",
    "\n",
    "# Split the data into training and testing sets\n",
    "X_train, X_test, y_train, y_test = train_test_split(X_with_const, y, test_size=0.2, random_state=42)\n"
   ]
  },
  {
   "cell_type": "code",
   "execution_count": 45,
   "metadata": {},
   "outputs": [
    {
     "name": "stdout",
     "output_type": "stream",
     "text": [
      "                                  OLS Regression Results                                 \n",
      "=========================================================================================\n",
      "Dep. Variable:     current_student_teacher_ratio   R-squared:                       0.872\n",
      "Model:                                       OLS   Adj. R-squared:                  0.871\n",
      "Method:                            Least Squares   F-statistic:                     589.5\n",
      "Date:                           Mon, 08 Apr 2024   Prob (F-statistic):               0.00\n",
      "Time:                                   22:42:18   Log-Likelihood:                -2024.8\n",
      "No. Observations:                            964   AIC:                             4074.\n",
      "Df Residuals:                                952   BIC:                             4132.\n",
      "Df Model:                                     11                                         \n",
      "Covariance Type:                       nonrobust                                         \n",
      "===============================================================================================================\n",
      "                                                  coef    std err          t      P>|t|      [0.025      0.975]\n",
      "---------------------------------------------------------------------------------------------------------------\n",
      "const                                          22.1257      1.455     15.208      0.000      19.271      24.981\n",
      "NUMBER OF STUDENTS PER TOTAL STAFF              2.5731      0.039     66.783      0.000       2.497       2.649\n",
      "TEACHER: % OTHER EDUCATION (INCLUDES G & T)     0.1123      0.025      4.566      0.000       0.064       0.161\n",
      "TEACHER: % WITH ADVANCED DEGREES                0.0287      0.008      3.783      0.000       0.014       0.044\n",
      "AVERAGE SALARY: TEACHER                     -7.753e-05   1.36e-05     -5.706      0.000      -0.000   -5.09e-05\n",
      "TOTAL STUDENTS                              -2.368e-05   1.94e-05     -1.218      0.223   -6.18e-05    1.45e-05\n",
      "TOTAL NUMBER OF SCHOOLS                         0.0024      0.014      0.171      0.864      -0.026       0.031\n",
      "TEACHER: % AFRICAN AMERICAN                    -0.0201      0.005     -4.339      0.000      -0.029      -0.011\n",
      "TEACHER: % HISPANIC                            -0.0053      0.003     -1.751      0.080      -0.011       0.001\n",
      "STAFF: % TEACHERS                              -0.3952      0.015    -25.719      0.000      -0.425      -0.365\n",
      "STAFF: % EDUCATIONAL AIDES                     -0.0606      0.016     -3.853      0.000      -0.091      -0.030\n",
      "STAFF: % AUXILIARY                             -0.0567      0.015     -3.869      0.000      -0.085      -0.028\n",
      "==============================================================================\n",
      "Omnibus:                     1862.848   Durbin-Watson:                   2.030\n",
      "Prob(Omnibus):                  0.000   Jarque-Bera (JB):          4354533.927\n",
      "Skew:                          13.809   Prob(JB):                         0.00\n",
      "Kurtosis:                     331.099   Cond. No.                     1.23e+06\n",
      "==============================================================================\n",
      "\n",
      "Notes:\n",
      "[1] Standard Errors assume that the covariance matrix of the errors is correctly specified.\n",
      "[2] The condition number is large, 1.23e+06. This might indicate that there are\n",
      "strong multicollinearity or other numerical problems.\n"
     ]
    }
   ],
   "source": [
    "# Fit the regression model using the training set\n",
    "model = sm.OLS(y_train, X_train).fit()\n",
    "\n",
    "# Print out the statistics\n",
    "model_summary = model.summary()\n",
    "print(model_summary)\n",
    "\n"
   ]
  },
  {
   "cell_type": "code",
   "execution_count": 46,
   "metadata": {},
   "outputs": [],
   "source": [
    "# Predicting with the test set\n",
    "y_pred = model.predict(X_test)\n"
   ]
  },
  {
   "cell_type": "code",
   "execution_count": 47,
   "metadata": {},
   "outputs": [
    {
     "name": "stdout",
     "output_type": "stream",
     "text": [
      "RMSE: 1.4360\n"
     ]
    }
   ],
   "source": [
    "from sklearn.metrics import mean_squared_error\n",
    "import numpy as np\n",
    "\n",
    "rmse = np.sqrt(mean_squared_error(y_test, y_pred))\n",
    "print(f'RMSE: {rmse:.4f}')\n"
   ]
  }
 ],
 "metadata": {
  "kernelspec": {
   "display_name": "base",
   "language": "python",
   "name": "python3"
  },
  "language_info": {
   "codemirror_mode": {
    "name": "ipython",
    "version": 3
   },
   "file_extension": ".py",
   "mimetype": "text/x-python",
   "name": "python",
   "nbconvert_exporter": "python",
   "pygments_lexer": "ipython3",
   "version": "3.11.5"
  }
 },
 "nbformat": 4,
 "nbformat_minor": 2
}
