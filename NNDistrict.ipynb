{
 "cells": [
  {
   "cell_type": "code",
   "execution_count": 1,
   "metadata": {},
   "outputs": [],
   "source": [
    "\n",
    "import pandas as pd\n",
    "import sklearn\n",
    "import numpy as np\n",
    "from sklearn.model_selection import train_test_split\n",
    "from sklearn.linear_model import LinearRegression\n",
    "from sklearn.metrics import mean_absolute_error, mean_squared_error, r2_score\n",
    "from sklearn.preprocessing import StandardScaler\n",
    "import tensorflow as tf\n",
    "from tensorflow.keras.models import Sequential\n",
    "from tensorflow.keras.layers import Dense\n",
    "from sklearn.preprocessing import LabelEncoder\n",
    "from pymongo import MongoClient"
   ]
  },
  {
   "cell_type": "code",
   "execution_count": 2,
   "metadata": {},
   "outputs": [
    {
     "name": "stdout",
     "output_type": "stream",
     "text": [
      "admin\n",
      "autosaurus\n",
      "classDB\n",
      "config\n",
      "epa\n",
      "fruits_db\n",
      "garden_db\n",
      "local\n",
      "met\n",
      "petsitly_marketing\n",
      "test\n",
      "texasSchoolsDB <----------\n",
      "travel_db\n",
      "uk_food\n"
     ]
    }
   ],
   "source": [
    "# connect to mongodb\n",
    "mongo = MongoClient(port=27017)\n",
    "\n",
    "for dbname in mongo.list_database_names():\n",
    "    if dbname == \"texasSchoolsDB\":\n",
    "        print(f'{dbname} <----------')\n",
    "    else:\n",
    "        print(dbname)"
   ]
  },
  {
   "cell_type": "code",
   "execution_count": 3,
   "metadata": {},
   "outputs": [
    {
     "data": {
      "text/plain": [
       "['demographics',\n",
       " 'scores_coordinates',\n",
       " 'scores_finances',\n",
       " 'scores_finances_coordinates',\n",
       " 'schools_2022_to_2023_geojson',\n",
       " 'staar20_21',\n",
       " 'DISTRICTS_INFO_2020_21',\n",
       " 'account_ratings22',\n",
       " 'current_districts_geojson',\n",
       " 'tor20_21',\n",
       " 'coordinates',\n",
       " 'school_info',\n",
       " 'teachers20_21',\n",
       " 'demographic20_21']"
      ]
     },
     "execution_count": 3,
     "metadata": {},
     "output_type": "execute_result"
    }
   ],
   "source": [
    "# find collections\n",
    "db = mongo[\"texasSchoolsDB\"]\n",
    "db.list_collection_names()"
   ]
  },
  {
   "cell_type": "markdown",
   "metadata": {},
   "source": [
    "# Data Processing"
   ]
  },
  {
   "cell_type": "code",
   "execution_count": 4,
   "metadata": {},
   "outputs": [],
   "source": [
    "# Grab collections from mongodb and convert it to a pandas dataframe\n",
    "collection1 = db.DISTRICTS_INFO_2020_21\n",
    "collection2 = db.staar20_21\n",
    "\n",
    "all_info = pd.DataFrame(list(collection1.find()))\n",
    "staar19 = pd.DataFrame(list(collection2.find()))"
   ]
  },
  {
   "cell_type": "code",
   "execution_count": 5,
   "metadata": {},
   "outputs": [],
   "source": [
    "# Merge previous STAAR data with current District info\n",
    "completedf = pd.merge(staar19, all_info, on='DISTRICT NAME', how=\"inner\")"
   ]
  },
  {
   "cell_type": "code",
   "execution_count": 6,
   "metadata": {},
   "outputs": [],
   "source": [
    "# calculate change in STAAR SCORES and add to DB\n",
    "completedf['Change in STAAR: % ALL SUBJECTS AT MASTERS GRADE LEVEL STANDARD'] = completedf['STAAR: % ALL SUBJECTS AT MASTERS GRADE LEVEL STANDARD_y'] - completedf['STAAR: % ALL SUBJECTS AT MASTERS GRADE LEVEL STANDARD_x']\n",
    "completedf['Change in STAAR: % ALL SUBJECTS AT MEETS GRADE LEVEL STANDARD OR ABOVE'] = completedf['STAAR: % ALL SUBJECTS AT MEETS GRADE LEVEL STANDARD OR ABOVE_y'] - completedf['STAAR: % ALL SUBJECTS AT MEETS GRADE LEVEL STANDARD OR ABOVE_x']\n",
    "completedf['Change in STAAR: % ALL SUBJECTS AT APPROACHES GRADE LEVEL STANDARD OR ABOVE'] = completedf['STAAR: % ALL SUBJECTS AT APPROACHES GRADE LEVEL STANDARD OR ABOVE_y'] - completedf['STAAR: % ALL SUBJECTS AT APPROACHES GRADE LEVEL STANDARD OR ABOVE_x']"
   ]
  },
  {
   "cell_type": "code",
   "execution_count": 7,
   "metadata": {},
   "outputs": [
    {
     "data": {
      "text/plain": [
       "['_id_x',\n",
       " 'DISTRICT NAME',\n",
       " 'TOTAL NUMBER OF SCHOOLS_x',\n",
       " 'TOTAL STUDENTS_x',\n",
       " 'STAAR: % ALL SUBJECTS AT APPROACHES GRADE LEVEL STANDARD OR ABOVE_x',\n",
       " 'STAAR: % ALL SUBJECTS AT MEETS GRADE LEVEL STANDARD OR ABOVE_x',\n",
       " 'STAAR: % ALL SUBJECTS AT MASTERS GRADE LEVEL STANDARD_x',\n",
       " 'STAAR: % ELA/READING AT APPROACHES GRADE LEVEL STANDARD OR ABOVE_x',\n",
       " 'STAAR: % ELA/READING AT MEETS GRADE LEVEL STANDARD OR ABOVE_x',\n",
       " 'STAAR: % ELA/READING AT MASTERS GRADE LEVEL STANDARD_x',\n",
       " 'STAAR: % SCIENCE AT APPROACHES GRADE LEVEL STANDARD OR ABOVE_x',\n",
       " 'STAAR: % MATHEMATICS AT APPROACHES GRADE LEVEL STANDARD OR ABOVE_x',\n",
       " 'STAAR: % MATHEMATICS AT MEETS GRADE LEVEL STANDARD OR ABOVE_x',\n",
       " 'STAAR: % MATHEMATICS AT MASTERS GRADE LEVEL STANDARD_x',\n",
       " 'STAAR: % SCIENCE AT MEETS GRADE LEVEL STANDARD OR ABOVE_x',\n",
       " 'STAAR: % SCIENCE AT MASTERS GRADE LEVEL STANDARD_x',\n",
       " 'STAAR: % SOCIAL STUDIES AT APPROACHES GRADE LEVEL STANDARD OR ABOVE_x',\n",
       " ' STAAR: % SOCIAL STUDIES AT MEETS GRADE LEVEL STANDARD OR ABOVE_x',\n",
       " 'STAAR: % SOCIAL STUDIES AT MASTERS GRADE LEVEL STANDARD_x',\n",
       " ' STAAR: % AFRICAN AMERICAN AT APPROACHES GRADE LEVEL STANDARD OR ABOVE_x',\n",
       " 'STAAR: % AFRICAN AMERICAN AT MEETS GRADE LEVEL STANDARD OR ABOVE_x',\n",
       " 'STAAR: % AFRICAN AMERICAN AT MASTERS GRADE LEVEL STANDARD_x',\n",
       " 'STAAR: % HISPANIC AT APPROACHES GRADE LEVEL STANDARD OR ABOVE_x',\n",
       " 'STAAR: % HISPANIC AT MEETS GRADE LEVEL STANDARD OR ABOVE_x',\n",
       " 'STAAR: % HISPANIC AT MASTERS GRADE LEVEL STANDARD_x',\n",
       " 'STAAR: % WHITE AT APPROACHES GRADE LEVEL STANDARD OR ABOVE_x',\n",
       " 'STAAR: % WHITE AT MEETS GRADE LEVEL STANDARD OR ABOVE_x',\n",
       " 'STAAR: % WHITE AT MASTERS GRADE LEVEL STANDARD_x',\n",
       " 'STAAR: % ASIAN AT APPROACHES GRADE LEVEL STANDARD OR ABOVE_x',\n",
       " 'STAAR: % ASIAN AT MEETS GRADE LEVEL STANDARD OR ABOVE_x',\n",
       " 'STAAR: % ASIAN AT MASTERS GRADE LEVEL STANDARD_x',\n",
       " 'STAAR: % TWO OR MORE RACES AT APPROACHES GRADE LEVEL STANDARD OR ABOVE_x',\n",
       " 'STAAR: % TWO OR MORE RACES AT MEETS GRADE LEVEL STANDARD OR ABOVE_x',\n",
       " ' STAAR: % TWO OR MORE RACES AT MASTERS GRADE LEVEL STANDARD_x',\n",
       " 'STAAR: % ECONOMICALLY DISADVANTAGED AT APPROACHES GRADE LEVEL STANDARD OR ABOVE_x',\n",
       " 'STAAR: % ECONOMICALLY DISADVANTAGED AT MEETS GRADE LEVEL STANDARD OR ABOVE_x',\n",
       " 'STAAR: % ECONOMICALLY DISADVANTAGED AT MASTERS GRADE LEVEL STANDARD_x',\n",
       " 'STAAR: % AMERICAN INDIAN AT APPROACHES GRADE LEVEL STANDARD OR ABOVE_x',\n",
       " 'STAAR: % AMERICAN INDIAN AT MEETS GRADE LEVEL STANDARD OR ABOVE_x',\n",
       " 'STAAR: % AMERICAN INDIAN AT MASTERS GRADE LEVEL STANDARD_x',\n",
       " 'STAAR: % PACIFIC ISLANDER AT APPROACHES GRADE LEVEL STANDARD OR ABOVE_x',\n",
       " 'STAAR: % PACIFIC ISLANDER AT MEETS GRADE LEVEL STANDARD OR ABOVE_x',\n",
       " 'STAAR: % PACIFIC ISLANDER AT MASTERS GRADE LEVEL STANDARD_x',\n",
       " '_id_y',\n",
       " 'DISTRICT NUMBER',\n",
       " 'COUNTY NUMBER AND NAME',\n",
       " 'EDUCATION SERVICE CENTER REGION',\n",
       " 'DISTRICT ACCOUNTABILITY RATINGS',\n",
       " 'TOTAL NUMBER OF SCHOOLS_y',\n",
       " 'TOTAL STUDENTS_y',\n",
       " 'STUDENTS: % AFRICAN AMERICAN',\n",
       " 'STUDENTS: % HISPANIC',\n",
       " 'STUDENTS: % WHITE',\n",
       " 'STUDENTS: % AMERICAN INDIAN',\n",
       " 'STUDENTS: % ASIAN',\n",
       " 'STUDENTS: % PACIFIC ISLANDER',\n",
       " 'STUDENTS: % TWO OR MORE RACES',\n",
       " 'STUDENTS: % ECONOMICALLY DISADVANTAGED',\n",
       " 'STUDENTS: % ENGLISH LEARNERS (EL)',\n",
       " 'STUDENTS: % SPECIAL EDUCATION',\n",
       " 'STUDENTS: % BILINGUAL/ESL EDUCATION',\n",
       " 'STUDENTS: % CAREER & TECHNICAL EDUCATION',\n",
       " 'STUDENTS: % GIFTED & TALENTED EDUCATION',\n",
       " 'ATTENDANCE RATE (2020-21)',\n",
       " 'ANNUAL DROPOUT RATE GR',\n",
       " '4-YR LONGITUDINAL GRADUATION RATE (CLASS OF 2021) DISTRICT EXCL',\n",
       " '5-YR LONGITUDINAL GRADUATION RATE (CLASS OF 2020) DISTRICT EXCL',\n",
       " ' 6-YR LONGITUDINAL GRADUATION RATE (CLASS OF 2019) DISTRICT EXCL',\n",
       " 'ANNUAL GRADUATE COUNT (2020-21)',\n",
       " 'ANNUAL RHSP/DAP/FHSP-E/FHSP-DLA GRADUATE COUNT (2020-21)',\n",
       " 'STAAR: % ALL SUBJECTS AT APPROACHES GRADE LEVEL STANDARD OR ABOVE_y',\n",
       " 'STAAR: % ALL SUBJECTS AT MEETS GRADE LEVEL STANDARD OR ABOVE_y',\n",
       " 'STAAR: % ALL SUBJECTS AT MASTERS GRADE LEVEL STANDARD_y',\n",
       " 'STAAR: % ELA/READING AT APPROACHES GRADE LEVEL STANDARD OR ABOVE_y',\n",
       " 'STAAR: % ELA/READING AT MEETS GRADE LEVEL STANDARD OR ABOVE_y',\n",
       " 'STAAR: % ELA/READING AT MASTERS GRADE LEVEL STANDARD_y',\n",
       " 'STAAR: % MATHEMATICS AT APPROACHES GRADE LEVEL STANDARD OR ABOVE_y',\n",
       " 'STAAR: % MATHEMATICS AT MEETS GRADE LEVEL STANDARD OR ABOVE_y',\n",
       " 'STAAR: % MATHEMATICS AT MASTERS GRADE LEVEL STANDARD_y',\n",
       " 'STAAR: % SCIENCE AT APPROACHES GRADE LEVEL STANDARD OR ABOVE_y',\n",
       " 'STAAR: % SCIENCE AT MEETS GRADE LEVEL STANDARD OR ABOVE_y',\n",
       " 'STAAR: % SCIENCE AT MASTERS GRADE LEVEL STANDARD_y',\n",
       " 'STAAR: % SOCIAL STUDIES AT APPROACHES GRADE LEVEL STANDARD OR ABOVE_y',\n",
       " ' STAAR: % SOCIAL STUDIES AT MEETS GRADE LEVEL STANDARD OR ABOVE_y',\n",
       " 'STAAR: % SOCIAL STUDIES AT MASTERS GRADE LEVEL STANDARD_y',\n",
       " ' STAAR: % AFRICAN AMERICAN AT APPROACHES GRADE LEVEL STANDARD OR ABOVE_y',\n",
       " 'STAAR: % AFRICAN AMERICAN AT MEETS GRADE LEVEL STANDARD OR ABOVE_y',\n",
       " 'STAAR: % AFRICAN AMERICAN AT MASTERS GRADE LEVEL STANDARD_y',\n",
       " 'STAAR: % HISPANIC AT APPROACHES GRADE LEVEL STANDARD OR ABOVE_y',\n",
       " 'STAAR: % HISPANIC AT MEETS GRADE LEVEL STANDARD OR ABOVE_y',\n",
       " 'STAAR: % HISPANIC AT MASTERS GRADE LEVEL STANDARD_y',\n",
       " 'STAAR: % WHITE AT APPROACHES GRADE LEVEL STANDARD OR ABOVE_y',\n",
       " 'STAAR: % WHITE AT MEETS GRADE LEVEL STANDARD OR ABOVE_y',\n",
       " 'STAAR: % WHITE AT MASTERS GRADE LEVEL STANDARD_y',\n",
       " 'STAAR: % ASIAN AT APPROACHES GRADE LEVEL STANDARD OR ABOVE_y',\n",
       " 'STAAR: % ASIAN AT MEETS GRADE LEVEL STANDARD OR ABOVE_y',\n",
       " 'STAAR: % ASIAN AT MASTERS GRADE LEVEL STANDARD_y',\n",
       " 'STAAR: % TWO OR MORE RACES AT APPROACHES GRADE LEVEL STANDARD OR ABOVE_y',\n",
       " 'STAAR: % TWO OR MORE RACES AT MEETS GRADE LEVEL STANDARD OR ABOVE_y',\n",
       " ' STAAR: % TWO OR MORE RACES AT MASTERS GRADE LEVEL STANDARD_y',\n",
       " 'STAAR: % ECONOMICALLY DISADVANTAGED AT APPROACHES GRADE LEVEL STANDARD OR ABOVE_y',\n",
       " 'STAAR: % ECONOMICALLY DISADVANTAGED AT MEETS GRADE LEVEL STANDARD OR ABOVE_y',\n",
       " 'STAAR: % ECONOMICALLY DISADVANTAGED AT MASTERS GRADE LEVEL STANDARD_y',\n",
       " 'COLLEGE ADMISSIONS: % TESTED (2020-2021)',\n",
       " 'COLLEGE ADMISSIONS: % AT/ABOVE CRITERION (2020-2021)',\n",
       " 'SAT-AVERAGE SCORE (2021-2020)',\n",
       " 'TOTAL STAFF FTE',\n",
       " 'TOTAL TEACHER FTE',\n",
       " 'STAFF: % CENTRAL ADMINISTRATIVE',\n",
       " 'STAFF: % SCHOOL ADMINISTRATIVE',\n",
       " 'STAFF: % PROFESSIONAL SUPPORT',\n",
       " 'STAFF: % TEACHERS',\n",
       " 'STAFF: % EDUCATIONAL AIDES',\n",
       " 'STAFF: % AUXILIARY',\n",
       " 'AVERAGE SALARY: CENTRAL ADMINISTRATIVE',\n",
       " 'AVERAGE SALARY: SCHOOL ADMINISTRATIVE',\n",
       " 'AVERAGE SALARY: PROFESSIONAL SUPPORT',\n",
       " 'AVERAGE SALARY: TEACHER',\n",
       " 'STAFF: % MINORITY',\n",
       " 'NUMBER OF STUDENTS PER TOTAL STAFF',\n",
       " 'NUMBER OF STUDENTS PER TEACHER',\n",
       " 'TEACHER: % WITH 5 OR FEWER YEARS OF EXPERIENCE',\n",
       " 'TEACHER: AVERAGE YEARS OF EXPERIENCE',\n",
       " 'TEACHER: % WITH ADVANCED DEGREES',\n",
       " 'TEACHER: TURNOVER RATE',\n",
       " 'TEACHER: % AFRICAN AMERICAN',\n",
       " 'TEACHER: % HISPANIC',\n",
       " 'TEACHER: % WHITE',\n",
       " 'TEACHER: % AMERICAN INDIAN',\n",
       " 'TEACHER: % ASIAN',\n",
       " 'TEACHER: % PACIFIC ISLANDER',\n",
       " 'TEACHER: % TWO OR MORE RACES',\n",
       " 'TEACHER: % REGULAR EDUCATION',\n",
       " 'TEACHER: % SPECIAL EDUCATION',\n",
       " 'TEACHER: % COMPENSATORY EDUCATION',\n",
       " 'TEACHER: % BILINGUAL/ESL EDUCATION',\n",
       " 'TEACHER: % CAREER & TECHNICAL EDUCATION',\n",
       " 'TEACHER: % OTHER EDUCATION (INCLUDES G & T)',\n",
       " 'TAXABLE VALUE PER PUPIL (2019 TAX YEAR)',\n",
       " 'LOCALLY ADOPTED TAX RATE (2020 TAX YEAR)',\n",
       " 'TOTAL OPERATING AND OTHER REVENUE (2020-21)',\n",
       " 'Total OPERATING AND OTHER REVENUE PER PUPIL',\n",
       " 'Total OPERATING REVENUE (2020-21)',\n",
       " 'REVENUE: % STATE',\n",
       " 'REVENUE: % LOCAL AND OTHER',\n",
       " 'REVENUE: % FEDERAL',\n",
       " 'TOTAL OTHER REVENUE(2020-21)',\n",
       " 'FUND BALANCE (FOR ISDS)',\n",
       " 'NET ASSETS (CHARTER SCHOOLS)',\n",
       " 'TOTAL ACTUAL EXPENDITURES (2020-21)',\n",
       " 'TOTAL ACTUAL OPERATING EXPENDITURES (2020-21)',\n",
       " 'TOTAL ACTUAL OPERATING EXPENDITURES PER PUPIL',\n",
       " 'EXPENDITURE: % INSTRUCTIONAL',\n",
       " 'EXPENDITURE: % CENTRAL ADMINISTRATIVE',\n",
       " 'EXPENDITURE: % SCHOOL LEADERSHIP',\n",
       " 'EXPENDITURE: % PLANT SERVICES',\n",
       " 'EXPENDITURE: % OTHER OPERATING',\n",
       " 'TOTAL ACTUAL INSTRUCTIONAL EXPENDITURES',\n",
       " 'TOTAL ACTUAL INSTRUCTIONAL EXPENDITURES PER PUPIL',\n",
       " ' EXPENDITURE: % BASIC EDUCATION SERVICES',\n",
       " 'EXPENDITURE: % SPECIAL EDUCATION',\n",
       " 'EXPENDITURE: % STATE COMPENSATORY EDUCATION',\n",
       " 'EXPENDITURE: % BILINGUAL/ESL EDUCATION',\n",
       " 'EXPENDITURE: % CAREER & TECHNICAL EDUCATION',\n",
       " ' EXPENDITURE: % GIFTED & TALENTED EDUCATION',\n",
       " 'EXPENDITURE: % ATHLETICS/RELATED ACTIVITIES',\n",
       " 'EXPENDITURE: % HIGH SCHOOL ALLOTMENT',\n",
       " 'EXPENDITURE: % PREKINDERGARTEN',\n",
       " 'EXPENDITURE: % UN-ALLOCATED',\n",
       " 'DISTRICT SIZE',\n",
       " 'COMMUNITY TYPE',\n",
       " 'PROPERTY WEALTH',\n",
       " 'TAX RATE',\n",
       " 'STAAR: % AMERICAN INDIAN AT APPROACHES GRADE LEVEL STANDARD OR ABOVE_y',\n",
       " 'STAAR: % AMERICAN INDIAN AT MEETS GRADE LEVEL STANDARD OR ABOVE_y',\n",
       " 'STAAR: % AMERICAN INDIAN AT MASTERS GRADE LEVEL STANDARD_y',\n",
       " 'ACT-AVERAGE SCORE (2021-2020)',\n",
       " 'STAAR: % PACIFIC ISLANDER AT APPROACHES GRADE LEVEL STANDARD OR ABOVE_y',\n",
       " 'STAAR: % PACIFIC ISLANDER AT MEETS GRADE LEVEL STANDARD OR ABOVE_y',\n",
       " 'STAAR: % PACIFIC ISLANDER AT MASTERS GRADE LEVEL STANDARD_y',\n",
       " 'Change in STAAR: % ALL SUBJECTS AT MASTERS GRADE LEVEL STANDARD',\n",
       " 'Change in STAAR: % ALL SUBJECTS AT MEETS GRADE LEVEL STANDARD OR ABOVE',\n",
       " 'Change in STAAR: % ALL SUBJECTS AT APPROACHES GRADE LEVEL STANDARD OR ABOVE']"
      ]
     },
     "execution_count": 7,
     "metadata": {},
     "output_type": "execute_result"
    }
   ],
   "source": [
    "completedf.columns.to_list()"
   ]
  },
  {
   "cell_type": "code",
   "execution_count": 8,
   "metadata": {},
   "outputs": [],
   "source": [
    "# Drop the non-beneficial columns \n",
    "completedf = completedf.drop(columns=['_id_x',\n",
    " 'DISTRICT NAME',\n",
    " 'TOTAL NUMBER OF SCHOOLS_x',\n",
    " 'TOTAL STUDENTS_x',\n",
    " 'STAAR: % ALL SUBJECTS AT APPROACHES GRADE LEVEL STANDARD OR ABOVE_x',\n",
    " 'STAAR: % ALL SUBJECTS AT MEETS GRADE LEVEL STANDARD OR ABOVE_x',\n",
    " 'STAAR: % ALL SUBJECTS AT MASTERS GRADE LEVEL STANDARD_x',\n",
    " 'STAAR: % ELA/READING AT APPROACHES GRADE LEVEL STANDARD OR ABOVE_x',\n",
    " 'STAAR: % ELA/READING AT MEETS GRADE LEVEL STANDARD OR ABOVE_x',\n",
    " 'STAAR: % ELA/READING AT MASTERS GRADE LEVEL STANDARD_x',\n",
    " 'STAAR: % SCIENCE AT APPROACHES GRADE LEVEL STANDARD OR ABOVE_x',\n",
    " 'STAAR: % MATHEMATICS AT APPROACHES GRADE LEVEL STANDARD OR ABOVE_x',\n",
    " 'STAAR: % MATHEMATICS AT MEETS GRADE LEVEL STANDARD OR ABOVE_x',\n",
    " 'STAAR: % MATHEMATICS AT MASTERS GRADE LEVEL STANDARD_x',\n",
    " 'STAAR: % SCIENCE AT MEETS GRADE LEVEL STANDARD OR ABOVE_x',\n",
    " 'STAAR: % SCIENCE AT MASTERS GRADE LEVEL STANDARD_x',\n",
    " 'STAAR: % SOCIAL STUDIES AT APPROACHES GRADE LEVEL STANDARD OR ABOVE_x',\n",
    " ' STAAR: % SOCIAL STUDIES AT MEETS GRADE LEVEL STANDARD OR ABOVE_x',\n",
    " 'STAAR: % SOCIAL STUDIES AT MASTERS GRADE LEVEL STANDARD_x',\n",
    " ' STAAR: % AFRICAN AMERICAN AT APPROACHES GRADE LEVEL STANDARD OR ABOVE_x',\n",
    " 'STAAR: % AFRICAN AMERICAN AT MEETS GRADE LEVEL STANDARD OR ABOVE_x',\n",
    " 'STAAR: % AFRICAN AMERICAN AT MASTERS GRADE LEVEL STANDARD_x',\n",
    " 'STAAR: % HISPANIC AT APPROACHES GRADE LEVEL STANDARD OR ABOVE_x',\n",
    " 'STAAR: % HISPANIC AT MEETS GRADE LEVEL STANDARD OR ABOVE_x',\n",
    " 'STAAR: % HISPANIC AT MASTERS GRADE LEVEL STANDARD_x',\n",
    " 'STAAR: % WHITE AT APPROACHES GRADE LEVEL STANDARD OR ABOVE_x',\n",
    " 'STAAR: % WHITE AT MEETS GRADE LEVEL STANDARD OR ABOVE_x',\n",
    " 'STAAR: % WHITE AT MASTERS GRADE LEVEL STANDARD_x',\n",
    " 'STAAR: % ASIAN AT APPROACHES GRADE LEVEL STANDARD OR ABOVE_x',\n",
    " 'STAAR: % ASIAN AT MEETS GRADE LEVEL STANDARD OR ABOVE_x',\n",
    " 'STAAR: % ASIAN AT MASTERS GRADE LEVEL STANDARD_x',\n",
    " 'STAAR: % TWO OR MORE RACES AT APPROACHES GRADE LEVEL STANDARD OR ABOVE_x',\n",
    " 'STAAR: % TWO OR MORE RACES AT MEETS GRADE LEVEL STANDARD OR ABOVE_x',\n",
    " ' STAAR: % TWO OR MORE RACES AT MASTERS GRADE LEVEL STANDARD_x',\n",
    " 'STAAR: % ECONOMICALLY DISADVANTAGED AT APPROACHES GRADE LEVEL STANDARD OR ABOVE_x',\n",
    " 'STAAR: % ECONOMICALLY DISADVANTAGED AT MEETS GRADE LEVEL STANDARD OR ABOVE_x',\n",
    " 'STAAR: % ECONOMICALLY DISADVANTAGED AT MASTERS GRADE LEVEL STANDARD_x',\n",
    " 'STAAR: % AMERICAN INDIAN AT APPROACHES GRADE LEVEL STANDARD OR ABOVE_x',\n",
    " 'STAAR: % AMERICAN INDIAN AT MEETS GRADE LEVEL STANDARD OR ABOVE_x',\n",
    " 'STAAR: % AMERICAN INDIAN AT MASTERS GRADE LEVEL STANDARD_x',\n",
    " 'STAAR: % PACIFIC ISLANDER AT APPROACHES GRADE LEVEL STANDARD OR ABOVE_x',\n",
    " 'STAAR: % PACIFIC ISLANDER AT MEETS GRADE LEVEL STANDARD OR ABOVE_x',\n",
    " 'STAAR: % PACIFIC ISLANDER AT MASTERS GRADE LEVEL STANDARD_x',\n",
    " '_id_y',\n",
    " 'DISTRICT NUMBER',\n",
    " 'COUNTY NUMBER AND NAME',\n",
    " 'EDUCATION SERVICE CENTER REGION',\n",
    " 'TOTAL NUMBER OF SCHOOLS_y',\n",
    " 'STUDENTS: % AFRICAN AMERICAN',\n",
    " 'STUDENTS: % HISPANIC',\n",
    " 'STUDENTS: % WHITE',\n",
    " 'STUDENTS: % AMERICAN INDIAN',\n",
    " 'STUDENTS: % ASIAN',\n",
    " 'STUDENTS: % PACIFIC ISLANDER',\n",
    " 'STUDENTS: % TWO OR MORE RACES',\n",
    " 'STUDENTS: % ECONOMICALLY DISADVANTAGED',\n",
    " 'STUDENTS: % ENGLISH LEARNERS (EL)',\n",
    " 'STUDENTS: % SPECIAL EDUCATION',\n",
    " 'STUDENTS: % BILINGUAL/ESL EDUCATION',\n",
    " 'STUDENTS: % CAREER & TECHNICAL EDUCATION',\n",
    " 'STUDENTS: % GIFTED & TALENTED EDUCATION',\n",
    " 'ANNUAL DROPOUT RATE GR',\n",
    " '5-YR LONGITUDINAL GRADUATION RATE (CLASS OF 2020) DISTRICT EXCL',\n",
    " ' 6-YR LONGITUDINAL GRADUATION RATE (CLASS OF 2019) DISTRICT EXCL',\n",
    " 'ANNUAL GRADUATE COUNT (2020-21)',\n",
    " 'ANNUAL RHSP/DAP/FHSP-E/FHSP-DLA GRADUATE COUNT (2020-21)',\n",
    " 'STAAR: % SCIENCE AT APPROACHES GRADE LEVEL STANDARD OR ABOVE_y',\n",
    " 'STAAR: % SCIENCE AT MEETS GRADE LEVEL STANDARD OR ABOVE_y',\n",
    " 'STAAR: % SCIENCE AT MASTERS GRADE LEVEL STANDARD_y',\n",
    " 'STAAR: % SOCIAL STUDIES AT APPROACHES GRADE LEVEL STANDARD OR ABOVE_y',\n",
    " ' STAAR: % SOCIAL STUDIES AT MEETS GRADE LEVEL STANDARD OR ABOVE_y',\n",
    " 'STAAR: % SOCIAL STUDIES AT MASTERS GRADE LEVEL STANDARD_y',\n",
    " ' STAAR: % AFRICAN AMERICAN AT APPROACHES GRADE LEVEL STANDARD OR ABOVE_y',\n",
    " 'STAAR: % AFRICAN AMERICAN AT MEETS GRADE LEVEL STANDARD OR ABOVE_y',\n",
    " 'STAAR: % AFRICAN AMERICAN AT MASTERS GRADE LEVEL STANDARD_y',\n",
    " 'STAAR: % HISPANIC AT APPROACHES GRADE LEVEL STANDARD OR ABOVE_y',\n",
    " 'STAAR: % HISPANIC AT MEETS GRADE LEVEL STANDARD OR ABOVE_y',\n",
    " 'STAAR: % HISPANIC AT MASTERS GRADE LEVEL STANDARD_y',\n",
    " 'STAAR: % WHITE AT APPROACHES GRADE LEVEL STANDARD OR ABOVE_y',\n",
    " 'STAAR: % WHITE AT MEETS GRADE LEVEL STANDARD OR ABOVE_y',\n",
    " 'STAAR: % WHITE AT MASTERS GRADE LEVEL STANDARD_y',\n",
    " 'STAAR: % ASIAN AT APPROACHES GRADE LEVEL STANDARD OR ABOVE_y',\n",
    " 'STAAR: % ASIAN AT MEETS GRADE LEVEL STANDARD OR ABOVE_y',\n",
    " 'STAAR: % ASIAN AT MASTERS GRADE LEVEL STANDARD_y',\n",
    " 'STAAR: % TWO OR MORE RACES AT APPROACHES GRADE LEVEL STANDARD OR ABOVE_y',\n",
    " 'STAAR: % TWO OR MORE RACES AT MEETS GRADE LEVEL STANDARD OR ABOVE_y',\n",
    " ' STAAR: % TWO OR MORE RACES AT MASTERS GRADE LEVEL STANDARD_y',\n",
    " 'STAAR: % ECONOMICALLY DISADVANTAGED AT APPROACHES GRADE LEVEL STANDARD OR ABOVE_y',\n",
    " 'STAAR: % ECONOMICALLY DISADVANTAGED AT MEETS GRADE LEVEL STANDARD OR ABOVE_y',\n",
    " 'STAAR: % ECONOMICALLY DISADVANTAGED AT MASTERS GRADE LEVEL STANDARD_y',\n",
    " 'SAT-AVERAGE SCORE (2021-2020)',\n",
    " 'TOTAL STAFF FTE',\n",
    " 'TOTAL TEACHER FTE',\n",
    " 'STAFF: % CENTRAL ADMINISTRATIVE',\n",
    " 'STAFF: % SCHOOL ADMINISTRATIVE',\n",
    " 'STAFF: % PROFESSIONAL SUPPORT',\n",
    " 'STAFF: % TEACHERS',\n",
    " 'STAFF: % EDUCATIONAL AIDES',\n",
    " 'STAFF: % AUXILIARY',\n",
    " 'AVERAGE SALARY: CENTRAL ADMINISTRATIVE',\n",
    " 'AVERAGE SALARY: SCHOOL ADMINISTRATIVE',\n",
    " 'AVERAGE SALARY: PROFESSIONAL SUPPORT',\n",
    " 'AVERAGE SALARY: TEACHER',\n",
    " 'STAFF: % MINORITY',\n",
    " 'NUMBER OF STUDENTS PER TOTAL STAFF',\n",
    " 'NUMBER OF STUDENTS PER TEACHER',\n",
    " 'TEACHER: % WITH 5 OR FEWER YEARS OF EXPERIENCE',\n",
    " 'TEACHER: AVERAGE YEARS OF EXPERIENCE',\n",
    " 'TEACHER: % WITH ADVANCED DEGREES',\n",
    " 'TEACHER: TURNOVER RATE',\n",
    " 'TEACHER: % AFRICAN AMERICAN',\n",
    " 'TEACHER: % HISPANIC',\n",
    " 'TEACHER: % WHITE',\n",
    " 'TEACHER: % AMERICAN INDIAN',\n",
    " 'TEACHER: % ASIAN',\n",
    " 'TEACHER: % PACIFIC ISLANDER',\n",
    " 'TEACHER: % TWO OR MORE RACES',\n",
    " 'TEACHER: % REGULAR EDUCATION',\n",
    " 'TEACHER: % SPECIAL EDUCATION',\n",
    " 'TEACHER: % COMPENSATORY EDUCATION',\n",
    " 'TEACHER: % BILINGUAL/ESL EDUCATION',\n",
    " 'TEACHER: % CAREER & TECHNICAL EDUCATION',\n",
    " 'TEACHER: % OTHER EDUCATION (INCLUDES G & T)',\n",
    " 'TAXABLE VALUE PER PUPIL (2019 TAX YEAR)',\n",
    " 'LOCALLY ADOPTED TAX RATE (2020 TAX YEAR)',\n",
    " 'TOTAL OPERATING AND OTHER REVENUE (2020-21)',\n",
    " 'Total OPERATING AND OTHER REVENUE PER PUPIL',\n",
    " 'Total OPERATING REVENUE (2020-21)',\n",
    " 'REVENUE: % STATE',\n",
    " 'REVENUE: % LOCAL AND OTHER',\n",
    " 'REVENUE: % FEDERAL',\n",
    " 'TOTAL OTHER REVENUE(2020-21)',\n",
    " 'FUND BALANCE (FOR ISDS)',\n",
    " 'NET ASSETS (CHARTER SCHOOLS)',\n",
    " 'TOTAL ACTUAL EXPENDITURES (2020-21)',\n",
    " 'TOTAL ACTUAL OPERATING EXPENDITURES (2020-21)',\n",
    " 'TOTAL ACTUAL OPERATING EXPENDITURES PER PUPIL',\n",
    " 'EXPENDITURE: % INSTRUCTIONAL',\n",
    " 'EXPENDITURE: % CENTRAL ADMINISTRATIVE',\n",
    " 'EXPENDITURE: % SCHOOL LEADERSHIP',\n",
    " 'EXPENDITURE: % PLANT SERVICES',\n",
    " 'EXPENDITURE: % OTHER OPERATING',\n",
    " 'TOTAL ACTUAL INSTRUCTIONAL EXPENDITURES',\n",
    " 'TOTAL ACTUAL INSTRUCTIONAL EXPENDITURES PER PUPIL',\n",
    " ' EXPENDITURE: % BASIC EDUCATION SERVICES',\n",
    " 'EXPENDITURE: % SPECIAL EDUCATION',\n",
    " 'EXPENDITURE: % STATE COMPENSATORY EDUCATION',\n",
    " 'EXPENDITURE: % BILINGUAL/ESL EDUCATION',\n",
    " 'EXPENDITURE: % CAREER & TECHNICAL EDUCATION',\n",
    " ' EXPENDITURE: % GIFTED & TALENTED EDUCATION',\n",
    " 'EXPENDITURE: % ATHLETICS/RELATED ACTIVITIES',\n",
    " 'EXPENDITURE: % HIGH SCHOOL ALLOTMENT',\n",
    " 'EXPENDITURE: % PREKINDERGARTEN',\n",
    " 'EXPENDITURE: % UN-ALLOCATED',\n",
    " 'DISTRICT SIZE',\n",
    " 'COMMUNITY TYPE',\n",
    " 'PROPERTY WEALTH',\n",
    " 'TAX RATE',\n",
    " 'STAAR: % AMERICAN INDIAN AT APPROACHES GRADE LEVEL STANDARD OR ABOVE_y',\n",
    " 'STAAR: % AMERICAN INDIAN AT MEETS GRADE LEVEL STANDARD OR ABOVE_y',\n",
    " 'STAAR: % AMERICAN INDIAN AT MASTERS GRADE LEVEL STANDARD_y',\n",
    " 'ACT-AVERAGE SCORE (2021-2020)',\n",
    " 'STAAR: % PACIFIC ISLANDER AT APPROACHES GRADE LEVEL STANDARD OR ABOVE_y',\n",
    " 'STAAR: % PACIFIC ISLANDER AT MEETS GRADE LEVEL STANDARD OR ABOVE_y',\n",
    " 'STAAR: % PACIFIC ISLANDER AT MASTERS GRADE LEVEL STANDARD_y',\n",
    "   'STAAR: % ALL SUBJECTS AT APPROACHES GRADE LEVEL STANDARD OR ABOVE_y',\n",
    " 'STAAR: % ALL SUBJECTS AT MEETS GRADE LEVEL STANDARD OR ABOVE_y',\n",
    " 'STAAR: % ALL SUBJECTS AT MASTERS GRADE LEVEL STANDARD_y',])"
   ]
  },
  {
   "cell_type": "code",
   "execution_count": 9,
   "metadata": {},
   "outputs": [
    {
     "data": {
      "text/plain": [
       "['DISTRICT ACCOUNTABILITY RATINGS',\n",
       " 'TOTAL STUDENTS_y',\n",
       " 'ATTENDANCE RATE (2020-21)',\n",
       " '4-YR LONGITUDINAL GRADUATION RATE (CLASS OF 2021) DISTRICT EXCL',\n",
       " 'STAAR: % ELA/READING AT APPROACHES GRADE LEVEL STANDARD OR ABOVE_y',\n",
       " 'STAAR: % ELA/READING AT MEETS GRADE LEVEL STANDARD OR ABOVE_y',\n",
       " 'STAAR: % ELA/READING AT MASTERS GRADE LEVEL STANDARD_y',\n",
       " 'STAAR: % MATHEMATICS AT APPROACHES GRADE LEVEL STANDARD OR ABOVE_y',\n",
       " 'STAAR: % MATHEMATICS AT MEETS GRADE LEVEL STANDARD OR ABOVE_y',\n",
       " 'STAAR: % MATHEMATICS AT MASTERS GRADE LEVEL STANDARD_y',\n",
       " 'COLLEGE ADMISSIONS: % TESTED (2020-2021)',\n",
       " 'COLLEGE ADMISSIONS: % AT/ABOVE CRITERION (2020-2021)',\n",
       " 'Change in STAAR: % ALL SUBJECTS AT MASTERS GRADE LEVEL STANDARD',\n",
       " 'Change in STAAR: % ALL SUBJECTS AT MEETS GRADE LEVEL STANDARD OR ABOVE',\n",
       " 'Change in STAAR: % ALL SUBJECTS AT APPROACHES GRADE LEVEL STANDARD OR ABOVE']"
      ]
     },
     "execution_count": 9,
     "metadata": {},
     "output_type": "execute_result"
    }
   ],
   "source": [
    "completedf.columns.to_list()"
   ]
  },
  {
   "cell_type": "code",
   "execution_count": 10,
   "metadata": {},
   "outputs": [],
   "source": [
    "# convert columns to Numeric\n",
    "columns_to_convert = ['TOTAL STUDENTS_y',\n",
    " 'ATTENDANCE RATE (2020-21)',\n",
    " 'STAAR: % ELA/READING AT APPROACHES GRADE LEVEL STANDARD OR ABOVE_y',\n",
    " 'STAAR: % ELA/READING AT MEETS GRADE LEVEL STANDARD OR ABOVE_y',\n",
    " 'STAAR: % ELA/READING AT MASTERS GRADE LEVEL STANDARD_y',\n",
    " 'STAAR: % MATHEMATICS AT APPROACHES GRADE LEVEL STANDARD OR ABOVE_y',\n",
    " 'STAAR: % MATHEMATICS AT MEETS GRADE LEVEL STANDARD OR ABOVE_y',\n",
    " 'STAAR: % MATHEMATICS AT MASTERS GRADE LEVEL STANDARD_y',\n",
    " 'COLLEGE ADMISSIONS: % TESTED (2020-2021)',\n",
    " 'COLLEGE ADMISSIONS: % AT/ABOVE CRITERION (2020-2021)',\n",
    " 'Change in STAAR: % ALL SUBJECTS AT MASTERS GRADE LEVEL STANDARD',\n",
    " 'Change in STAAR: % ALL SUBJECTS AT MEETS GRADE LEVEL STANDARD OR ABOVE',\n",
    " 'Change in STAAR: % ALL SUBJECTS AT APPROACHES GRADE LEVEL STANDARD OR ABOVE',\n",
    "  '4-YR LONGITUDINAL GRADUATION RATE (CLASS OF 2021) DISTRICT EXCL']\n",
    "\n",
    "completedf[columns_to_convert] = completedf[columns_to_convert].replace({',': '', '%': ''}, regex=True).apply(pd.to_numeric, errors='coerce')"
   ]
  },
  {
   "cell_type": "code",
   "execution_count": 11,
   "metadata": {},
   "outputs": [],
   "source": [
    "completedf=completedf.dropna()"
   ]
  },
  {
   "cell_type": "markdown",
   "metadata": {},
   "source": [
    "# Compile, Train, and Evaluate Model"
   ]
  },
  {
   "cell_type": "code",
   "execution_count": 12,
   "metadata": {},
   "outputs": [
    {
     "name": "stdout",
     "output_type": "stream",
     "text": [
      "(804, 14)\n"
     ]
    }
   ],
   "source": [
    "# Remove 'DISTRICT ACCOUNTABILITY RATINGS' target from features data\n",
    "X = completedf.drop(columns=['DISTRICT ACCOUNTABILITY RATINGS']) \n",
    "y = completedf['DISTRICT ACCOUNTABILITY RATINGS']  \n",
    "\n",
    "# Split the data into training and testing datasets\n",
    "X_train, X_test, y_train, y_test = train_test_split(X, y, random_state=42, stratify=y)\n",
    "\n",
    "# Initialize the LabelEncoder\n",
    "label_encoder = LabelEncoder()\n",
    "\n",
    "# Fit and transform the target variables\n",
    "y_train_encoded = label_encoder.fit_transform(y_train)\n",
    "y_test_encoded = label_encoder.transform(y_test)\n",
    "# Create a StandardScaler instances\n",
    "scaler = StandardScaler()\n",
    "\n",
    "# Fit the StandardScaler\n",
    "X_scaler = scaler.fit(X_train)\n",
    "\n",
    "# Scale the data\n",
    "X_train_scaled = X_scaler.transform(X_train)\n",
    "X_test_scaled = X_scaler.transform(X_test)\n",
    "print(X_train_scaled.shape)"
   ]
  },
  {
   "cell_type": "code",
   "execution_count": 15,
   "metadata": {},
   "outputs": [
    {
     "data": {
      "text/html": [
       "<pre style=\"white-space:pre;overflow-x:auto;line-height:normal;font-family:Menlo,'DejaVu Sans Mono',consolas,'Courier New',monospace\"><span style=\"font-weight: bold\">Model: \"sequential_1\"</span>\n",
       "</pre>\n"
      ],
      "text/plain": [
       "\u001b[1mModel: \"sequential_1\"\u001b[0m\n"
      ]
     },
     "metadata": {},
     "output_type": "display_data"
    },
    {
     "data": {
      "text/html": [
       "<pre style=\"white-space:pre;overflow-x:auto;line-height:normal;font-family:Menlo,'DejaVu Sans Mono',consolas,'Courier New',monospace\">┏━━━━━━━━━━━━━━━━━━━━━━━━━━━━━━━━━┳━━━━━━━━━━━━━━━━━━━━━━━━┳━━━━━━━━━━━━━━━┓\n",
       "┃<span style=\"font-weight: bold\"> Layer (type)                    </span>┃<span style=\"font-weight: bold\"> Output Shape           </span>┃<span style=\"font-weight: bold\">       Param # </span>┃\n",
       "┡━━━━━━━━━━━━━━━━━━━━━━━━━━━━━━━━━╇━━━━━━━━━━━━━━━━━━━━━━━━╇━━━━━━━━━━━━━━━┩\n",
       "│ dense_5 (<span style=\"color: #0087ff; text-decoration-color: #0087ff\">Dense</span>)                 │ (<span style=\"color: #00d7ff; text-decoration-color: #00d7ff\">None</span>, <span style=\"color: #00af00; text-decoration-color: #00af00\">80</span>)             │         <span style=\"color: #00af00; text-decoration-color: #00af00\">1,200</span> │\n",
       "├─────────────────────────────────┼────────────────────────┼───────────────┤\n",
       "│ dense_6 (<span style=\"color: #0087ff; text-decoration-color: #0087ff\">Dense</span>)                 │ (<span style=\"color: #00d7ff; text-decoration-color: #00d7ff\">None</span>, <span style=\"color: #00af00; text-decoration-color: #00af00\">100</span>)            │         <span style=\"color: #00af00; text-decoration-color: #00af00\">8,100</span> │\n",
       "├─────────────────────────────────┼────────────────────────┼───────────────┤\n",
       "│ dense_7 (<span style=\"color: #0087ff; text-decoration-color: #0087ff\">Dense</span>)                 │ (<span style=\"color: #00d7ff; text-decoration-color: #00d7ff\">None</span>, <span style=\"color: #00af00; text-decoration-color: #00af00\">50</span>)             │         <span style=\"color: #00af00; text-decoration-color: #00af00\">5,050</span> │\n",
       "├─────────────────────────────────┼────────────────────────┼───────────────┤\n",
       "│ dense_8 (<span style=\"color: #0087ff; text-decoration-color: #0087ff\">Dense</span>)                 │ (<span style=\"color: #00d7ff; text-decoration-color: #00d7ff\">None</span>, <span style=\"color: #00af00; text-decoration-color: #00af00\">10</span>)             │           <span style=\"color: #00af00; text-decoration-color: #00af00\">510</span> │\n",
       "├─────────────────────────────────┼────────────────────────┼───────────────┤\n",
       "│ dense_9 (<span style=\"color: #0087ff; text-decoration-color: #0087ff\">Dense</span>)                 │ (<span style=\"color: #00d7ff; text-decoration-color: #00d7ff\">None</span>, <span style=\"color: #00af00; text-decoration-color: #00af00\">1</span>)              │            <span style=\"color: #00af00; text-decoration-color: #00af00\">11</span> │\n",
       "└─────────────────────────────────┴────────────────────────┴───────────────┘\n",
       "</pre>\n"
      ],
      "text/plain": [
       "┏━━━━━━━━━━━━━━━━━━━━━━━━━━━━━━━━━┳━━━━━━━━━━━━━━━━━━━━━━━━┳━━━━━━━━━━━━━━━┓\n",
       "┃\u001b[1m \u001b[0m\u001b[1mLayer (type)                   \u001b[0m\u001b[1m \u001b[0m┃\u001b[1m \u001b[0m\u001b[1mOutput Shape          \u001b[0m\u001b[1m \u001b[0m┃\u001b[1m \u001b[0m\u001b[1m      Param #\u001b[0m\u001b[1m \u001b[0m┃\n",
       "┡━━━━━━━━━━━━━━━━━━━━━━━━━━━━━━━━━╇━━━━━━━━━━━━━━━━━━━━━━━━╇━━━━━━━━━━━━━━━┩\n",
       "│ dense_5 (\u001b[38;5;33mDense\u001b[0m)                 │ (\u001b[38;5;45mNone\u001b[0m, \u001b[38;5;34m80\u001b[0m)             │         \u001b[38;5;34m1,200\u001b[0m │\n",
       "├─────────────────────────────────┼────────────────────────┼───────────────┤\n",
       "│ dense_6 (\u001b[38;5;33mDense\u001b[0m)                 │ (\u001b[38;5;45mNone\u001b[0m, \u001b[38;5;34m100\u001b[0m)            │         \u001b[38;5;34m8,100\u001b[0m │\n",
       "├─────────────────────────────────┼────────────────────────┼───────────────┤\n",
       "│ dense_7 (\u001b[38;5;33mDense\u001b[0m)                 │ (\u001b[38;5;45mNone\u001b[0m, \u001b[38;5;34m50\u001b[0m)             │         \u001b[38;5;34m5,050\u001b[0m │\n",
       "├─────────────────────────────────┼────────────────────────┼───────────────┤\n",
       "│ dense_8 (\u001b[38;5;33mDense\u001b[0m)                 │ (\u001b[38;5;45mNone\u001b[0m, \u001b[38;5;34m10\u001b[0m)             │           \u001b[38;5;34m510\u001b[0m │\n",
       "├─────────────────────────────────┼────────────────────────┼───────────────┤\n",
       "│ dense_9 (\u001b[38;5;33mDense\u001b[0m)                 │ (\u001b[38;5;45mNone\u001b[0m, \u001b[38;5;34m1\u001b[0m)              │            \u001b[38;5;34m11\u001b[0m │\n",
       "└─────────────────────────────────┴────────────────────────┴───────────────┘\n"
      ]
     },
     "metadata": {},
     "output_type": "display_data"
    },
    {
     "data": {
      "text/html": [
       "<pre style=\"white-space:pre;overflow-x:auto;line-height:normal;font-family:Menlo,'DejaVu Sans Mono',consolas,'Courier New',monospace\"><span style=\"font-weight: bold\"> Total params: </span><span style=\"color: #00af00; text-decoration-color: #00af00\">14,871</span> (58.09 KB)\n",
       "</pre>\n"
      ],
      "text/plain": [
       "\u001b[1m Total params: \u001b[0m\u001b[38;5;34m14,871\u001b[0m (58.09 KB)\n"
      ]
     },
     "metadata": {},
     "output_type": "display_data"
    },
    {
     "data": {
      "text/html": [
       "<pre style=\"white-space:pre;overflow-x:auto;line-height:normal;font-family:Menlo,'DejaVu Sans Mono',consolas,'Courier New',monospace\"><span style=\"font-weight: bold\"> Trainable params: </span><span style=\"color: #00af00; text-decoration-color: #00af00\">14,871</span> (58.09 KB)\n",
       "</pre>\n"
      ],
      "text/plain": [
       "\u001b[1m Trainable params: \u001b[0m\u001b[38;5;34m14,871\u001b[0m (58.09 KB)\n"
      ]
     },
     "metadata": {},
     "output_type": "display_data"
    },
    {
     "data": {
      "text/html": [
       "<pre style=\"white-space:pre;overflow-x:auto;line-height:normal;font-family:Menlo,'DejaVu Sans Mono',consolas,'Courier New',monospace\"><span style=\"font-weight: bold\"> Non-trainable params: </span><span style=\"color: #00af00; text-decoration-color: #00af00\">0</span> (0.00 B)\n",
       "</pre>\n"
      ],
      "text/plain": [
       "\u001b[1m Non-trainable params: \u001b[0m\u001b[38;5;34m0\u001b[0m (0.00 B)\n"
      ]
     },
     "metadata": {},
     "output_type": "display_data"
    }
   ],
   "source": [
    "# Define the model\n",
    "model = tf.keras.models.Sequential()\n",
    "model.add(tf.keras.layers.Dense(units=80, activation=\"relu\", input_dim=14))\n",
    "# Add more hidden layers\n",
    "model.add(tf.keras.layers.Dense(units=100, activation='relu'))\n",
    "model.add(tf.keras.layers.Dense(units=50, activation='relu'))\n",
    "model.add(tf.keras.layers.Dense(units=10, activation='relu'))\n",
    "\n",
    "# Add the output layer\n",
    "model.add(tf.keras.layers.Dense(units=1, activation='sigmoid'))\n",
    "# Compile the model\n",
    "model.compile(optimizer='adam', loss='mse', metrics=['accuracy'])\n",
    "\n",
    "# Print model summary\n",
    "model.summary()\n",
    "\n"
   ]
  },
  {
   "cell_type": "code",
   "execution_count": 16,
   "metadata": {},
   "outputs": [
    {
     "name": "stdout",
     "output_type": "stream",
     "text": [
      "Epoch 1/20\n",
      "\u001b[1m21/21\u001b[0m \u001b[32m━━━━━━━━━━━━━━━━━━━━\u001b[0m\u001b[37m\u001b[0m \u001b[1m1s\u001b[0m 6ms/step - accuracy: 0.7161 - loss: 0.7068 - val_accuracy: 0.6957 - val_loss: 0.5484\n",
      "Epoch 2/20\n",
      "\u001b[1m21/21\u001b[0m \u001b[32m━━━━━━━━━━━━━━━━━━━━\u001b[0m\u001b[37m\u001b[0m \u001b[1m0s\u001b[0m 2ms/step - accuracy: 0.7541 - loss: 0.7824 - val_accuracy: 0.6770 - val_loss: 0.5205\n",
      "Epoch 3/20\n",
      "\u001b[1m21/21\u001b[0m \u001b[32m━━━━━━━━━━━━━━━━━━━━\u001b[0m\u001b[37m\u001b[0m \u001b[1m0s\u001b[0m 2ms/step - accuracy: 0.7755 - loss: 0.5409 - val_accuracy: 0.6832 - val_loss: 0.5180\n",
      "Epoch 4/20\n",
      "\u001b[1m21/21\u001b[0m \u001b[32m━━━━━━━━━━━━━━━━━━━━\u001b[0m\u001b[37m\u001b[0m \u001b[1m0s\u001b[0m 2ms/step - accuracy: 0.7522 - loss: 0.5507 - val_accuracy: 0.6832 - val_loss: 0.5192\n",
      "Epoch 5/20\n",
      "\u001b[1m21/21\u001b[0m \u001b[32m━━━━━━━━━━━━━━━━━━━━\u001b[0m\u001b[37m\u001b[0m \u001b[1m0s\u001b[0m 1ms/step - accuracy: 0.7445 - loss: 0.6569 - val_accuracy: 0.6894 - val_loss: 0.5171\n",
      "Epoch 6/20\n",
      "\u001b[1m21/21\u001b[0m \u001b[32m━━━━━━━━━━━━━━━━━━━━\u001b[0m\u001b[37m\u001b[0m \u001b[1m0s\u001b[0m 2ms/step - accuracy: 0.7612 - loss: 0.4899 - val_accuracy: 0.6770 - val_loss: 0.5240\n",
      "Epoch 7/20\n",
      "\u001b[1m21/21\u001b[0m \u001b[32m━━━━━━━━━━━━━━━━━━━━\u001b[0m\u001b[37m\u001b[0m \u001b[1m0s\u001b[0m 2ms/step - accuracy: 0.8004 - loss: 0.5749 - val_accuracy: 0.6832 - val_loss: 0.5199\n",
      "Epoch 8/20\n",
      "\u001b[1m21/21\u001b[0m \u001b[32m━━━━━━━━━━━━━━━━━━━━\u001b[0m\u001b[37m\u001b[0m \u001b[1m0s\u001b[0m 2ms/step - accuracy: 0.7712 - loss: 0.5955 - val_accuracy: 0.6894 - val_loss: 0.5201\n",
      "Epoch 9/20\n",
      "\u001b[1m21/21\u001b[0m \u001b[32m━━━━━━━━━━━━━━━━━━━━\u001b[0m\u001b[37m\u001b[0m \u001b[1m0s\u001b[0m 2ms/step - accuracy: 0.7707 - loss: 0.4450 - val_accuracy: 0.6894 - val_loss: 0.5255\n",
      "Epoch 10/20\n",
      "\u001b[1m21/21\u001b[0m \u001b[32m━━━━━━━━━━━━━━━━━━━━\u001b[0m\u001b[37m\u001b[0m \u001b[1m0s\u001b[0m 2ms/step - accuracy: 0.7678 - loss: 0.7506 - val_accuracy: 0.7019 - val_loss: 0.5225\n",
      "Epoch 11/20\n",
      "\u001b[1m21/21\u001b[0m \u001b[32m━━━━━━━━━━━━━━━━━━━━\u001b[0m\u001b[37m\u001b[0m \u001b[1m0s\u001b[0m 2ms/step - accuracy: 0.7876 - loss: 0.5948 - val_accuracy: 0.7081 - val_loss: 0.5214\n",
      "Epoch 12/20\n",
      "\u001b[1m21/21\u001b[0m \u001b[32m━━━━━━━━━━━━━━━━━━━━\u001b[0m\u001b[37m\u001b[0m \u001b[1m0s\u001b[0m 2ms/step - accuracy: 0.7868 - loss: 0.5847 - val_accuracy: 0.6957 - val_loss: 0.5187\n",
      "Epoch 13/20\n",
      "\u001b[1m21/21\u001b[0m \u001b[32m━━━━━━━━━━━━━━━━━━━━\u001b[0m\u001b[37m\u001b[0m \u001b[1m0s\u001b[0m 1ms/step - accuracy: 0.7831 - loss: 0.6354 - val_accuracy: 0.7205 - val_loss: 0.5207\n",
      "Epoch 14/20\n",
      "\u001b[1m21/21\u001b[0m \u001b[32m━━━━━━━━━━━━━━━━━━━━\u001b[0m\u001b[37m\u001b[0m \u001b[1m0s\u001b[0m 2ms/step - accuracy: 0.7983 - loss: 0.6199 - val_accuracy: 0.7143 - val_loss: 0.5196\n",
      "Epoch 15/20\n",
      "\u001b[1m21/21\u001b[0m \u001b[32m━━━━━━━━━━━━━━━━━━━━\u001b[0m\u001b[37m\u001b[0m \u001b[1m0s\u001b[0m 2ms/step - accuracy: 0.7850 - loss: 0.4619 - val_accuracy: 0.7143 - val_loss: 0.5187\n",
      "Epoch 16/20\n",
      "\u001b[1m21/21\u001b[0m \u001b[32m━━━━━━━━━━━━━━━━━━━━\u001b[0m\u001b[37m\u001b[0m \u001b[1m0s\u001b[0m 2ms/step - accuracy: 0.8133 - loss: 0.4988 - val_accuracy: 0.7329 - val_loss: 0.5203\n",
      "Epoch 17/20\n",
      "\u001b[1m21/21\u001b[0m \u001b[32m━━━━━━━━━━━━━━━━━━━━\u001b[0m\u001b[37m\u001b[0m \u001b[1m0s\u001b[0m 2ms/step - accuracy: 0.7979 - loss: 0.5400 - val_accuracy: 0.7267 - val_loss: 0.5210\n",
      "Epoch 18/20\n",
      "\u001b[1m21/21\u001b[0m \u001b[32m━━━━━━━━━━━━━━━━━━━━\u001b[0m\u001b[37m\u001b[0m \u001b[1m0s\u001b[0m 2ms/step - accuracy: 0.8059 - loss: 0.5369 - val_accuracy: 0.7391 - val_loss: 0.5193\n",
      "Epoch 19/20\n",
      "\u001b[1m21/21\u001b[0m \u001b[32m━━━━━━━━━━━━━━━━━━━━\u001b[0m\u001b[37m\u001b[0m \u001b[1m0s\u001b[0m 2ms/step - accuracy: 0.8038 - loss: 0.5304 - val_accuracy: 0.7267 - val_loss: 0.5223\n",
      "Epoch 20/20\n",
      "\u001b[1m21/21\u001b[0m \u001b[32m━━━━━━━━━━━━━━━━━━━━\u001b[0m\u001b[37m\u001b[0m \u001b[1m0s\u001b[0m 2ms/step - accuracy: 0.7971 - loss: 0.6426 - val_accuracy: 0.7391 - val_loss: 0.5181\n"
     ]
    },
    {
     "data": {
      "text/plain": [
       "<keras.src.callbacks.history.History at 0x177f26b7850>"
      ]
     },
     "execution_count": 16,
     "metadata": {},
     "output_type": "execute_result"
    }
   ],
   "source": [
    "# fit training model\n",
    "model.fit(X_train_scaled, y_train_encoded, epochs=20, batch_size=32, validation_split=0.2)"
   ]
  },
  {
   "cell_type": "code",
   "execution_count": 17,
   "metadata": {},
   "outputs": [
    {
     "name": "stdout",
     "output_type": "stream",
     "text": [
      "9/9 - 0s - 2ms/step - accuracy: 0.7724 - loss: 0.5514\n",
      "Loss: 0.5514024496078491, Accuracy: 0.7723880410194397\n"
     ]
    }
   ],
   "source": [
    "# Evaluate the model using the test data\n",
    "model_loss, model_accuracy = model.evaluate(X_test_scaled,y_test_encoded,verbose=2)\n",
    "print(f\"Loss: {model_loss}, Accuracy: {model_accuracy}\")"
   ]
  },
  {
   "cell_type": "code",
   "execution_count": 18,
   "metadata": {},
   "outputs": [
    {
     "name": "stderr",
     "output_type": "stream",
     "text": [
      "WARNING:absl:You are saving your model as an HDF5 file via `model.save()` or `keras.saving.save_model(model)`. This file format is considered legacy. We recommend using instead the native Keras format, e.g. `model.save('my_model.keras')` or `keras.saving.save_model(model, 'my_model.keras')`. \n"
     ]
    }
   ],
   "source": [
    "#save NN\n",
    "model.save(\"ISD_Accountability.h5\")"
   ]
  }
 ],
 "metadata": {
  "kernelspec": {
   "display_name": "Python 3",
   "language": "python",
   "name": "python3"
  },
  "language_info": {
   "codemirror_mode": {
    "name": "ipython",
    "version": 3
   },
   "file_extension": ".py",
   "mimetype": "text/x-python",
   "name": "python",
   "nbconvert_exporter": "python",
   "pygments_lexer": "ipython3",
   "version": "3.9.18"
  }
 },
 "nbformat": 4,
 "nbformat_minor": 2
}
