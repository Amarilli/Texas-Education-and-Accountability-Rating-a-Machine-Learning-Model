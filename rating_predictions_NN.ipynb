{
 "cells": [
  {
   "cell_type": "code",
   "execution_count": 1,
   "metadata": {},
   "outputs": [],
   "source": [
    "\n",
    "import pandas as pd\n",
    "import sklearn\n",
    "import numpy as np\n",
    "from sklearn.model_selection import train_test_split\n",
    "from sklearn.linear_model import LinearRegression\n",
    "from sklearn.metrics import mean_absolute_error, mean_squared_error, r2_score\n",
    "from sklearn.preprocessing import StandardScaler\n",
    "import tensorflow as tf\n",
    "from tensorflow.keras.models import Sequential\n",
    "from tensorflow.keras.layers import Dense\n",
    "from sklearn.preprocessing import LabelEncoder\n",
    "from pymongo import MongoClient"
   ]
  },
  {
   "cell_type": "markdown",
   "metadata": {},
   "source": [
    "# Data Processing"
   ]
  },
  {
   "cell_type": "code",
   "execution_count": 3,
   "metadata": {},
   "outputs": [
    {
     "name": "stdout",
     "output_type": "stream",
     "text": [
      "admin\n",
      "autosaurus\n",
      "classDB\n",
      "config\n",
      "epa\n",
      "fruits_db\n",
      "garden_db\n",
      "local\n",
      "met\n",
      "petsitly_marketing\n",
      "test\n",
      "texasSchoolsDB <----------\n",
      "travel_db\n",
      "uk_food\n"
     ]
    }
   ],
   "source": [
    "# connect to mongodb\n",
    "mongo = MongoClient(port=27017)\n",
    "\n",
    "for dbname in mongo.list_database_names():\n",
    "    if dbname == \"texasSchoolsDB\":\n",
    "        print(f'{dbname} <----------')\n",
    "    else:\n",
    "        print(dbname)"
   ]
  },
  {
   "cell_type": "code",
   "execution_count": 4,
   "metadata": {},
   "outputs": [
    {
     "data": {
      "text/plain": [
       "['demographics',\n",
       " 'scores_coordinates',\n",
       " 'scores_finances',\n",
       " 'scores_finances_coordinates',\n",
       " 'schools_2022_to_2023_geojson',\n",
       " 'staar20_21',\n",
       " 'DISTRICTS_INFO_2020_21',\n",
       " 'account_ratings22',\n",
       " 'current_districts_geojson',\n",
       " 'tor20_21',\n",
       " 'coordinates',\n",
       " 'school_info',\n",
       " 'teachers20_21',\n",
       " 'demographic20_21']"
      ]
     },
     "execution_count": 4,
     "metadata": {},
     "output_type": "execute_result"
    }
   ],
   "source": [
    "db = mongo[\"texasSchoolsDB\"]\n",
    "db.list_collection_names()"
   ]
  },
  {
   "cell_type": "code",
   "execution_count": 6,
   "metadata": {},
   "outputs": [],
   "source": [
    "# get the account_ratings22' collection from mongodb and convert it to a pandas dataframe\n",
    "collection = db.account_ratings22\n",
    "ratings = pd.DataFrame(list(collection.find()))"
   ]
  },
  {
   "cell_type": "code",
   "execution_count": 7,
   "metadata": {},
   "outputs": [
    {
     "data": {
      "text/plain": [
       "['_id',\n",
       " 'DistrictNumber',\n",
       " 'District',\n",
       " 'Region',\n",
       " 'County',\n",
       " 'SchoolType',\n",
       " 'AlternativeEducationAccountability',\n",
       " 'Charter',\n",
       " 'Number ofStudents',\n",
       " '%EconomicallyDisadvantaged',\n",
       " '% EB/ELStudents',\n",
       " 'OverallRating',\n",
       " 'OverallScore',\n",
       " 'StudentAchievementRating',\n",
       " 'StudentAchievementScore',\n",
       " 'SchoolProgressRating',\n",
       " 'SchoolProgressScore',\n",
       " 'AcademicGrowthRating',\n",
       " 'AcademicGrowthScore',\n",
       " 'RelativePerformanceRating',\n",
       " 'RelativePerformanceScore',\n",
       " 'Closingthe Gaps Rating',\n",
       " 'Closingthe Gaps Score',\n",
       " 'DistinctionPostsecondaryReadiness',\n",
       " 'CampusNumber',\n",
       " 'Campus',\n",
       " 'GradesServed',\n",
       " 'DistinctionELA/Reading',\n",
       " 'DistinctionMathematics',\n",
       " 'DistinctionScience',\n",
       " 'DistinctionSoc Studies',\n",
       " 'DistinctionProgress',\n",
       " 'DistinctionClosing the Gaps',\n",
       " 'US CongressDistrict',\n",
       " 'US CongressElection District',\n",
       " 'TX HouseDistrict',\n",
       " 'TX HouseElection District',\n",
       " 'TX SenateDistrict',\n",
       " 'TX SenateElection District',\n",
       " 'Campus EnrollmentType',\n",
       " 'SupportLabel',\n",
       " 'PublicEducationGrant']"
      ]
     },
     "execution_count": 7,
     "metadata": {},
     "output_type": "execute_result"
    }
   ],
   "source": [
    "ratings.columns.to_list()"
   ]
  },
  {
   "cell_type": "code",
   "execution_count": 8,
   "metadata": {},
   "outputs": [],
   "source": [
    "# Drop the non-beneficial columns \n",
    "ratings = ratings.drop(columns=['_id',\n",
    " 'DistrictNumber',\n",
    " 'District',\n",
    " 'Region',\n",
    " 'County',\n",
    " 'SchoolType',\n",
    " 'AlternativeEducationAccountability',\n",
    " 'Charter',\n",
    " 'StudentAchievementRating',\n",
    " 'SchoolProgressRating',\n",
    " 'AcademicGrowthRating',\n",
    " 'RelativePerformanceRating',\n",
    " 'Closingthe Gaps Rating',\n",
    " 'CampusNumber',\n",
    " 'Campus',\n",
    " 'GradesServed',\n",
    " 'DistinctionELA/Reading',\n",
    " 'DistinctionScience',\n",
    " 'DistinctionSoc Studies',\n",
    " 'DistinctionProgress',\n",
    " 'DistinctionClosing the Gaps',\n",
    " 'US CongressDistrict',\n",
    " 'US CongressElection District',\n",
    " 'TX HouseDistrict',\n",
    " 'TX HouseElection District',\n",
    " 'TX SenateDistrict',\n",
    " 'TX SenateElection District',\n",
    " 'Campus EnrollmentType',\n",
    " 'SupportLabel',\n",
    " 'PublicEducationGrant'])"
   ]
  },
  {
   "cell_type": "code",
   "execution_count": 9,
   "metadata": {},
   "outputs": [
    {
     "data": {
      "text/plain": [
       "['Number ofStudents',\n",
       " '%EconomicallyDisadvantaged',\n",
       " '% EB/ELStudents',\n",
       " 'OverallRating',\n",
       " 'OverallScore',\n",
       " 'StudentAchievementScore',\n",
       " 'SchoolProgressScore',\n",
       " 'AcademicGrowthScore',\n",
       " 'RelativePerformanceScore',\n",
       " 'Closingthe Gaps Score',\n",
       " 'DistinctionPostsecondaryReadiness',\n",
       " 'DistinctionMathematics']"
      ]
     },
     "execution_count": 9,
     "metadata": {},
     "output_type": "execute_result"
    }
   ],
   "source": [
    "ratings.columns.to_list()"
   ]
  },
  {
   "cell_type": "code",
   "execution_count": 10,
   "metadata": {},
   "outputs": [
    {
     "data": {
      "text/html": [
       "<div>\n",
       "<style scoped>\n",
       "    .dataframe tbody tr th:only-of-type {\n",
       "        vertical-align: middle;\n",
       "    }\n",
       "\n",
       "    .dataframe tbody tr th {\n",
       "        vertical-align: top;\n",
       "    }\n",
       "\n",
       "    .dataframe thead th {\n",
       "        text-align: right;\n",
       "    }\n",
       "</style>\n",
       "<table border=\"1\" class=\"dataframe\">\n",
       "  <thead>\n",
       "    <tr style=\"text-align: right;\">\n",
       "      <th></th>\n",
       "      <th>Number ofStudents</th>\n",
       "      <th>%EconomicallyDisadvantaged</th>\n",
       "      <th>% EB/ELStudents</th>\n",
       "      <th>OverallRating</th>\n",
       "      <th>OverallScore</th>\n",
       "      <th>StudentAchievementScore</th>\n",
       "      <th>SchoolProgressScore</th>\n",
       "      <th>AcademicGrowthScore</th>\n",
       "      <th>RelativePerformanceScore</th>\n",
       "      <th>Closingthe Gaps Score</th>\n",
       "      <th>DistinctionPostsecondaryReadiness</th>\n",
       "      <th>DistinctionMathematics</th>\n",
       "    </tr>\n",
       "  </thead>\n",
       "  <tbody>\n",
       "    <tr>\n",
       "      <th>1</th>\n",
       "      <td>169</td>\n",
       "      <td>34.3%</td>\n",
       "      <td>1.2%</td>\n",
       "      <td>A</td>\n",
       "      <td>96</td>\n",
       "      <td>94</td>\n",
       "      <td>90</td>\n",
       "      <td>90</td>\n",
       "      <td>88</td>\n",
       "      <td>100</td>\n",
       "      <td>Earned</td>\n",
       "      <td>Earned</td>\n",
       "    </tr>\n",
       "    <tr>\n",
       "      <th>2</th>\n",
       "      <td>159</td>\n",
       "      <td>39.6%</td>\n",
       "      <td>0.6%</td>\n",
       "      <td>B</td>\n",
       "      <td>84</td>\n",
       "      <td>86</td>\n",
       "      <td>82</td>\n",
       "      <td>74</td>\n",
       "      <td>82</td>\n",
       "      <td>79</td>\n",
       "      <td>Earned</td>\n",
       "      <td>Not Earned</td>\n",
       "    </tr>\n",
       "    <tr>\n",
       "      <th>3</th>\n",
       "      <td>246</td>\n",
       "      <td>45.9%</td>\n",
       "      <td>1.2%</td>\n",
       "      <td>A</td>\n",
       "      <td>91</td>\n",
       "      <td>92</td>\n",
       "      <td>90</td>\n",
       "      <td>82</td>\n",
       "      <td>90</td>\n",
       "      <td>87</td>\n",
       "      <td>Earned</td>\n",
       "      <td>Earned</td>\n",
       "    </tr>\n",
       "    <tr>\n",
       "      <th>5</th>\n",
       "      <td>307</td>\n",
       "      <td>34.5%</td>\n",
       "      <td>1.3%</td>\n",
       "      <td>B</td>\n",
       "      <td>89</td>\n",
       "      <td>92</td>\n",
       "      <td>86</td>\n",
       "      <td>73</td>\n",
       "      <td>86</td>\n",
       "      <td>81</td>\n",
       "      <td>Not Earned</td>\n",
       "      <td>Not Earned</td>\n",
       "    </tr>\n",
       "    <tr>\n",
       "      <th>6</th>\n",
       "      <td>268</td>\n",
       "      <td>43.7%</td>\n",
       "      <td>1.9%</td>\n",
       "      <td>B</td>\n",
       "      <td>83</td>\n",
       "      <td>86</td>\n",
       "      <td>84</td>\n",
       "      <td>77</td>\n",
       "      <td>84</td>\n",
       "      <td>76</td>\n",
       "      <td>Not Earned</td>\n",
       "      <td>Not Earned</td>\n",
       "    </tr>\n",
       "    <tr>\n",
       "      <th>...</th>\n",
       "      <td>...</td>\n",
       "      <td>...</td>\n",
       "      <td>...</td>\n",
       "      <td>...</td>\n",
       "      <td>...</td>\n",
       "      <td>...</td>\n",
       "      <td>...</td>\n",
       "      <td>...</td>\n",
       "      <td>...</td>\n",
       "      <td>...</td>\n",
       "      <td>...</td>\n",
       "      <td>...</td>\n",
       "    </tr>\n",
       "    <tr>\n",
       "      <th>10166</th>\n",
       "      <td>407</td>\n",
       "      <td>81.3%</td>\n",
       "      <td>2.0%</td>\n",
       "      <td>C</td>\n",
       "      <td>79</td>\n",
       "      <td>56</td>\n",
       "      <td>81</td>\n",
       "      <td>81</td>\n",
       "      <td>58</td>\n",
       "      <td>74</td>\n",
       "      <td>Not Earned</td>\n",
       "      <td>Not Earned</td>\n",
       "    </tr>\n",
       "    <tr>\n",
       "      <th>10168</th>\n",
       "      <td>231</td>\n",
       "      <td>84.0%</td>\n",
       "      <td>1.7%</td>\n",
       "      <td>B</td>\n",
       "      <td>81</td>\n",
       "      <td>57</td>\n",
       "      <td>85</td>\n",
       "      <td>85</td>\n",
       "      <td>59</td>\n",
       "      <td>72</td>\n",
       "      <td>Not Earned</td>\n",
       "      <td>Not Earned</td>\n",
       "    </tr>\n",
       "    <tr>\n",
       "      <th>10169</th>\n",
       "      <td>365</td>\n",
       "      <td>87.4%</td>\n",
       "      <td>3.0%</td>\n",
       "      <td>Not Rated: Senate Bill 1365</td>\n",
       "      <td>61</td>\n",
       "      <td>60</td>\n",
       "      <td>66</td>\n",
       "      <td>.</td>\n",
       "      <td>66</td>\n",
       "      <td>50</td>\n",
       "      <td>Not Earned</td>\n",
       "      <td>Not Earned</td>\n",
       "    </tr>\n",
       "    <tr>\n",
       "      <th>10171</th>\n",
       "      <td>204</td>\n",
       "      <td>84.8%</td>\n",
       "      <td>5.9%</td>\n",
       "      <td>B</td>\n",
       "      <td>87</td>\n",
       "      <td>82</td>\n",
       "      <td>91</td>\n",
       "      <td>91</td>\n",
       "      <td>87</td>\n",
       "      <td>76</td>\n",
       "      <td>Not Earned</td>\n",
       "      <td>Earned</td>\n",
       "    </tr>\n",
       "    <tr>\n",
       "      <th>10172</th>\n",
       "      <td>280</td>\n",
       "      <td>94.6%</td>\n",
       "      <td>3.2%</td>\n",
       "      <td>C</td>\n",
       "      <td>79</td>\n",
       "      <td>67</td>\n",
       "      <td>80</td>\n",
       "      <td>80</td>\n",
       "      <td>75</td>\n",
       "      <td>76</td>\n",
       "      <td>Not Earned</td>\n",
       "      <td>Not Earned</td>\n",
       "    </tr>\n",
       "  </tbody>\n",
       "</table>\n",
       "<p>7830 rows × 12 columns</p>\n",
       "</div>"
      ],
      "text/plain": [
       "      Number ofStudents %EconomicallyDisadvantaged % EB/ELStudents  \\\n",
       "1                   169                      34.3%            1.2%   \n",
       "2                   159                      39.6%            0.6%   \n",
       "3                   246                      45.9%            1.2%   \n",
       "5                   307                      34.5%            1.3%   \n",
       "6                   268                      43.7%            1.9%   \n",
       "...                 ...                        ...             ...   \n",
       "10166               407                      81.3%            2.0%   \n",
       "10168               231                      84.0%            1.7%   \n",
       "10169               365                      87.4%            3.0%   \n",
       "10171               204                      84.8%            5.9%   \n",
       "10172               280                      94.6%            3.2%   \n",
       "\n",
       "                     OverallRating OverallScore StudentAchievementScore  \\\n",
       "1                                A           96                      94   \n",
       "2                                B           84                      86   \n",
       "3                                A           91                      92   \n",
       "5                                B           89                      92   \n",
       "6                                B           83                      86   \n",
       "...                            ...          ...                     ...   \n",
       "10166                            C           79                      56   \n",
       "10168                            B           81                      57   \n",
       "10169  Not Rated: Senate Bill 1365           61                      60   \n",
       "10171                            B           87                      82   \n",
       "10172                            C           79                      67   \n",
       "\n",
       "      SchoolProgressScore AcademicGrowthScore RelativePerformanceScore  \\\n",
       "1                      90                  90                       88   \n",
       "2                      82                  74                       82   \n",
       "3                      90                  82                       90   \n",
       "5                      86                  73                       86   \n",
       "6                      84                  77                       84   \n",
       "...                   ...                 ...                      ...   \n",
       "10166                  81                  81                       58   \n",
       "10168                  85                  85                       59   \n",
       "10169                  66                   .                       66   \n",
       "10171                  91                  91                       87   \n",
       "10172                  80                  80                       75   \n",
       "\n",
       "      Closingthe Gaps Score DistinctionPostsecondaryReadiness  \\\n",
       "1                       100                            Earned   \n",
       "2                        79                            Earned   \n",
       "3                        87                            Earned   \n",
       "5                        81                        Not Earned   \n",
       "6                        76                        Not Earned   \n",
       "...                     ...                               ...   \n",
       "10166                    74                        Not Earned   \n",
       "10168                    72                        Not Earned   \n",
       "10169                    50                        Not Earned   \n",
       "10171                    76                        Not Earned   \n",
       "10172                    76                        Not Earned   \n",
       "\n",
       "      DistinctionMathematics  \n",
       "1                     Earned  \n",
       "2                 Not Earned  \n",
       "3                     Earned  \n",
       "5                 Not Earned  \n",
       "6                 Not Earned  \n",
       "...                      ...  \n",
       "10166             Not Earned  \n",
       "10168             Not Earned  \n",
       "10169             Not Earned  \n",
       "10171                 Earned  \n",
       "10172             Not Earned  \n",
       "\n",
       "[7830 rows x 12 columns]"
      ]
     },
     "execution_count": 10,
     "metadata": {},
     "output_type": "execute_result"
    }
   ],
   "source": [
    "ratings.dropna()"
   ]
  },
  {
   "cell_type": "code",
   "execution_count": 11,
   "metadata": {},
   "outputs": [],
   "source": [
    "# Conver to Numeric\n",
    "columns_to_convert = ['Number ofStudents',\n",
    " '%EconomicallyDisadvantaged',\n",
    " '% EB/ELStudents',\n",
    " 'OverallScore',\n",
    " 'StudentAchievementScore',\n",
    " 'SchoolProgressScore',\n",
    " 'AcademicGrowthScore',\n",
    " 'RelativePerformanceScore',\n",
    " 'Closingthe Gaps Score']\n",
    "\n",
    "# Drop commas and percent signs, then convert selected columns to numeric\n",
    "ratings[columns_to_convert] = ratings[columns_to_convert].replace({',': '', '%': ''}, regex=True).apply(pd.to_numeric, errors='coerce')"
   ]
  },
  {
   "cell_type": "code",
   "execution_count": 12,
   "metadata": {},
   "outputs": [],
   "source": [
    "#Convert Categorical Data\n",
    "ratings = pd.get_dummies(ratings, columns=[\n",
    " 'DistinctionPostsecondaryReadiness',\n",
    " 'DistinctionMathematics'])"
   ]
  },
  {
   "cell_type": "code",
   "execution_count": 13,
   "metadata": {},
   "outputs": [],
   "source": [
    "ratings =  ratings.dropna()"
   ]
  },
  {
   "cell_type": "code",
   "execution_count": 14,
   "metadata": {},
   "outputs": [
    {
     "data": {
      "text/plain": [
       "B                               4199\n",
       "A                               2516\n",
       "C                               1590\n",
       "Not Rated: Senate Bill 1365      508\n",
       "Not Rated: Data Under Review       1\n",
       "Name: OverallRating, dtype: int64"
      ]
     },
     "execution_count": 14,
     "metadata": {},
     "output_type": "execute_result"
    }
   ],
   "source": [
    "ratings['OverallRating'].value_counts()"
   ]
  },
  {
   "cell_type": "code",
   "execution_count": 15,
   "metadata": {},
   "outputs": [],
   "source": [
    "# remove one under review school\n",
    "ratings = ratings[ratings['OverallRating'] != 'Not Rated: Data Under Review']"
   ]
  },
  {
   "cell_type": "code",
   "execution_count": 16,
   "metadata": {},
   "outputs": [
    {
     "data": {
      "text/plain": [
       "B                              4199\n",
       "A                              2516\n",
       "C                              1590\n",
       "Not Rated: Senate Bill 1365     508\n",
       "Name: OverallRating, dtype: int64"
      ]
     },
     "execution_count": 16,
     "metadata": {},
     "output_type": "execute_result"
    }
   ],
   "source": [
    "#check removal\n",
    "ratings['OverallRating'].value_counts()"
   ]
  },
  {
   "cell_type": "markdown",
   "metadata": {},
   "source": [
    "# Compile, Train, and Evaluate Model"
   ]
  },
  {
   "cell_type": "code",
   "execution_count": 17,
   "metadata": {},
   "outputs": [
    {
     "name": "stdout",
     "output_type": "stream",
     "text": [
      "(6609, 13)\n"
     ]
    }
   ],
   "source": [
    "# Remove 'DISTRICT ACCOUNTABILITY RATINGS' target from features data\n",
    "X = ratings.drop(columns=['OverallRating']) \n",
    "y = ratings['OverallRating']  \n",
    "\n",
    "# Split the data into training and testing datasets\n",
    "X_train, X_test, y_train, y_test = train_test_split(X, y, random_state=42, stratify=y)\n",
    "\n",
    "# Initialize the LabelEncoder\n",
    "label_encoder = LabelEncoder()\n",
    "\n",
    "# Fit and transform the target variables\n",
    "y_train_encoded = label_encoder.fit_transform(y_train)\n",
    "y_test_encoded = label_encoder.transform(y_test)\n",
    "\n",
    "# Create a StandardScaler instance\n",
    "scaler = StandardScaler()\n",
    "\n",
    "# Fit the StandardScaler\n",
    "X_scaler = scaler.fit(X_train)\n",
    "\n",
    "# Scale the data\n",
    "X_train_scaled = X_scaler.transform(X_train)\n",
    "X_test_scaled = X_scaler.transform(X_test)\n",
    "\n",
    "print(X_train_scaled.shape)"
   ]
  },
  {
   "cell_type": "code",
   "execution_count": 18,
   "metadata": {},
   "outputs": [
    {
     "name": "stderr",
     "output_type": "stream",
     "text": [
      "c:\\Users\\riahk\\anaconda3\\envs\\geoviews\\lib\\site-packages\\keras\\src\\layers\\core\\dense.py:88: UserWarning: Do not pass an `input_shape`/`input_dim` argument to a layer. When using Sequential models, prefer using an `Input(shape)` object as the first layer in the model instead.\n",
      "  super().__init__(activity_regularizer=activity_regularizer, **kwargs)\n"
     ]
    },
    {
     "data": {
      "text/html": [
       "<pre style=\"white-space:pre;overflow-x:auto;line-height:normal;font-family:Menlo,'DejaVu Sans Mono',consolas,'Courier New',monospace\"><span style=\"font-weight: bold\">Model: \"sequential\"</span>\n",
       "</pre>\n"
      ],
      "text/plain": [
       "\u001b[1mModel: \"sequential\"\u001b[0m\n"
      ]
     },
     "metadata": {},
     "output_type": "display_data"
    },
    {
     "data": {
      "text/html": [
       "<pre style=\"white-space:pre;overflow-x:auto;line-height:normal;font-family:Menlo,'DejaVu Sans Mono',consolas,'Courier New',monospace\">┏━━━━━━━━━━━━━━━━━━━━━━━━━━━━━━━━━┳━━━━━━━━━━━━━━━━━━━━━━━━┳━━━━━━━━━━━━━━━┓\n",
       "┃<span style=\"font-weight: bold\"> Layer (type)                    </span>┃<span style=\"font-weight: bold\"> Output Shape           </span>┃<span style=\"font-weight: bold\">       Param # </span>┃\n",
       "┡━━━━━━━━━━━━━━━━━━━━━━━━━━━━━━━━━╇━━━━━━━━━━━━━━━━━━━━━━━━╇━━━━━━━━━━━━━━━┩\n",
       "│ dense (<span style=\"color: #0087ff; text-decoration-color: #0087ff\">Dense</span>)                   │ (<span style=\"color: #00d7ff; text-decoration-color: #00d7ff\">None</span>, <span style=\"color: #00af00; text-decoration-color: #00af00\">80</span>)             │         <span style=\"color: #00af00; text-decoration-color: #00af00\">1,120</span> │\n",
       "├─────────────────────────────────┼────────────────────────┼───────────────┤\n",
       "│ dense_1 (<span style=\"color: #0087ff; text-decoration-color: #0087ff\">Dense</span>)                 │ (<span style=\"color: #00d7ff; text-decoration-color: #00d7ff\">None</span>, <span style=\"color: #00af00; text-decoration-color: #00af00\">100</span>)            │         <span style=\"color: #00af00; text-decoration-color: #00af00\">8,100</span> │\n",
       "├─────────────────────────────────┼────────────────────────┼───────────────┤\n",
       "│ dense_2 (<span style=\"color: #0087ff; text-decoration-color: #0087ff\">Dense</span>)                 │ (<span style=\"color: #00d7ff; text-decoration-color: #00d7ff\">None</span>, <span style=\"color: #00af00; text-decoration-color: #00af00\">50</span>)             │         <span style=\"color: #00af00; text-decoration-color: #00af00\">5,050</span> │\n",
       "├─────────────────────────────────┼────────────────────────┼───────────────┤\n",
       "│ dense_3 (<span style=\"color: #0087ff; text-decoration-color: #0087ff\">Dense</span>)                 │ (<span style=\"color: #00d7ff; text-decoration-color: #00d7ff\">None</span>, <span style=\"color: #00af00; text-decoration-color: #00af00\">10</span>)             │           <span style=\"color: #00af00; text-decoration-color: #00af00\">510</span> │\n",
       "├─────────────────────────────────┼────────────────────────┼───────────────┤\n",
       "│ dense_4 (<span style=\"color: #0087ff; text-decoration-color: #0087ff\">Dense</span>)                 │ (<span style=\"color: #00d7ff; text-decoration-color: #00d7ff\">None</span>, <span style=\"color: #00af00; text-decoration-color: #00af00\">1</span>)              │            <span style=\"color: #00af00; text-decoration-color: #00af00\">11</span> │\n",
       "└─────────────────────────────────┴────────────────────────┴───────────────┘\n",
       "</pre>\n"
      ],
      "text/plain": [
       "┏━━━━━━━━━━━━━━━━━━━━━━━━━━━━━━━━━┳━━━━━━━━━━━━━━━━━━━━━━━━┳━━━━━━━━━━━━━━━┓\n",
       "┃\u001b[1m \u001b[0m\u001b[1mLayer (type)                   \u001b[0m\u001b[1m \u001b[0m┃\u001b[1m \u001b[0m\u001b[1mOutput Shape          \u001b[0m\u001b[1m \u001b[0m┃\u001b[1m \u001b[0m\u001b[1m      Param #\u001b[0m\u001b[1m \u001b[0m┃\n",
       "┡━━━━━━━━━━━━━━━━━━━━━━━━━━━━━━━━━╇━━━━━━━━━━━━━━━━━━━━━━━━╇━━━━━━━━━━━━━━━┩\n",
       "│ dense (\u001b[38;5;33mDense\u001b[0m)                   │ (\u001b[38;5;45mNone\u001b[0m, \u001b[38;5;34m80\u001b[0m)             │         \u001b[38;5;34m1,120\u001b[0m │\n",
       "├─────────────────────────────────┼────────────────────────┼───────────────┤\n",
       "│ dense_1 (\u001b[38;5;33mDense\u001b[0m)                 │ (\u001b[38;5;45mNone\u001b[0m, \u001b[38;5;34m100\u001b[0m)            │         \u001b[38;5;34m8,100\u001b[0m │\n",
       "├─────────────────────────────────┼────────────────────────┼───────────────┤\n",
       "│ dense_2 (\u001b[38;5;33mDense\u001b[0m)                 │ (\u001b[38;5;45mNone\u001b[0m, \u001b[38;5;34m50\u001b[0m)             │         \u001b[38;5;34m5,050\u001b[0m │\n",
       "├─────────────────────────────────┼────────────────────────┼───────────────┤\n",
       "│ dense_3 (\u001b[38;5;33mDense\u001b[0m)                 │ (\u001b[38;5;45mNone\u001b[0m, \u001b[38;5;34m10\u001b[0m)             │           \u001b[38;5;34m510\u001b[0m │\n",
       "├─────────────────────────────────┼────────────────────────┼───────────────┤\n",
       "│ dense_4 (\u001b[38;5;33mDense\u001b[0m)                 │ (\u001b[38;5;45mNone\u001b[0m, \u001b[38;5;34m1\u001b[0m)              │            \u001b[38;5;34m11\u001b[0m │\n",
       "└─────────────────────────────────┴────────────────────────┴───────────────┘\n"
      ]
     },
     "metadata": {},
     "output_type": "display_data"
    },
    {
     "data": {
      "text/html": [
       "<pre style=\"white-space:pre;overflow-x:auto;line-height:normal;font-family:Menlo,'DejaVu Sans Mono',consolas,'Courier New',monospace\"><span style=\"font-weight: bold\"> Total params: </span><span style=\"color: #00af00; text-decoration-color: #00af00\">14,791</span> (57.78 KB)\n",
       "</pre>\n"
      ],
      "text/plain": [
       "\u001b[1m Total params: \u001b[0m\u001b[38;5;34m14,791\u001b[0m (57.78 KB)\n"
      ]
     },
     "metadata": {},
     "output_type": "display_data"
    },
    {
     "data": {
      "text/html": [
       "<pre style=\"white-space:pre;overflow-x:auto;line-height:normal;font-family:Menlo,'DejaVu Sans Mono',consolas,'Courier New',monospace\"><span style=\"font-weight: bold\"> Trainable params: </span><span style=\"color: #00af00; text-decoration-color: #00af00\">14,791</span> (57.78 KB)\n",
       "</pre>\n"
      ],
      "text/plain": [
       "\u001b[1m Trainable params: \u001b[0m\u001b[38;5;34m14,791\u001b[0m (57.78 KB)\n"
      ]
     },
     "metadata": {},
     "output_type": "display_data"
    },
    {
     "data": {
      "text/html": [
       "<pre style=\"white-space:pre;overflow-x:auto;line-height:normal;font-family:Menlo,'DejaVu Sans Mono',consolas,'Courier New',monospace\"><span style=\"font-weight: bold\"> Non-trainable params: </span><span style=\"color: #00af00; text-decoration-color: #00af00\">0</span> (0.00 B)\n",
       "</pre>\n"
      ],
      "text/plain": [
       "\u001b[1m Non-trainable params: \u001b[0m\u001b[38;5;34m0\u001b[0m (0.00 B)\n"
      ]
     },
     "metadata": {},
     "output_type": "display_data"
    }
   ],
   "source": [
    "# Define the model\n",
    "model = tf.keras.models.Sequential()\n",
    "model.add(tf.keras.layers.Dense(units=80, activation=\"relu\", input_dim=13))\n",
    "# Add more hidden layers\n",
    "model.add(tf.keras.layers.Dense(units=100, activation='relu'))\n",
    "model.add(tf.keras.layers.Dense(units=50, activation='relu'))\n",
    "model.add(tf.keras.layers.Dense(units=10, activation='relu'))\n",
    "\n",
    "# Add the output layer\n",
    "model.add(tf.keras.layers.Dense(units=1, activation='sigmoid'))\n",
    "# Compile the model\n",
    "model.compile(optimizer='adam', loss='mse', metrics=['accuracy'])\n",
    "\n",
    "# Print model summary\n",
    "model.summary()\n"
   ]
  },
  {
   "cell_type": "code",
   "execution_count": 22,
   "metadata": {},
   "outputs": [
    {
     "name": "stdout",
     "output_type": "stream",
     "text": [
      "Epoch 1/100\n"
     ]
    },
    {
     "name": "stdout",
     "output_type": "stream",
     "text": [
      "\u001b[1m166/166\u001b[0m \u001b[32m━━━━━━━━━━━━━━━━━━━━\u001b[0m\u001b[37m\u001b[0m \u001b[1m0s\u001b[0m 959us/step - accuracy: 0.7595 - loss: 0.4066 - val_accuracy: 0.7595 - val_loss: 0.4393\n",
      "Epoch 2/100\n",
      "\u001b[1m166/166\u001b[0m \u001b[32m━━━━━━━━━━━━━━━━━━━━\u001b[0m\u001b[37m\u001b[0m \u001b[1m0s\u001b[0m 782us/step - accuracy: 0.7548 - loss: 0.4184 - val_accuracy: 0.7610 - val_loss: 0.4383\n",
      "Epoch 3/100\n",
      "\u001b[1m166/166\u001b[0m \u001b[32m━━━━━━━━━━━━━━━━━━━━\u001b[0m\u001b[37m\u001b[0m \u001b[1m0s\u001b[0m 768us/step - accuracy: 0.7604 - loss: 0.4202 - val_accuracy: 0.7602 - val_loss: 0.4385\n",
      "Epoch 4/100\n",
      "\u001b[1m166/166\u001b[0m \u001b[32m━━━━━━━━━━━━━━━━━━━━\u001b[0m\u001b[37m\u001b[0m \u001b[1m0s\u001b[0m 762us/step - accuracy: 0.7595 - loss: 0.4125 - val_accuracy: 0.7519 - val_loss: 0.4448\n",
      "Epoch 5/100\n",
      "\u001b[1m166/166\u001b[0m \u001b[32m━━━━━━━━━━━━━━━━━━━━\u001b[0m\u001b[37m\u001b[0m \u001b[1m0s\u001b[0m 746us/step - accuracy: 0.7592 - loss: 0.3975 - val_accuracy: 0.7602 - val_loss: 0.4381\n",
      "Epoch 6/100\n",
      "\u001b[1m166/166\u001b[0m \u001b[32m━━━━━━━━━━━━━━━━━━━━\u001b[0m\u001b[37m\u001b[0m \u001b[1m0s\u001b[0m 769us/step - accuracy: 0.7692 - loss: 0.3903 - val_accuracy: 0.7610 - val_loss: 0.4384\n",
      "Epoch 7/100\n",
      "\u001b[1m166/166\u001b[0m \u001b[32m━━━━━━━━━━━━━━━━━━━━\u001b[0m\u001b[37m\u001b[0m \u001b[1m0s\u001b[0m 749us/step - accuracy: 0.7570 - loss: 0.4191 - val_accuracy: 0.7602 - val_loss: 0.4384\n",
      "Epoch 8/100\n",
      "\u001b[1m166/166\u001b[0m \u001b[32m━━━━━━━━━━━━━━━━━━━━\u001b[0m\u001b[37m\u001b[0m \u001b[1m0s\u001b[0m 769us/step - accuracy: 0.7662 - loss: 0.3982 - val_accuracy: 0.7602 - val_loss: 0.4384\n",
      "Epoch 9/100\n",
      "\u001b[1m166/166\u001b[0m \u001b[32m━━━━━━━━━━━━━━━━━━━━\u001b[0m\u001b[37m\u001b[0m \u001b[1m0s\u001b[0m 772us/step - accuracy: 0.7667 - loss: 0.4019 - val_accuracy: 0.7602 - val_loss: 0.4385\n",
      "Epoch 10/100\n",
      "\u001b[1m166/166\u001b[0m \u001b[32m━━━━━━━━━━━━━━━━━━━━\u001b[0m\u001b[37m\u001b[0m \u001b[1m0s\u001b[0m 782us/step - accuracy: 0.7651 - loss: 0.4046 - val_accuracy: 0.7602 - val_loss: 0.4385\n",
      "Epoch 11/100\n",
      "\u001b[1m166/166\u001b[0m \u001b[32m━━━━━━━━━━━━━━━━━━━━\u001b[0m\u001b[37m\u001b[0m \u001b[1m0s\u001b[0m 780us/step - accuracy: 0.7675 - loss: 0.3992 - val_accuracy: 0.7602 - val_loss: 0.4385\n",
      "Epoch 12/100\n",
      "\u001b[1m166/166\u001b[0m \u001b[32m━━━━━━━━━━━━━━━━━━━━\u001b[0m\u001b[37m\u001b[0m \u001b[1m0s\u001b[0m 761us/step - accuracy: 0.7543 - loss: 0.4253 - val_accuracy: 0.7602 - val_loss: 0.4386\n",
      "Epoch 13/100\n",
      "\u001b[1m166/166\u001b[0m \u001b[32m━━━━━━━━━━━━━━━━━━━━\u001b[0m\u001b[37m\u001b[0m \u001b[1m0s\u001b[0m 786us/step - accuracy: 0.7696 - loss: 0.3977 - val_accuracy: 0.7602 - val_loss: 0.4386\n",
      "Epoch 14/100\n",
      "\u001b[1m166/166\u001b[0m \u001b[32m━━━━━━━━━━━━━━━━━━━━\u001b[0m\u001b[37m\u001b[0m \u001b[1m0s\u001b[0m 794us/step - accuracy: 0.7538 - loss: 0.4069 - val_accuracy: 0.7602 - val_loss: 0.4386\n",
      "Epoch 15/100\n",
      "\u001b[1m166/166\u001b[0m \u001b[32m━━━━━━━━━━━━━━━━━━━━\u001b[0m\u001b[37m\u001b[0m \u001b[1m0s\u001b[0m 773us/step - accuracy: 0.7612 - loss: 0.4187 - val_accuracy: 0.7602 - val_loss: 0.4386\n",
      "Epoch 16/100\n",
      "\u001b[1m166/166\u001b[0m \u001b[32m━━━━━━━━━━━━━━━━━━━━\u001b[0m\u001b[37m\u001b[0m \u001b[1m0s\u001b[0m 760us/step - accuracy: 0.7651 - loss: 0.4084 - val_accuracy: 0.7602 - val_loss: 0.4386\n",
      "Epoch 17/100\n",
      "\u001b[1m166/166\u001b[0m \u001b[32m━━━━━━━━━━━━━━━━━━━━\u001b[0m\u001b[37m\u001b[0m \u001b[1m0s\u001b[0m 771us/step - accuracy: 0.7525 - loss: 0.4315 - val_accuracy: 0.7602 - val_loss: 0.4387\n",
      "Epoch 18/100\n",
      "\u001b[1m166/166\u001b[0m \u001b[32m━━━━━━━━━━━━━━━━━━━━\u001b[0m\u001b[37m\u001b[0m \u001b[1m0s\u001b[0m 780us/step - accuracy: 0.7629 - loss: 0.3893 - val_accuracy: 0.7602 - val_loss: 0.4387\n",
      "Epoch 19/100\n",
      "\u001b[1m166/166\u001b[0m \u001b[32m━━━━━━━━━━━━━━━━━━━━\u001b[0m\u001b[37m\u001b[0m \u001b[1m0s\u001b[0m 752us/step - accuracy: 0.7570 - loss: 0.4154 - val_accuracy: 0.7602 - val_loss: 0.4387\n",
      "Epoch 20/100\n",
      "\u001b[1m166/166\u001b[0m \u001b[32m━━━━━━━━━━━━━━━━━━━━\u001b[0m\u001b[37m\u001b[0m \u001b[1m0s\u001b[0m 755us/step - accuracy: 0.7637 - loss: 0.4169 - val_accuracy: 0.7602 - val_loss: 0.4387\n",
      "Epoch 21/100\n",
      "\u001b[1m166/166\u001b[0m \u001b[32m━━━━━━━━━━━━━━━━━━━━\u001b[0m\u001b[37m\u001b[0m \u001b[1m0s\u001b[0m 752us/step - accuracy: 0.7618 - loss: 0.4080 - val_accuracy: 0.7602 - val_loss: 0.4387\n",
      "Epoch 22/100\n",
      "\u001b[1m166/166\u001b[0m \u001b[32m━━━━━━━━━━━━━━━━━━━━\u001b[0m\u001b[37m\u001b[0m \u001b[1m0s\u001b[0m 775us/step - accuracy: 0.7562 - loss: 0.4256 - val_accuracy: 0.7602 - val_loss: 0.4387\n",
      "Epoch 23/100\n",
      "\u001b[1m166/166\u001b[0m \u001b[32m━━━━━━━━━━━━━━━━━━━━\u001b[0m\u001b[37m\u001b[0m \u001b[1m0s\u001b[0m 757us/step - accuracy: 0.7626 - loss: 0.4037 - val_accuracy: 0.7602 - val_loss: 0.4387\n",
      "Epoch 24/100\n",
      "\u001b[1m166/166\u001b[0m \u001b[32m━━━━━━━━━━━━━━━━━━━━\u001b[0m\u001b[37m\u001b[0m \u001b[1m0s\u001b[0m 744us/step - accuracy: 0.7652 - loss: 0.4123 - val_accuracy: 0.7602 - val_loss: 0.4387\n",
      "Epoch 25/100\n",
      "\u001b[1m166/166\u001b[0m \u001b[32m━━━━━━━━━━━━━━━━━━━━\u001b[0m\u001b[37m\u001b[0m \u001b[1m0s\u001b[0m 750us/step - accuracy: 0.7531 - loss: 0.4136 - val_accuracy: 0.7602 - val_loss: 0.4387\n",
      "Epoch 26/100\n",
      "\u001b[1m166/166\u001b[0m \u001b[32m━━━━━━━━━━━━━━━━━━━━\u001b[0m\u001b[37m\u001b[0m \u001b[1m0s\u001b[0m 751us/step - accuracy: 0.7582 - loss: 0.4169 - val_accuracy: 0.7602 - val_loss: 0.4387\n",
      "Epoch 27/100\n",
      "\u001b[1m166/166\u001b[0m \u001b[32m━━━━━━━━━━━━━━━━━━━━\u001b[0m\u001b[37m\u001b[0m \u001b[1m0s\u001b[0m 749us/step - accuracy: 0.7596 - loss: 0.4226 - val_accuracy: 0.7602 - val_loss: 0.4387\n",
      "Epoch 28/100\n",
      "\u001b[1m166/166\u001b[0m \u001b[32m━━━━━━━━━━━━━━━━━━━━\u001b[0m\u001b[37m\u001b[0m \u001b[1m0s\u001b[0m 740us/step - accuracy: 0.7476 - loss: 0.4265 - val_accuracy: 0.7602 - val_loss: 0.4388\n",
      "Epoch 29/100\n",
      "\u001b[1m166/166\u001b[0m \u001b[32m━━━━━━━━━━━━━━━━━━━━\u001b[0m\u001b[37m\u001b[0m \u001b[1m0s\u001b[0m 748us/step - accuracy: 0.7571 - loss: 0.4113 - val_accuracy: 0.7602 - val_loss: 0.4388\n",
      "Epoch 30/100\n",
      "\u001b[1m166/166\u001b[0m \u001b[32m━━━━━━━━━━━━━━━━━━━━\u001b[0m\u001b[37m\u001b[0m \u001b[1m0s\u001b[0m 742us/step - accuracy: 0.7566 - loss: 0.4041 - val_accuracy: 0.7602 - val_loss: 0.4388\n",
      "Epoch 31/100\n",
      "\u001b[1m166/166\u001b[0m \u001b[32m━━━━━━━━━━━━━━━━━━━━\u001b[0m\u001b[37m\u001b[0m \u001b[1m0s\u001b[0m 742us/step - accuracy: 0.7645 - loss: 0.3951 - val_accuracy: 0.7602 - val_loss: 0.4388\n",
      "Epoch 32/100\n",
      "\u001b[1m166/166\u001b[0m \u001b[32m━━━━━━━━━━━━━━━━━━━━\u001b[0m\u001b[37m\u001b[0m \u001b[1m0s\u001b[0m 754us/step - accuracy: 0.7615 - loss: 0.4041 - val_accuracy: 0.7602 - val_loss: 0.4388\n",
      "Epoch 33/100\n",
      "\u001b[1m166/166\u001b[0m \u001b[32m━━━━━━━━━━━━━━━━━━━━\u001b[0m\u001b[37m\u001b[0m \u001b[1m0s\u001b[0m 844us/step - accuracy: 0.7695 - loss: 0.3927 - val_accuracy: 0.7602 - val_loss: 0.4388\n",
      "Epoch 34/100\n",
      "\u001b[1m166/166\u001b[0m \u001b[32m━━━━━━━━━━━━━━━━━━━━\u001b[0m\u001b[37m\u001b[0m \u001b[1m0s\u001b[0m 796us/step - accuracy: 0.7609 - loss: 0.3952 - val_accuracy: 0.7602 - val_loss: 0.4388\n",
      "Epoch 35/100\n",
      "\u001b[1m166/166\u001b[0m \u001b[32m━━━━━━━━━━━━━━━━━━━━\u001b[0m\u001b[37m\u001b[0m \u001b[1m0s\u001b[0m 759us/step - accuracy: 0.7561 - loss: 0.4199 - val_accuracy: 0.7602 - val_loss: 0.4388\n",
      "Epoch 36/100\n",
      "\u001b[1m166/166\u001b[0m \u001b[32m━━━━━━━━━━━━━━━━━━━━\u001b[0m\u001b[37m\u001b[0m \u001b[1m0s\u001b[0m 766us/step - accuracy: 0.7656 - loss: 0.3910 - val_accuracy: 0.7602 - val_loss: 0.4388\n",
      "Epoch 37/100\n",
      "\u001b[1m166/166\u001b[0m \u001b[32m━━━━━━━━━━━━━━━━━━━━\u001b[0m\u001b[37m\u001b[0m \u001b[1m0s\u001b[0m 764us/step - accuracy: 0.7641 - loss: 0.4051 - val_accuracy: 0.7602 - val_loss: 0.4388\n",
      "Epoch 38/100\n",
      "\u001b[1m166/166\u001b[0m \u001b[32m━━━━━━━━━━━━━━━━━━━━\u001b[0m\u001b[37m\u001b[0m \u001b[1m0s\u001b[0m 755us/step - accuracy: 0.7600 - loss: 0.4039 - val_accuracy: 0.7602 - val_loss: 0.4388\n",
      "Epoch 39/100\n",
      "\u001b[1m166/166\u001b[0m \u001b[32m━━━━━━━━━━━━━━━━━━━━\u001b[0m\u001b[37m\u001b[0m \u001b[1m0s\u001b[0m 746us/step - accuracy: 0.7654 - loss: 0.3787 - val_accuracy: 0.7602 - val_loss: 0.4388\n",
      "Epoch 40/100\n",
      "\u001b[1m166/166\u001b[0m \u001b[32m━━━━━━━━━━━━━━━━━━━━\u001b[0m\u001b[37m\u001b[0m \u001b[1m0s\u001b[0m 754us/step - accuracy: 0.7588 - loss: 0.4148 - val_accuracy: 0.7602 - val_loss: 0.4388\n",
      "Epoch 41/100\n",
      "\u001b[1m166/166\u001b[0m \u001b[32m━━━━━━━━━━━━━━━━━━━━\u001b[0m\u001b[37m\u001b[0m \u001b[1m0s\u001b[0m 753us/step - accuracy: 0.7648 - loss: 0.3984 - val_accuracy: 0.7602 - val_loss: 0.4388\n",
      "Epoch 42/100\n",
      "\u001b[1m166/166\u001b[0m \u001b[32m━━━━━━━━━━━━━━━━━━━━\u001b[0m\u001b[37m\u001b[0m \u001b[1m0s\u001b[0m 760us/step - accuracy: 0.7636 - loss: 0.4025 - val_accuracy: 0.7602 - val_loss: 0.4388\n",
      "Epoch 43/100\n",
      "\u001b[1m166/166\u001b[0m \u001b[32m━━━━━━━━━━━━━━━━━━━━\u001b[0m\u001b[37m\u001b[0m \u001b[1m0s\u001b[0m 754us/step - accuracy: 0.7676 - loss: 0.3920 - val_accuracy: 0.7602 - val_loss: 0.4388\n",
      "Epoch 44/100\n",
      "\u001b[1m166/166\u001b[0m \u001b[32m━━━━━━━━━━━━━━━━━━━━\u001b[0m\u001b[37m\u001b[0m \u001b[1m0s\u001b[0m 751us/step - accuracy: 0.7671 - loss: 0.3944 - val_accuracy: 0.7602 - val_loss: 0.4388\n",
      "Epoch 45/100\n",
      "\u001b[1m166/166\u001b[0m \u001b[32m━━━━━━━━━━━━━━━━━━━━\u001b[0m\u001b[37m\u001b[0m \u001b[1m0s\u001b[0m 742us/step - accuracy: 0.7533 - loss: 0.4194 - val_accuracy: 0.7602 - val_loss: 0.4388\n",
      "Epoch 46/100\n",
      "\u001b[1m166/166\u001b[0m \u001b[32m━━━━━━━━━━━━━━━━━━━━\u001b[0m\u001b[37m\u001b[0m \u001b[1m0s\u001b[0m 749us/step - accuracy: 0.7557 - loss: 0.4073 - val_accuracy: 0.7602 - val_loss: 0.4388\n",
      "Epoch 47/100\n",
      "\u001b[1m166/166\u001b[0m \u001b[32m━━━━━━━━━━━━━━━━━━━━\u001b[0m\u001b[37m\u001b[0m \u001b[1m0s\u001b[0m 755us/step - accuracy: 0.7655 - loss: 0.3968 - val_accuracy: 0.7602 - val_loss: 0.4388\n",
      "Epoch 48/100\n",
      "\u001b[1m166/166\u001b[0m \u001b[32m━━━━━━━━━━━━━━━━━━━━\u001b[0m\u001b[37m\u001b[0m \u001b[1m0s\u001b[0m 749us/step - accuracy: 0.7597 - loss: 0.4122 - val_accuracy: 0.7602 - val_loss: 0.4388\n",
      "Epoch 49/100\n",
      "\u001b[1m166/166\u001b[0m \u001b[32m━━━━━━━━━━━━━━━━━━━━\u001b[0m\u001b[37m\u001b[0m \u001b[1m0s\u001b[0m 747us/step - accuracy: 0.7575 - loss: 0.4166 - val_accuracy: 0.7602 - val_loss: 0.4388\n",
      "Epoch 50/100\n",
      "\u001b[1m166/166\u001b[0m \u001b[32m━━━━━━━━━━━━━━━━━━━━\u001b[0m\u001b[37m\u001b[0m \u001b[1m0s\u001b[0m 772us/step - accuracy: 0.7640 - loss: 0.3817 - val_accuracy: 0.7602 - val_loss: 0.4388\n",
      "Epoch 51/100\n",
      "\u001b[1m166/166\u001b[0m \u001b[32m━━━━━━━━━━━━━━━━━━━━\u001b[0m\u001b[37m\u001b[0m \u001b[1m0s\u001b[0m 752us/step - accuracy: 0.7578 - loss: 0.4098 - val_accuracy: 0.7602 - val_loss: 0.4388\n",
      "Epoch 52/100\n",
      "\u001b[1m166/166\u001b[0m \u001b[32m━━━━━━━━━━━━━━━━━━━━\u001b[0m\u001b[37m\u001b[0m \u001b[1m0s\u001b[0m 742us/step - accuracy: 0.7598 - loss: 0.4023 - val_accuracy: 0.7602 - val_loss: 0.4388\n",
      "Epoch 53/100\n",
      "\u001b[1m166/166\u001b[0m \u001b[32m━━━━━━━━━━━━━━━━━━━━\u001b[0m\u001b[37m\u001b[0m \u001b[1m0s\u001b[0m 747us/step - accuracy: 0.7533 - loss: 0.4296 - val_accuracy: 0.7602 - val_loss: 0.4388\n",
      "Epoch 54/100\n",
      "\u001b[1m166/166\u001b[0m \u001b[32m━━━━━━━━━━━━━━━━━━━━\u001b[0m\u001b[37m\u001b[0m \u001b[1m0s\u001b[0m 749us/step - accuracy: 0.7656 - loss: 0.4038 - val_accuracy: 0.7602 - val_loss: 0.4388\n",
      "Epoch 55/100\n",
      "\u001b[1m166/166\u001b[0m \u001b[32m━━━━━━━━━━━━━━━━━━━━\u001b[0m\u001b[37m\u001b[0m \u001b[1m0s\u001b[0m 752us/step - accuracy: 0.7567 - loss: 0.4189 - val_accuracy: 0.7602 - val_loss: 0.4388\n",
      "Epoch 56/100\n",
      "\u001b[1m166/166\u001b[0m \u001b[32m━━━━━━━━━━━━━━━━━━━━\u001b[0m\u001b[37m\u001b[0m \u001b[1m0s\u001b[0m 757us/step - accuracy: 0.7588 - loss: 0.4163 - val_accuracy: 0.7602 - val_loss: 0.4388\n",
      "Epoch 57/100\n",
      "\u001b[1m166/166\u001b[0m \u001b[32m━━━━━━━━━━━━━━━━━━━━\u001b[0m\u001b[37m\u001b[0m \u001b[1m0s\u001b[0m 745us/step - accuracy: 0.7669 - loss: 0.3828 - val_accuracy: 0.7602 - val_loss: 0.4388\n",
      "Epoch 58/100\n",
      "\u001b[1m166/166\u001b[0m \u001b[32m━━━━━━━━━━━━━━━━━━━━\u001b[0m\u001b[37m\u001b[0m \u001b[1m0s\u001b[0m 753us/step - accuracy: 0.7610 - loss: 0.4097 - val_accuracy: 0.7602 - val_loss: 0.4388\n",
      "Epoch 59/100\n",
      "\u001b[1m166/166\u001b[0m \u001b[32m━━━━━━━━━━━━━━━━━━━━\u001b[0m\u001b[37m\u001b[0m \u001b[1m0s\u001b[0m 750us/step - accuracy: 0.7632 - loss: 0.3868 - val_accuracy: 0.7602 - val_loss: 0.4388\n",
      "Epoch 60/100\n",
      "\u001b[1m166/166\u001b[0m \u001b[32m━━━━━━━━━━━━━━━━━━━━\u001b[0m\u001b[37m\u001b[0m \u001b[1m0s\u001b[0m 749us/step - accuracy: 0.7556 - loss: 0.4130 - val_accuracy: 0.7602 - val_loss: 0.4388\n",
      "Epoch 61/100\n",
      "\u001b[1m166/166\u001b[0m \u001b[32m━━━━━━━━━━━━━━━━━━━━\u001b[0m\u001b[37m\u001b[0m \u001b[1m0s\u001b[0m 758us/step - accuracy: 0.7621 - loss: 0.3973 - val_accuracy: 0.7602 - val_loss: 0.4388\n",
      "Epoch 62/100\n",
      "\u001b[1m166/166\u001b[0m \u001b[32m━━━━━━━━━━━━━━━━━━━━\u001b[0m\u001b[37m\u001b[0m \u001b[1m0s\u001b[0m 756us/step - accuracy: 0.7641 - loss: 0.4084 - val_accuracy: 0.7602 - val_loss: 0.4388\n",
      "Epoch 63/100\n",
      "\u001b[1m166/166\u001b[0m \u001b[32m━━━━━━━━━━━━━━━━━━━━\u001b[0m\u001b[37m\u001b[0m \u001b[1m0s\u001b[0m 754us/step - accuracy: 0.7651 - loss: 0.3904 - val_accuracy: 0.7602 - val_loss: 0.4388\n",
      "Epoch 64/100\n",
      "\u001b[1m166/166\u001b[0m \u001b[32m━━━━━━━━━━━━━━━━━━━━\u001b[0m\u001b[37m\u001b[0m \u001b[1m0s\u001b[0m 774us/step - accuracy: 0.7639 - loss: 0.3966 - val_accuracy: 0.7602 - val_loss: 0.4388\n",
      "Epoch 65/100\n",
      "\u001b[1m166/166\u001b[0m \u001b[32m━━━━━━━━━━━━━━━━━━━━\u001b[0m\u001b[37m\u001b[0m \u001b[1m0s\u001b[0m 787us/step - accuracy: 0.7460 - loss: 0.4413 - val_accuracy: 0.7602 - val_loss: 0.4388\n",
      "Epoch 66/100\n",
      "\u001b[1m166/166\u001b[0m \u001b[32m━━━━━━━━━━━━━━━━━━━━\u001b[0m\u001b[37m\u001b[0m \u001b[1m0s\u001b[0m 759us/step - accuracy: 0.7614 - loss: 0.4124 - val_accuracy: 0.7602 - val_loss: 0.4388\n",
      "Epoch 67/100\n",
      "\u001b[1m166/166\u001b[0m \u001b[32m━━━━━━━━━━━━━━━━━━━━\u001b[0m\u001b[37m\u001b[0m \u001b[1m0s\u001b[0m 757us/step - accuracy: 0.7579 - loss: 0.4196 - val_accuracy: 0.7602 - val_loss: 0.4388\n",
      "Epoch 68/100\n",
      "\u001b[1m166/166\u001b[0m \u001b[32m━━━━━━━━━━━━━━━━━━━━\u001b[0m\u001b[37m\u001b[0m \u001b[1m0s\u001b[0m 751us/step - accuracy: 0.7581 - loss: 0.4208 - val_accuracy: 0.7602 - val_loss: 0.4388\n",
      "Epoch 69/100\n",
      "\u001b[1m166/166\u001b[0m \u001b[32m━━━━━━━━━━━━━━━━━━━━\u001b[0m\u001b[37m\u001b[0m \u001b[1m0s\u001b[0m 747us/step - accuracy: 0.7687 - loss: 0.3825 - val_accuracy: 0.7602 - val_loss: 0.4388\n",
      "Epoch 70/100\n",
      "\u001b[1m166/166\u001b[0m \u001b[32m━━━━━━━━━━━━━━━━━━━━\u001b[0m\u001b[37m\u001b[0m \u001b[1m0s\u001b[0m 761us/step - accuracy: 0.7523 - loss: 0.4256 - val_accuracy: 0.7602 - val_loss: 0.4388\n",
      "Epoch 71/100\n",
      "\u001b[1m166/166\u001b[0m \u001b[32m━━━━━━━━━━━━━━━━━━━━\u001b[0m\u001b[37m\u001b[0m \u001b[1m0s\u001b[0m 754us/step - accuracy: 0.7549 - loss: 0.4257 - val_accuracy: 0.7602 - val_loss: 0.4388\n",
      "Epoch 72/100\n",
      "\u001b[1m166/166\u001b[0m \u001b[32m━━━━━━━━━━━━━━━━━━━━\u001b[0m\u001b[37m\u001b[0m \u001b[1m0s\u001b[0m 754us/step - accuracy: 0.7614 - loss: 0.4125 - val_accuracy: 0.7602 - val_loss: 0.4388\n",
      "Epoch 73/100\n",
      "\u001b[1m166/166\u001b[0m \u001b[32m━━━━━━━━━━━━━━━━━━━━\u001b[0m\u001b[37m\u001b[0m \u001b[1m0s\u001b[0m 755us/step - accuracy: 0.7682 - loss: 0.3940 - val_accuracy: 0.7602 - val_loss: 0.4388\n",
      "Epoch 74/100\n",
      "\u001b[1m166/166\u001b[0m \u001b[32m━━━━━━━━━━━━━━━━━━━━\u001b[0m\u001b[37m\u001b[0m \u001b[1m0s\u001b[0m 738us/step - accuracy: 0.7651 - loss: 0.4060 - val_accuracy: 0.7602 - val_loss: 0.4388\n",
      "Epoch 75/100\n",
      "\u001b[1m166/166\u001b[0m \u001b[32m━━━━━━━━━━━━━━━━━━━━\u001b[0m\u001b[37m\u001b[0m \u001b[1m0s\u001b[0m 752us/step - accuracy: 0.7598 - loss: 0.4107 - val_accuracy: 0.7602 - val_loss: 0.4388\n",
      "Epoch 76/100\n",
      "\u001b[1m166/166\u001b[0m \u001b[32m━━━━━━━━━━━━━━━━━━━━\u001b[0m\u001b[37m\u001b[0m \u001b[1m0s\u001b[0m 754us/step - accuracy: 0.7594 - loss: 0.4062 - val_accuracy: 0.7602 - val_loss: 0.4388\n",
      "Epoch 77/100\n",
      "\u001b[1m166/166\u001b[0m \u001b[32m━━━━━━━━━━━━━━━━━━━━\u001b[0m\u001b[37m\u001b[0m \u001b[1m0s\u001b[0m 753us/step - accuracy: 0.7695 - loss: 0.3940 - val_accuracy: 0.7602 - val_loss: 0.4388\n",
      "Epoch 78/100\n",
      "\u001b[1m166/166\u001b[0m \u001b[32m━━━━━━━━━━━━━━━━━━━━\u001b[0m\u001b[37m\u001b[0m \u001b[1m0s\u001b[0m 760us/step - accuracy: 0.7661 - loss: 0.3960 - val_accuracy: 0.7602 - val_loss: 0.4388\n",
      "Epoch 79/100\n",
      "\u001b[1m166/166\u001b[0m \u001b[32m━━━━━━━━━━━━━━━━━━━━\u001b[0m\u001b[37m\u001b[0m \u001b[1m0s\u001b[0m 776us/step - accuracy: 0.7651 - loss: 0.3968 - val_accuracy: 0.7602 - val_loss: 0.4388\n",
      "Epoch 80/100\n",
      "\u001b[1m166/166\u001b[0m \u001b[32m━━━━━━━━━━━━━━━━━━━━\u001b[0m\u001b[37m\u001b[0m \u001b[1m0s\u001b[0m 751us/step - accuracy: 0.7717 - loss: 0.3803 - val_accuracy: 0.7602 - val_loss: 0.4388\n",
      "Epoch 81/100\n",
      "\u001b[1m166/166\u001b[0m \u001b[32m━━━━━━━━━━━━━━━━━━━━\u001b[0m\u001b[37m\u001b[0m \u001b[1m0s\u001b[0m 740us/step - accuracy: 0.7613 - loss: 0.4127 - val_accuracy: 0.7602 - val_loss: 0.4388\n",
      "Epoch 82/100\n",
      "\u001b[1m166/166\u001b[0m \u001b[32m━━━━━━━━━━━━━━━━━━━━\u001b[0m\u001b[37m\u001b[0m \u001b[1m0s\u001b[0m 752us/step - accuracy: 0.7567 - loss: 0.4337 - val_accuracy: 0.7602 - val_loss: 0.4388\n",
      "Epoch 83/100\n",
      "\u001b[1m166/166\u001b[0m \u001b[32m━━━━━━━━━━━━━━━━━━━━\u001b[0m\u001b[37m\u001b[0m \u001b[1m0s\u001b[0m 740us/step - accuracy: 0.7480 - loss: 0.4208 - val_accuracy: 0.7602 - val_loss: 0.4388\n",
      "Epoch 84/100\n",
      "\u001b[1m166/166\u001b[0m \u001b[32m━━━━━━━━━━━━━━━━━━━━\u001b[0m\u001b[37m\u001b[0m \u001b[1m0s\u001b[0m 751us/step - accuracy: 0.7668 - loss: 0.3948 - val_accuracy: 0.7602 - val_loss: 0.4388\n",
      "Epoch 85/100\n",
      "\u001b[1m166/166\u001b[0m \u001b[32m━━━━━━━━━━━━━━━━━━━━\u001b[0m\u001b[37m\u001b[0m \u001b[1m0s\u001b[0m 755us/step - accuracy: 0.7562 - loss: 0.4083 - val_accuracy: 0.7602 - val_loss: 0.4388\n",
      "Epoch 86/100\n",
      "\u001b[1m166/166\u001b[0m \u001b[32m━━━━━━━━━━━━━━━━━━━━\u001b[0m\u001b[37m\u001b[0m \u001b[1m0s\u001b[0m 750us/step - accuracy: 0.7566 - loss: 0.4035 - val_accuracy: 0.7602 - val_loss: 0.4388\n",
      "Epoch 87/100\n",
      "\u001b[1m166/166\u001b[0m \u001b[32m━━━━━━━━━━━━━━━━━━━━\u001b[0m\u001b[37m\u001b[0m \u001b[1m0s\u001b[0m 756us/step - accuracy: 0.7564 - loss: 0.3963 - val_accuracy: 0.7602 - val_loss: 0.4388\n",
      "Epoch 88/100\n",
      "\u001b[1m166/166\u001b[0m \u001b[32m━━━━━━━━━━━━━━━━━━━━\u001b[0m\u001b[37m\u001b[0m \u001b[1m0s\u001b[0m 753us/step - accuracy: 0.7566 - loss: 0.4090 - val_accuracy: 0.7602 - val_loss: 0.4388\n",
      "Epoch 89/100\n",
      "\u001b[1m166/166\u001b[0m \u001b[32m━━━━━━━━━━━━━━━━━━━━\u001b[0m\u001b[37m\u001b[0m \u001b[1m0s\u001b[0m 749us/step - accuracy: 0.7497 - loss: 0.4166 - val_accuracy: 0.7602 - val_loss: 0.4388\n",
      "Epoch 90/100\n",
      "\u001b[1m166/166\u001b[0m \u001b[32m━━━━━━━━━━━━━━━━━━━━\u001b[0m\u001b[37m\u001b[0m \u001b[1m0s\u001b[0m 745us/step - accuracy: 0.7571 - loss: 0.4106 - val_accuracy: 0.7602 - val_loss: 0.4388\n",
      "Epoch 91/100\n",
      "\u001b[1m166/166\u001b[0m \u001b[32m━━━━━━━━━━━━━━━━━━━━\u001b[0m\u001b[37m\u001b[0m \u001b[1m0s\u001b[0m 838us/step - accuracy: 0.7657 - loss: 0.3839 - val_accuracy: 0.7602 - val_loss: 0.4388\n",
      "Epoch 92/100\n",
      "\u001b[1m166/166\u001b[0m \u001b[32m━━━━━━━━━━━━━━━━━━━━\u001b[0m\u001b[37m\u001b[0m \u001b[1m0s\u001b[0m 752us/step - accuracy: 0.7609 - loss: 0.4098 - val_accuracy: 0.7602 - val_loss: 0.4388\n",
      "Epoch 93/100\n",
      "\u001b[1m166/166\u001b[0m \u001b[32m━━━━━━━━━━━━━━━━━━━━\u001b[0m\u001b[37m\u001b[0m \u001b[1m0s\u001b[0m 757us/step - accuracy: 0.7583 - loss: 0.4256 - val_accuracy: 0.7602 - val_loss: 0.4388\n",
      "Epoch 94/100\n",
      "\u001b[1m166/166\u001b[0m \u001b[32m━━━━━━━━━━━━━━━━━━━━\u001b[0m\u001b[37m\u001b[0m \u001b[1m0s\u001b[0m 773us/step - accuracy: 0.7587 - loss: 0.3926 - val_accuracy: 0.7602 - val_loss: 0.4388\n",
      "Epoch 95/100\n",
      "\u001b[1m166/166\u001b[0m \u001b[32m━━━━━━━━━━━━━━━━━━━━\u001b[0m\u001b[37m\u001b[0m \u001b[1m0s\u001b[0m 753us/step - accuracy: 0.7517 - loss: 0.4215 - val_accuracy: 0.7602 - val_loss: 0.4388\n",
      "Epoch 96/100\n",
      "\u001b[1m166/166\u001b[0m \u001b[32m━━━━━━━━━━━━━━━━━━━━\u001b[0m\u001b[37m\u001b[0m \u001b[1m0s\u001b[0m 756us/step - accuracy: 0.7636 - loss: 0.4055 - val_accuracy: 0.7602 - val_loss: 0.4388\n",
      "Epoch 97/100\n",
      "\u001b[1m166/166\u001b[0m \u001b[32m━━━━━━━━━━━━━━━━━━━━\u001b[0m\u001b[37m\u001b[0m \u001b[1m0s\u001b[0m 749us/step - accuracy: 0.7602 - loss: 0.3981 - val_accuracy: 0.7602 - val_loss: 0.4388\n",
      "Epoch 98/100\n",
      "\u001b[1m166/166\u001b[0m \u001b[32m━━━━━━━━━━━━━━━━━━━━\u001b[0m\u001b[37m\u001b[0m \u001b[1m0s\u001b[0m 755us/step - accuracy: 0.7619 - loss: 0.3983 - val_accuracy: 0.7602 - val_loss: 0.4388\n",
      "Epoch 99/100\n",
      "\u001b[1m166/166\u001b[0m \u001b[32m━━━━━━━━━━━━━━━━━━━━\u001b[0m\u001b[37m\u001b[0m \u001b[1m0s\u001b[0m 755us/step - accuracy: 0.7577 - loss: 0.4076 - val_accuracy: 0.7602 - val_loss: 0.4388\n",
      "Epoch 100/100\n",
      "\u001b[1m166/166\u001b[0m \u001b[32m━━━━━━━━━━━━━━━━━━━━\u001b[0m\u001b[37m\u001b[0m \u001b[1m0s\u001b[0m 749us/step - accuracy: 0.7683 - loss: 0.3937 - val_accuracy: 0.7602 - val_loss: 0.4388\n"
     ]
    },
    {
     "data": {
      "text/plain": [
       "<keras.src.callbacks.history.History at 0x1e653ffc370>"
      ]
     },
     "execution_count": 22,
     "metadata": {},
     "output_type": "execute_result"
    }
   ],
   "source": [
    "model.fit(X_train_scaled, y_train_encoded, epochs=100, batch_size=32, validation_split=0.2)"
   ]
  },
  {
   "cell_type": "code",
   "execution_count": 23,
   "metadata": {},
   "outputs": [
    {
     "name": "stdout",
     "output_type": "stream",
     "text": [
      "69/69 - 0s - 596us/step - accuracy: 0.7600 - loss: 0.4125\n",
      "Loss: 0.41251739859580994, Accuracy: 0.7599818706512451\n"
     ]
    }
   ],
   "source": [
    "# Evaluate the model using the test data\n",
    "model_loss, model_accuracy = model.evaluate(X_test_scaled,y_test_encoded,verbose=2)\n",
    "print(f\"Loss: {model_loss}, Accuracy: {model_accuracy}\")"
   ]
  },
  {
   "cell_type": "code",
   "execution_count": 24,
   "metadata": {},
   "outputs": [
    {
     "name": "stderr",
     "output_type": "stream",
     "text": [
      "WARNING:absl:You are saving your model as an HDF5 file via `model.save()` or `keras.saving.save_model(model)`. This file format is considered legacy. We recommend using instead the native Keras format, e.g. `model.save('my_model.keras')` or `keras.saving.save_model(model, 'my_model.keras')`. \n"
     ]
    }
   ],
   "source": [
    "#save NN\n",
    "model.save(\"TEA_Accountability.h5\")"
   ]
  }
 ],
 "metadata": {
  "kernelspec": {
   "display_name": "Python 3",
   "language": "python",
   "name": "python3"
  },
  "language_info": {
   "codemirror_mode": {
    "name": "ipython",
    "version": 3
   },
   "file_extension": ".py",
   "mimetype": "text/x-python",
   "name": "python",
   "nbconvert_exporter": "python",
   "pygments_lexer": "ipython3",
   "version": "3.9.18"
  }
 },
 "nbformat": 4,
 "nbformat_minor": 2
}
